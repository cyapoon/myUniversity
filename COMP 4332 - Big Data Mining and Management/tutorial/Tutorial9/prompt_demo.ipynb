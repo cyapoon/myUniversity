{
 "cells": [
  {
   "cell_type": "code",
   "execution_count": null,
   "id": "755c8bb7",
   "metadata": {},
   "outputs": [
    {
     "name": "stdout",
     "output_type": "stream",
     "text": [
      "Review: Poor quality, broke after a week!\n",
      "Response: {\"sentiment\": \"negative\", \"explanation\": \"The review indicates dissatisfaction with the product's quality and mentions it broke quickly, reflecting a negative experience.\"}\n",
      "Review: Average product, does the job but nothing special.\n",
      "Response: {\"sentiment\": \"neutral\", \"explanation\": \"The review indicates that the product is satisfactory but lacks any strong positive or negative feelings, suggesting an average experience.\"}\n"
     ]
    }
   ],
   "source": [
    "import json\n",
    "from openai import AzureOpenAI\n",
    "\n",
    "\n",
    "reviews = [\n",
    "    \"Poor quality, broke after a week!\",\n",
    "    \"Average product, does the job but nothing special.\"\n",
    "]\n",
    "\n",
    "with open(\"api_key.json\", \"r\", encoding=\"utf8\") as f:\n",
    "    api_key = json.load(f)\n",
    "    api_key = api_key[\"api_key\"]\n",
    "    \n",
    "client = AzureOpenAI(\n",
    "    api_version=\"2023-05-15\",\n",
    "    azure_endpoint=\"https://hkust.azure-api.net\",\n",
    "    api_key=api_key\n",
    ")\n",
    "\n",
    "prompt = \"\"\"You are a sentiment analysis agent for product reviews. Your task is to analyze a customer review for a product and classify the sentiment of the review as one of the following: \"positive,\" \"negative,\" or \"neutral.\" For the review, provide a brief explanation (1-2 sentences) justifying the sentiment classification. \n",
    "\n",
    "Return a JSON string with two keys: \n",
    " - \"sentiment\": The sentiment label (\"positive\", \"negative\", or \"neutral\").\n",
    " - \"explanation\": A brief explanation for the sentiment classification. \n",
    "Example:\n",
    "Input: This phone is fantastic!\n",
    "Output: {{“sentiment”: “positive”, “explanation”: \"The review expresses strong enthusiasm for the phone, indicating a positive opinion.\"}}\n",
    "Input reviews: {review}\n",
    "Output only the JSON string, with on additional text.\n",
    "\"\"\"\n",
    "\n",
    "for review in reviews:\n",
    "    response = client.chat.completions.create(\n",
    "        messages=[\n",
    "            {\"role\": \"user\", \"content\": prompt.format(review=review)}\n",
    "        ],\n",
    "        temperature=0.0,\n",
    "        max_tokens=300,\n",
    "        model=\"gpt-4o-mini\"\n",
    "    )\n",
    "    print(f\"Review: {review}\")\n",
    "    print(\"Response:\", response.choices[0].message.content)"
   ]
  }
 ],
 "metadata": {
  "kernelspec": {
   "display_name": "comp4332",
   "language": "python",
   "name": "python3"
  },
  "language_info": {
   "codemirror_mode": {
    "name": "ipython",
    "version": 3
   },
   "file_extension": ".py",
   "mimetype": "text/x-python",
   "name": "python",
   "nbconvert_exporter": "python",
   "pygments_lexer": "ipython3",
   "version": "3.11.11"
  }
 },
 "nbformat": 4,
 "nbformat_minor": 5
}
