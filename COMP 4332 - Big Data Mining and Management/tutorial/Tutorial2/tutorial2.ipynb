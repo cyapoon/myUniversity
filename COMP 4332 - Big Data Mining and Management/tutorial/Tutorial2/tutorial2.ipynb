{
 "cells": [
  {
   "cell_type": "markdown",
   "metadata": {},
   "source": [
    "# PART1. KG Construction"
   ]
  },
  {
   "cell_type": "markdown",
   "metadata": {},
   "source": [
    "# Environment Setup\n",
    "\n",
    "Install the required packages."
   ]
  },
  {
   "cell_type": "code",
   "execution_count": null,
   "metadata": {},
   "outputs": [],
   "source": [
    "%pip install pandas\n",
    "%pip install -U numpy\n",
    "%pip install openai"
   ]
  },
  {
   "cell_type": "markdown",
   "metadata": {},
   "source": [
    "# Load Packages"
   ]
  },
  {
   "cell_type": "code",
   "execution_count": 2,
   "metadata": {},
   "outputs": [],
   "source": [
    "# from openai import OpenAI\n",
    "from openai import AzureOpenAI\n",
    "import pandas as pd\n",
    "import json\n",
    "import re\n",
    "from tqdm import tqdm"
   ]
  },
  {
   "cell_type": "markdown",
   "metadata": {},
   "source": [
    "# Load the Data\n",
    "\n",
    "We will load the dataset containing 1K+ Amazon Product's Ratings and Reviews as per their details listed on the official website of Amazon."
   ]
  },
  {
   "cell_type": "code",
   "execution_count": 3,
   "metadata": {},
   "outputs": [
    {
     "data": {
      "text/html": [
       "<div>\n",
       "<style scoped>\n",
       "    .dataframe tbody tr th:only-of-type {\n",
       "        vertical-align: middle;\n",
       "    }\n",
       "\n",
       "    .dataframe tbody tr th {\n",
       "        vertical-align: top;\n",
       "    }\n",
       "\n",
       "    .dataframe thead th {\n",
       "        text-align: right;\n",
       "    }\n",
       "</style>\n",
       "<table border=\"1\" class=\"dataframe\">\n",
       "  <thead>\n",
       "    <tr style=\"text-align: right;\">\n",
       "      <th></th>\n",
       "      <th>product_id</th>\n",
       "      <th>product_name</th>\n",
       "      <th>about_product</th>\n",
       "    </tr>\n",
       "  </thead>\n",
       "  <tbody>\n",
       "    <tr>\n",
       "      <th>0</th>\n",
       "      <td>B07JW9H4J1</td>\n",
       "      <td>Wayona Nylon Braided USB to Lightning Fast Cha...</td>\n",
       "      <td>High Compatibility : Compatible With iPhone 12...</td>\n",
       "    </tr>\n",
       "    <tr>\n",
       "      <th>1</th>\n",
       "      <td>B098NS6PVG</td>\n",
       "      <td>Ambrane Unbreakable 60W / 3A Fast Charging 1.5...</td>\n",
       "      <td>Compatible with all Type C enabled devices, be...</td>\n",
       "    </tr>\n",
       "    <tr>\n",
       "      <th>2</th>\n",
       "      <td>B096MSW6CT</td>\n",
       "      <td>Sounce Fast Phone Charging Cable &amp; Data Sync U...</td>\n",
       "      <td>【 Fast Charger&amp; Data Sync】-With built-in safet...</td>\n",
       "    </tr>\n",
       "    <tr>\n",
       "      <th>3</th>\n",
       "      <td>B08HDJ86NZ</td>\n",
       "      <td>boAt Deuce USB 300 2 in 1 Type-C &amp; Micro USB S...</td>\n",
       "      <td>The boAt Deuce USB 300 2 in 1 cable is compati...</td>\n",
       "    </tr>\n",
       "    <tr>\n",
       "      <th>4</th>\n",
       "      <td>B08CF3B7N1</td>\n",
       "      <td>Portronics Konnect L 1.2M Fast Charging 3A 8 P...</td>\n",
       "      <td>[CHARGE &amp; SYNC FUNCTION]- This cable comes wit...</td>\n",
       "    </tr>\n",
       "  </tbody>\n",
       "</table>\n",
       "</div>"
      ],
      "text/plain": [
       "   product_id                                       product_name  \\\n",
       "0  B07JW9H4J1  Wayona Nylon Braided USB to Lightning Fast Cha...   \n",
       "1  B098NS6PVG  Ambrane Unbreakable 60W / 3A Fast Charging 1.5...   \n",
       "2  B096MSW6CT  Sounce Fast Phone Charging Cable & Data Sync U...   \n",
       "3  B08HDJ86NZ  boAt Deuce USB 300 2 in 1 Type-C & Micro USB S...   \n",
       "4  B08CF3B7N1  Portronics Konnect L 1.2M Fast Charging 3A 8 P...   \n",
       "\n",
       "                                       about_product  \n",
       "0  High Compatibility : Compatible With iPhone 12...  \n",
       "1  Compatible with all Type C enabled devices, be...  \n",
       "2  【 Fast Charger& Data Sync】-With built-in safet...  \n",
       "3  The boAt Deuce USB 300 2 in 1 cable is compati...  \n",
       "4  [CHARGE & SYNC FUNCTION]- This cable comes wit...  "
      ]
     },
     "execution_count": 3,
     "metadata": {},
     "output_type": "execute_result"
    }
   ],
   "source": [
    "data = pd.read_csv('data/text_data.csv')\n",
    "data.head()"
   ]
  },
  {
   "cell_type": "markdown",
   "metadata": {},
   "source": [
    "# Preliminary\n"
   ]
  },
  {
   "cell_type": "code",
   "execution_count": 4,
   "metadata": {},
   "outputs": [],
   "source": [
    "# ENTITY TYPES\n",
    "entity_types = [\n",
    "    \"product\",\n",
    "    \"material\",\n",
    "    \"brand\",\n",
    "    \"measurement\",\n",
    "    \"color\",\n",
    "    \"characteristic\"\n",
    "]\n",
    "\n",
    "# RELATION TYPES\n",
    "relation_types = [\n",
    "    \"hasCharacteristic\",\n",
    "    \"madeOfMaterial\",\n",
    "    \"hasBrand\",\n",
    "    \"hasMeasurement\",\n",
    "    \"hasColor\",\n",
    "]"
   ]
  },
  {
   "cell_type": "markdown",
   "metadata": {},
   "source": [
    "# Prompt Engineering\n",
    "\n",
    "In system prompt, we provide the following information:\n",
    "1. Task description\n",
    "2. Output description\n",
    "\n",
    "In user prompt, we provide the following information:\n",
    "1. Instruction.\n",
    "2. Example\n"
   ]
  },
  {
   "cell_type": "code",
   "execution_count": 5,
   "metadata": {},
   "outputs": [],
   "source": [
    "system_prompt = \"\"\"You are an expert agent specialized in analyzing product specifications in an online retail store.\n",
    "Your task is to identify the entities and relations requested with the user prompt, from a given product specification.\n",
    "You must generate the output in a JSON containing a list with JOSN objects having the following keys: \"head\", \"head_type\", \"relation\", \"tail\", and \"tail_type\".\n",
    "The \"head\" key must contain the text of the extracted entity with one of the types from the provided list in the user prompt, the \"head_type\"\n",
    "key must contain the type of the extracted head entity which must be one of the types from the provided user list,\n",
    "the \"relation\" key must contain the type of relation between the \"head\" and the \"tail\", the \"tail\" key must represent the text of an\n",
    "extracted entity which is the tail of the relation, and the \"tail_type\" key must contain the type of the tail entity. Attempt to extract as\n",
    "many entities and relations as you can.\n",
    "\"\"\"\n",
    "\n",
    "\n",
    "user_prompt = \"\"\"Based on the following example, extract entities and relations from the provided text.\n",
    "Use the following entity types:\n",
    "# ENTITY TYPES:\n",
    "{entity_types}\n",
    "\n",
    "Use the following relation types:\n",
    "# RELATION TYPES:\n",
    "{relation_types}\n",
    "\n",
    "Example:\n",
    "\n",
    "# TEXT\n",
    "\n",
    "product_name: boAt Wave Call Smart Watch, Smart Talk with Advanced Dedicated Bluetooth Calling Chip, 1.69” HD Display with 550 NITS & 70% Color Gamut, 150+ Watch Faces, Multi-Sport Modes,HR,SpO2, IP68(Active Black)\n",
    "about product: Bluetooth Calling- Wave Call comes with a premium built-in speaker and bluetooth calling via which you can stay connected to your friends, family, and colleagues|Dial Pad- Its dial pad is super responsive and convenient. You can also save upto 10 contacts in this smart watch|Screen Size- Wave Call comes with a 1.69” HD Display that features a bold, bright, and highly responsive 2.5D curved touch interface|Resolution- With 550 nits of brightness get sharper color resolution that brightens your virtual world exponentially.|Design- The ultra slim and lightweight design of the watch is ideal to keep you surfing your wave all day!|Watch Faces- Wave Call comes with 150+ Cloud watchfaces for you to pick from, complementing your every mood and outfit|HR, SpO2 & Breathing- Monitor your heart rate and blood oxygen levels on-the-go with the heart rate and SpO2 monitor. It also comes with Guided Breathing to help you relax and embrace mindfulness.\n",
    "################\n",
    "\n",
    "# OUTPUT\n",
    "[\n",
    "  {{\n",
    "    \"head\": \"boAt Wave Call Smart Watch\",\n",
    "    \"head_type\": \"product\",\n",
    "    \"relation\": \"hasBrand\",\n",
    "    \"tail\": \"boAt\",\n",
    "    \"tail_type\": \"brand\"\n",
    "  }},\n",
    "  {{\n",
    "    \"head\": \"boAt Wave Call Smart Watch\",\n",
    "    \"head_type\": \"product\",\n",
    "    \"relation\": \"hasMeasurement\",\n",
    "    \"tail\": \"1.69” HD Display\",\n",
    "    \"tail_type\": \"measurement\"\n",
    "  }},\n",
    "  {{\n",
    "    \"head\": \"boAt Wave Call Smart Watch\",\n",
    "    \"head_type\": \"product\",\n",
    "    \"relation\": \"hasCharacteristic\",\n",
    "    \"tail\": \"Multi-Sport Modes\",\n",
    "    \"tail_type\": \"characteristic\"\n",
    "  }},\n",
    "  {{\n",
    "    \"head\": \"boAt Wave Call Smart Watch\",\n",
    "    \"head_type\": \"product\",\n",
    "    \"relation\": \"hasColor\",\n",
    "    \"tail\": \"Active Black\",\n",
    "    \"tail_type\": \"color\"\n",
    "  }},\n",
    "  {{\n",
    "    \"head\": \"boAt Wave Call Smart Watch\",\n",
    "    \"head_type\": \"product\",\n",
    "    \"relation\": \"hasMeasurement\",\n",
    "    \"tail\": \"550 nits of brightness\",\n",
    "    \"tail_type\": \"measurement\"\n",
    "  }},\n",
    "]\n",
    "For the following text, generate extract entitites and relations as in the provided example.\n",
    "\n",
    "# TEXT\n",
    "{text}\n",
    "################\n",
    "\n",
    "# OUTPUT\n",
    "\n",
    "\"\"\"\n"
   ]
  },
  {
   "cell_type": "code",
   "execution_count": 6,
   "metadata": {},
   "outputs": [],
   "source": [
    "openai_api_key = \"e877599eba2e4bcd99bcc08f92005b7b\"\n",
    "api_version = \"2024-06-01\"\n",
    "endpoint = \"https://hkust.azure-api.net\""
   ]
  },
  {
   "cell_type": "code",
   "execution_count": 7,
   "metadata": {},
   "outputs": [],
   "source": [
    "# client = OpenAI(api_key=openai_api_key)# you may need to replace this with the API key / API Provider you use.\n",
    "client = AzureOpenAI(api_key=openai_api_key, api_version=api_version ,azure_endpoint= endpoint)# you may need to replace this with the API key / API Provider you use.\n",
    "\n",
    "def extract_information(text, model, system_prompt, user_prompt, entity_types, relation_types):\n",
    "    comletion = client.chat.completions.create(# you may need to replace this with the API key / API Provider you use.\n",
    "        model=model,\n",
    "        temperature=0.0,\n",
    "        messages=[\n",
    "            {\n",
    "                \"role\": \"system\",\n",
    "                \"content\": system_prompt\n",
    "            },\n",
    "            {\n",
    "                \"role\": \"user\",\n",
    "                \"content\": user_prompt.format(\n",
    "                    text=text,\n",
    "                    entity_types=entity_types,\n",
    "                    relation_types=relation_types\n",
    "                )\n",
    "            }\n",
    "        ]\n",
    "    )\n",
    "    return comletion.choices[0].message.content"
   ]
  },
  {
   "cell_type": "markdown",
   "metadata": {},
   "source": [
    "We use regular expressions to extract the triples from the responses of large language models."
   ]
  },
  {
   "cell_type": "code",
   "execution_count": 8,
   "metadata": {},
   "outputs": [
    {
     "name": "stderr",
     "output_type": "stream",
     "text": [
      "100%|██████████| 10/10 [00:47<00:00,  4.71s/it]"
     ]
    },
    {
     "name": "stdout",
     "output_type": "stream",
     "text": [
      "65\n"
     ]
    },
    {
     "name": "stderr",
     "output_type": "stream",
     "text": [
      "\n"
     ]
    }
   ],
   "source": [
    "kg = []\n",
    "for i in tqdm(range(len(data))):\n",
    "    try: \n",
    "        text = \"product_name: \" + data.loc[i, \"product_name\"] + \"\\n\" + \"about product: \" + data.loc[i, \"about_product\"] + \"\\n\"\n",
    "        output = extract_information(text, \"gpt-4o-mini\", system_prompt, user_prompt, entity_types, relation_types)\n",
    "        pattern = r\"\\[.*?\\]\"\n",
    "        output = re.findall(pattern, output, re.DOTALL)[0]\n",
    "        output = json.loads(output)\n",
    "        kg.extend(output)\n",
    "    except Exception as e:\n",
    "        print(e)\n",
    "        continue\n",
    "\n",
    "print(len(kg))\n",
    "kg = pd.DataFrame(kg)"
   ]
  },
  {
   "cell_type": "code",
   "execution_count": 9,
   "metadata": {},
   "outputs": [
    {
     "data": {
      "text/html": [
       "<div>\n",
       "<style scoped>\n",
       "    .dataframe tbody tr th:only-of-type {\n",
       "        vertical-align: middle;\n",
       "    }\n",
       "\n",
       "    .dataframe tbody tr th {\n",
       "        vertical-align: top;\n",
       "    }\n",
       "\n",
       "    .dataframe thead th {\n",
       "        text-align: right;\n",
       "    }\n",
       "</style>\n",
       "<table border=\"1\" class=\"dataframe\">\n",
       "  <thead>\n",
       "    <tr style=\"text-align: right;\">\n",
       "      <th></th>\n",
       "      <th>head</th>\n",
       "      <th>head_type</th>\n",
       "      <th>relation</th>\n",
       "      <th>tail</th>\n",
       "      <th>tail_type</th>\n",
       "    </tr>\n",
       "  </thead>\n",
       "  <tbody>\n",
       "    <tr>\n",
       "      <th>0</th>\n",
       "      <td>Wayona Nylon Braided USB to Lightning Fast Cha...</td>\n",
       "      <td>product</td>\n",
       "      <td>hasBrand</td>\n",
       "      <td>Wayona</td>\n",
       "      <td>brand</td>\n",
       "    </tr>\n",
       "    <tr>\n",
       "      <th>1</th>\n",
       "      <td>Wayona Nylon Braided USB to Lightning Fast Cha...</td>\n",
       "      <td>product</td>\n",
       "      <td>hasMeasurement</td>\n",
       "      <td>3 FT</td>\n",
       "      <td>measurement</td>\n",
       "    </tr>\n",
       "    <tr>\n",
       "      <th>2</th>\n",
       "      <td>Wayona Nylon Braided USB to Lightning Fast Cha...</td>\n",
       "      <td>product</td>\n",
       "      <td>hasColor</td>\n",
       "      <td>Grey</td>\n",
       "      <td>color</td>\n",
       "    </tr>\n",
       "    <tr>\n",
       "      <th>3</th>\n",
       "      <td>Wayona Nylon Braided USB to Lightning Fast Cha...</td>\n",
       "      <td>product</td>\n",
       "      <td>hasCharacteristic</td>\n",
       "      <td>High Compatibility</td>\n",
       "      <td>characteristic</td>\n",
       "    </tr>\n",
       "    <tr>\n",
       "      <th>4</th>\n",
       "      <td>Wayona Nylon Braided USB to Lightning Fast Cha...</td>\n",
       "      <td>product</td>\n",
       "      <td>hasCharacteristic</td>\n",
       "      <td>Fast Charge&amp;Data Sync</td>\n",
       "      <td>characteristic</td>\n",
       "    </tr>\n",
       "    <tr>\n",
       "      <th>5</th>\n",
       "      <td>Wayona Nylon Braided USB to Lightning Fast Cha...</td>\n",
       "      <td>product</td>\n",
       "      <td>hasCharacteristic</td>\n",
       "      <td>Durability</td>\n",
       "      <td>characteristic</td>\n",
       "    </tr>\n",
       "    <tr>\n",
       "      <th>6</th>\n",
       "      <td>Wayona Nylon Braided USB to Lightning Fast Cha...</td>\n",
       "      <td>product</td>\n",
       "      <td>hasCharacteristic</td>\n",
       "      <td>High Security Level</td>\n",
       "      <td>characteristic</td>\n",
       "    </tr>\n",
       "    <tr>\n",
       "      <th>7</th>\n",
       "      <td>Ambrane Unbreakable 60W / 3A Fast Charging 1.5...</td>\n",
       "      <td>product</td>\n",
       "      <td>hasBrand</td>\n",
       "      <td>Ambrane</td>\n",
       "      <td>brand</td>\n",
       "    </tr>\n",
       "    <tr>\n",
       "      <th>8</th>\n",
       "      <td>Ambrane Unbreakable 60W / 3A Fast Charging 1.5...</td>\n",
       "      <td>product</td>\n",
       "      <td>hasMeasurement</td>\n",
       "      <td>1.5m</td>\n",
       "      <td>measurement</td>\n",
       "    </tr>\n",
       "    <tr>\n",
       "      <th>9</th>\n",
       "      <td>Ambrane Unbreakable 60W / 3A Fast Charging 1.5...</td>\n",
       "      <td>product</td>\n",
       "      <td>hasCharacteristic</td>\n",
       "      <td>Fast Charging</td>\n",
       "      <td>characteristic</td>\n",
       "    </tr>\n",
       "    <tr>\n",
       "      <th>10</th>\n",
       "      <td>Ambrane Unbreakable 60W / 3A Fast Charging 1.5...</td>\n",
       "      <td>product</td>\n",
       "      <td>hasCharacteristic</td>\n",
       "      <td>Unbreakable</td>\n",
       "      <td>characteristic</td>\n",
       "    </tr>\n",
       "    <tr>\n",
       "      <th>11</th>\n",
       "      <td>Ambrane Unbreakable 60W / 3A Fast Charging 1.5...</td>\n",
       "      <td>product</td>\n",
       "      <td>hasColor</td>\n",
       "      <td>Black</td>\n",
       "      <td>color</td>\n",
       "    </tr>\n",
       "    <tr>\n",
       "      <th>12</th>\n",
       "      <td>Ambrane Unbreakable 60W / 3A Fast Charging 1.5...</td>\n",
       "      <td>product</td>\n",
       "      <td>hasCharacteristic</td>\n",
       "      <td>480Mbps Data Sync</td>\n",
       "      <td>characteristic</td>\n",
       "    </tr>\n",
       "    <tr>\n",
       "      <th>13</th>\n",
       "      <td>Ambrane Unbreakable 60W / 3A Fast Charging 1.5...</td>\n",
       "      <td>product</td>\n",
       "      <td>hasCharacteristic</td>\n",
       "      <td>Supports maximum 3A fast charging</td>\n",
       "      <td>characteristic</td>\n",
       "    </tr>\n",
       "    <tr>\n",
       "      <th>14</th>\n",
       "      <td>Sounce Fast Phone Charging Cable &amp; Data Sync U...</td>\n",
       "      <td>product</td>\n",
       "      <td>hasBrand</td>\n",
       "      <td>Sounce</td>\n",
       "      <td>brand</td>\n",
       "    </tr>\n",
       "    <tr>\n",
       "      <th>15</th>\n",
       "      <td>Sounce Fast Phone Charging Cable &amp; Data Sync U...</td>\n",
       "      <td>product</td>\n",
       "      <td>hasCharacteristic</td>\n",
       "      <td>Fast Charger &amp; Data Sync</td>\n",
       "      <td>characteristic</td>\n",
       "    </tr>\n",
       "    <tr>\n",
       "      <th>16</th>\n",
       "      <td>Sounce Fast Phone Charging Cable &amp; Data Sync U...</td>\n",
       "      <td>product</td>\n",
       "      <td>madeOfMaterial</td>\n",
       "      <td>TPE and premium copper</td>\n",
       "      <td>material</td>\n",
       "    </tr>\n",
       "    <tr>\n",
       "      <th>17</th>\n",
       "      <td>Sounce Fast Phone Charging Cable &amp; Data Sync U...</td>\n",
       "      <td>product</td>\n",
       "      <td>hasMeasurement</td>\n",
       "      <td>up to 480 mb/s transferring speed</td>\n",
       "      <td>measurement</td>\n",
       "    </tr>\n",
       "    <tr>\n",
       "      <th>18</th>\n",
       "      <td>Sounce Fast Phone Charging Cable &amp; Data Sync U...</td>\n",
       "      <td>product</td>\n",
       "      <td>hasCharacteristic</td>\n",
       "      <td>Sturdy &amp; Durable</td>\n",
       "      <td>characteristic</td>\n",
       "    </tr>\n",
       "    <tr>\n",
       "      <th>19</th>\n",
       "      <td>Sounce Fast Phone Charging Cable &amp; Data Sync U...</td>\n",
       "      <td>product</td>\n",
       "      <td>hasCharacteristic</td>\n",
       "      <td>Ultra High Quality</td>\n",
       "      <td>characteristic</td>\n",
       "    </tr>\n",
       "  </tbody>\n",
       "</table>\n",
       "</div>"
      ],
      "text/plain": [
       "                                                 head head_type  \\\n",
       "0   Wayona Nylon Braided USB to Lightning Fast Cha...   product   \n",
       "1   Wayona Nylon Braided USB to Lightning Fast Cha...   product   \n",
       "2   Wayona Nylon Braided USB to Lightning Fast Cha...   product   \n",
       "3   Wayona Nylon Braided USB to Lightning Fast Cha...   product   \n",
       "4   Wayona Nylon Braided USB to Lightning Fast Cha...   product   \n",
       "5   Wayona Nylon Braided USB to Lightning Fast Cha...   product   \n",
       "6   Wayona Nylon Braided USB to Lightning Fast Cha...   product   \n",
       "7   Ambrane Unbreakable 60W / 3A Fast Charging 1.5...   product   \n",
       "8   Ambrane Unbreakable 60W / 3A Fast Charging 1.5...   product   \n",
       "9   Ambrane Unbreakable 60W / 3A Fast Charging 1.5...   product   \n",
       "10  Ambrane Unbreakable 60W / 3A Fast Charging 1.5...   product   \n",
       "11  Ambrane Unbreakable 60W / 3A Fast Charging 1.5...   product   \n",
       "12  Ambrane Unbreakable 60W / 3A Fast Charging 1.5...   product   \n",
       "13  Ambrane Unbreakable 60W / 3A Fast Charging 1.5...   product   \n",
       "14  Sounce Fast Phone Charging Cable & Data Sync U...   product   \n",
       "15  Sounce Fast Phone Charging Cable & Data Sync U...   product   \n",
       "16  Sounce Fast Phone Charging Cable & Data Sync U...   product   \n",
       "17  Sounce Fast Phone Charging Cable & Data Sync U...   product   \n",
       "18  Sounce Fast Phone Charging Cable & Data Sync U...   product   \n",
       "19  Sounce Fast Phone Charging Cable & Data Sync U...   product   \n",
       "\n",
       "             relation                               tail       tail_type  \n",
       "0            hasBrand                             Wayona           brand  \n",
       "1      hasMeasurement                               3 FT     measurement  \n",
       "2            hasColor                               Grey           color  \n",
       "3   hasCharacteristic                 High Compatibility  characteristic  \n",
       "4   hasCharacteristic              Fast Charge&Data Sync  characteristic  \n",
       "5   hasCharacteristic                         Durability  characteristic  \n",
       "6   hasCharacteristic                High Security Level  characteristic  \n",
       "7            hasBrand                            Ambrane           brand  \n",
       "8      hasMeasurement                               1.5m     measurement  \n",
       "9   hasCharacteristic                      Fast Charging  characteristic  \n",
       "10  hasCharacteristic                        Unbreakable  characteristic  \n",
       "11           hasColor                              Black           color  \n",
       "12  hasCharacteristic                  480Mbps Data Sync  characteristic  \n",
       "13  hasCharacteristic  Supports maximum 3A fast charging  characteristic  \n",
       "14           hasBrand                             Sounce           brand  \n",
       "15  hasCharacteristic           Fast Charger & Data Sync  characteristic  \n",
       "16     madeOfMaterial             TPE and premium copper        material  \n",
       "17     hasMeasurement  up to 480 mb/s transferring speed     measurement  \n",
       "18  hasCharacteristic                   Sturdy & Durable  characteristic  \n",
       "19  hasCharacteristic                 Ultra High Quality  characteristic  "
      ]
     },
     "execution_count": 9,
     "metadata": {},
     "output_type": "execute_result"
    }
   ],
   "source": [
    "kg.to_csv(\"data/kg.csv\", index=False, encoding=\"utf-8\")\n",
    "kg.head(20)"
   ]
  },
  {
   "cell_type": "markdown",
   "metadata": {},
   "source": [
    "# Post-Processing\n",
    "\n",
    "To further enhance the quality of the extracted Knowledge Graph (KG), we can implement two additional optimization steps. First, we can merge entities that share the same meaning into a single representation, streamlining our graph and reducing redundancy. Second, we should apply disambiguation techniques to differentiate entities that may have identical representations but distinct meanings. By incorporating these steps, we can significantly improve the accuracy and usability of our Knowledge Graph, making it a more powerful tool for analysis and insights."
   ]
  },
  {
   "cell_type": "markdown",
   "metadata": {},
   "source": [
    "# PART2. Intention KG Mining"
   ]
  },
  {
   "cell_type": "code",
   "execution_count": 10,
   "metadata": {},
   "outputs": [
    {
     "name": "stdout",
     "output_type": "stream",
     "text": [
      "[{'Session': [{'id': 'B099ST26S3', 'title': \"Neal's Yard Remedies Geranium and Orange Foaming Bath | Promote Calmness & Wellbeing | 200ml\", 'price': 11.25, 'brand': \"Neal's Yard Remedies\", 'size': '200 ml (Pack of 1)', 'model': '0838', 'desc': 'Helps promote a feeling of calm and wellbeing'}, {'id': 'B001M4C34O', 'title': \"Neal's Yard Remedies Seaweed and Arnica Foaming Bath | Ease Tiredness & Restore Vitality | 200 ml\", 'price': 10.0, 'brand': \"Neal's Yard Remedies\", 'size': '1 Count (Pack of 1)', 'model': '0120', 'desc': 'Directions: Directions: Pour liberally under running water. For adult use only.'}, {'id': 'B082MVK3C6', 'title': \"Neal's Yard Remedies Mothers Bath Oil | Encourages a Sense of Wellbeing | 100ml\", 'price': 15.0, 'brand': \"Neal's Yard Remedies\", 'size': '100 ml (Pack of 1)', 'model': '1660', 'desc': 'Boosts skin’s suppleness'}, {'id': '1787009726', 'title': \"Magnetic Let's Play\", 'price': 6.29, 'brand': 'Imagine That Publishing', 'author': 'Clover, Alfie'}], 'Message': 'Below is a user chronological record list:\\n[{\\'id\\': \\'B099ST26S3\\', \\'title\\': \"Neal\\'s Yard Remedies Geranium and Orange Foaming Bath | Promote Calmness & Wellbeing | 200ml\", \\'price\\': 11.25, \\'brand\\': \"Neal\\'s Yard Remedies\", \\'size\\': \\'200 ml (Pack of 1)\\', \\'model\\': \\'0838\\', \\'desc\\': \\'Helps promote a feeling of calm and wellbeing\\'}, {\\'id\\': \\'B001M4C34O\\', \\'title\\': \"Neal\\'s Yard Remedies Seaweed and Arnica Foaming Bath | Ease Tiredness & Restore Vitality | 200 ml\", \\'price\\': 10.0, \\'brand\\': \"Neal\\'s Yard Remedies\", \\'size\\': \\'1 Count (Pack of 1)\\', \\'model\\': \\'0120\\', \\'desc\\': \\'Directions: Directions: Pour liberally under running water. For adult use only.\\'}, {\\'id\\': \\'B082MVK3C6\\', \\'title\\': \"Neal\\'s Yard Remedies Mothers Bath Oil | Encourages a Sense of Wellbeing | 100ml\", \\'price\\': 15.0, \\'brand\\': \"Neal\\'s Yard Remedies\", \\'size\\': \\'100 ml (Pack of 1)\\', \\'model\\': \\'1660\\', \\'desc\\': \\'Boosts skin’s suppleness\\'}, {\\'id\\': \\'1787009726\\', \\'title\\': \"Magnetic Let\\'s Play\", \\'price\\': 6.29, \\'brand\\': \\'Imagine That Publishing\\', \\'author\\': \\'Clover, Alfie\\'}]\\nExplain the basic intentions of this user exactly. Output several different intentions one by one to answer the following question: User buy these items because they want to:\\nintention 1: {a simple verb phrase within 10 words}\\nintention 2: {a simple verb phrase within 10 words}....\\n', 'Answer': 'Intention 1: Promote calmness and wellbeing during bath time.\\nIntention 2: Ease tiredness and restore vitality during bath time.\\nIntention 3: Encourage a sense of wellbeing during bath time.\\nIntention 4: Enjoy a children\\'s book called \"Magnetic Let\\'s Play\".', 'Next_item': '1788006666', 'Prompt_tokens': 406, 'Completion_tokens': 63, 'Intentions': ['Promote calmness and wellbeing during bath time.', 'Ease tiredness and restore vitality during bath time.', 'Encourage a sense of wellbeing during bath time.', 'Enjoy a children\\'s book called \"Magnetic Let\\'s Play\".']}, {'Session': [{'id': 'B07S8PG4L1', 'title': 'Salt of the Earth Amber and Sandalwood Natural Deodorant Spray (100ml)', 'price': 6.99, 'brand': 'Crystal Spring Consumer Division Ltd', 'size': '100 ml (Pack of 1)', 'model': 'CRYS100AS', 'desc': \"★ 100% NATURAL DEODORANT - Certified COSMOS Natural. Free from Aluminium Chlorohydrate, it's 100% natural, gentle on your skin and made from a mix of natural mineral salts, essential oils and aloe vera.\"}, {'id': 'B08FDB1TV3', 'title': 'Salt Of the Earth Natural Deodorant Spray by Vegan Long Lasting Protection Refillable Leaping Bunny Approved, Cloudy, Ginger & Jasmine, 100 ml', 'price': 6.99, 'brand': 'Crystal Spring Consumer Division Ltd', 'color': 'cloudy', 'size': '100 ml (Pack of 1)', 'model': 'CRYS100GJ-C', 'desc': \"★ 100% NATURAL DEODORANT - Certified COSMOS Natural. Free from Aluminium Chlorohydrate, it's 100% natural, gentle on your skin and made from a mix of natural mineral salts, essential oils and aloe vera.\"}, {'id': 'B001F41IXI', 'title': 'Natural Deodorant Spray by Salt of the Earth, Unscented, Fragrance Free - Vegan, Long Lasting Protection, Leaping Bunny Approved, Made in the UK - 100ml', 'price': 3.39, 'brand': 'Crystal Spring Consumer Division Ltd', 'size': '100 ml (Pack of 1)', 'model': 'CRYS17', 'material': 'Plastic', 'desc': \"★ 100% NATURAL DEODORANT - Certified COSMOS Natural. Free from Aluminium Chlorohydrate and controversial chemicals, it's 100% natural, gentle on your skin and made from a mix of natural mineral salts, essential oils and aloe vera.\"}, {'id': 'B07S8PG4L1', 'title': 'Salt of the Earth Amber and Sandalwood Natural Deodorant Spray (100ml)', 'price': 6.99, 'brand': 'Crystal Spring Consumer Division Ltd', 'size': '100 ml (Pack of 1)', 'model': 'CRYS100AS', 'desc': \"★ 100% NATURAL DEODORANT - Certified COSMOS Natural. Free from Aluminium Chlorohydrate, it's 100% natural, gentle on your skin and made from a mix of natural mineral salts, essential oils and aloe vera.\"}, {'id': 'B08FDB1TV3', 'title': 'Salt Of the Earth Natural Deodorant Spray by Vegan Long Lasting Protection Refillable Leaping Bunny Approved, Cloudy, Ginger & Jasmine, 100 ml', 'price': 6.99, 'brand': 'Crystal Spring Consumer Division Ltd', 'color': 'cloudy', 'size': '100 ml (Pack of 1)', 'model': 'CRYS100GJ-C', 'desc': \"★ 100% NATURAL DEODORANT - Certified COSMOS Natural. Free from Aluminium Chlorohydrate, it's 100% natural, gentle on your skin and made from a mix of natural mineral salts, essential oils and aloe vera.\"}, {'id': 'B001F41IXI', 'title': 'Natural Deodorant Spray by Salt of the Earth, Unscented, Fragrance Free - Vegan, Long Lasting Protection, Leaping Bunny Approved, Made in the UK - 100ml', 'price': 3.39, 'brand': 'Crystal Spring Consumer Division Ltd', 'size': '100 ml (Pack of 1)', 'model': 'CRYS17', 'material': 'Plastic', 'desc': \"★ 100% NATURAL DEODORANT - Certified COSMOS Natural. Free from Aluminium Chlorohydrate and controversial chemicals, it's 100% natural, gentle on your skin and made from a mix of natural mineral salts, essential oils and aloe vera.\"}, {'id': 'B00JXMM9KU', 'title': 'ghd 25 mm Size 1 Ceramic Vented Radial Brush B0-CER25MM', 'price': 17.5, 'brand': 'ghd', 'color': 'Black', 'size': '1 Count (Pack of 1)', 'model': 'PB104BCORXROWXA', 'material': 'Ceramic', 'desc': '25mm diameter barrel'}, {'id': 'B00JXMCZMC', 'title': 'ghd 35 mm Size 2 Ceramic Vented Radial Brush', 'price': 15.0, 'brand': 'ghd', 'color': 'Black', 'size': 'Size 2', 'model': 'PB105BCORXROWXA', 'material': 'Ceramic', 'desc': '35mm diameter barrel'}], 'Message': 'Below is a user chronological record list:\\n[{\\'id\\': \\'B07S8PG4L1\\', \\'title\\': \\'Salt of the Earth Amber and Sandalwood Natural Deodorant Spray (100ml)\\', \\'price\\': 6.99, \\'brand\\': \\'Crystal Spring Consumer Division Ltd\\', \\'size\\': \\'100 ml (Pack of 1)\\', \\'model\\': \\'CRYS100AS\\', \\'desc\\': \"★ 100% NATURAL DEODORANT - Certified COSMOS Natural. Free from Aluminium Chlorohydrate, it\\'s 100% natural, gentle on your skin and made from a mix of natural mineral salts, essential oils and aloe vera.\"}, {\\'id\\': \\'B08FDB1TV3\\', \\'title\\': \\'Salt Of the Earth Natural Deodorant Spray by Vegan Long Lasting Protection Refillable Leaping Bunny Approved, Cloudy, Ginger & Jasmine, 100 ml\\', \\'price\\': 6.99, \\'brand\\': \\'Crystal Spring Consumer Division Ltd\\', \\'color\\': \\'cloudy\\', \\'size\\': \\'100 ml (Pack of 1)\\', \\'model\\': \\'CRYS100GJ-C\\', \\'desc\\': \"★ 100% NATURAL DEODORANT - Certified COSMOS Natural. Free from Aluminium Chlorohydrate, it\\'s 100% natural, gentle on your skin and made from a mix of natural mineral salts, essential oils and aloe vera.\"}, {\\'id\\': \\'B001F41IXI\\', \\'title\\': \\'Natural Deodorant Spray by Salt of the Earth, Unscented, Fragrance Free - Vegan, Long Lasting Protection, Leaping Bunny Approved, Made in the UK - 100ml\\', \\'price\\': 3.39, \\'brand\\': \\'Crystal Spring Consumer Division Ltd\\', \\'size\\': \\'100 ml (Pack of 1)\\', \\'model\\': \\'CRYS17\\', \\'material\\': \\'Plastic\\', \\'desc\\': \"★ 100% NATURAL DEODORANT - Certified COSMOS Natural. Free from Aluminium Chlorohydrate and controversial chemicals, it\\'s 100% natural, gentle on your skin and made from a mix of natural mineral salts, essential oils and aloe vera.\"}, {\\'id\\': \\'B07S8PG4L1\\', \\'title\\': \\'Salt of the Earth Amber and Sandalwood Natural Deodorant Spray (100ml)\\', \\'price\\': 6.99, \\'brand\\': \\'Crystal Spring Consumer Division Ltd\\', \\'size\\': \\'100 ml (Pack of 1)\\', \\'model\\': \\'CRYS100AS\\', \\'desc\\': \"★ 100% NATURAL DEODORANT - Certified COSMOS Natural. Free from Aluminium Chlorohydrate, it\\'s 100% natural, gentle on your skin and made from a mix of natural mineral salts, essential oils and aloe vera.\"}, {\\'id\\': \\'B08FDB1TV3\\', \\'title\\': \\'Salt Of the Earth Natural Deodorant Spray by Vegan Long Lasting Protection Refillable Leaping Bunny Approved, Cloudy, Ginger & Jasmine, 100 ml\\', \\'price\\': 6.99, \\'brand\\': \\'Crystal Spring Consumer Division Ltd\\', \\'color\\': \\'cloudy\\', \\'size\\': \\'100 ml (Pack of 1)\\', \\'model\\': \\'CRYS100GJ-C\\', \\'desc\\': \"★ 100% NATURAL DEODORANT - Certified COSMOS Natural. Free from Aluminium Chlorohydrate, it\\'s 100% natural, gentle on your skin and made from a mix of natural mineral salts, essential oils and aloe vera.\"}, {\\'id\\': \\'B001F41IXI\\', \\'title\\': \\'Natural Deodorant Spray by Salt of the Earth, Unscented, Fragrance Free - Vegan, Long Lasting Protection, Leaping Bunny Approved, Made in the UK - 100ml\\', \\'price\\': 3.39, \\'brand\\': \\'Crystal Spring Consumer Division Ltd\\', \\'size\\': \\'100 ml (Pack of 1)\\', \\'model\\': \\'CRYS17\\', \\'material\\': \\'Plastic\\', \\'desc\\': \"★ 100% NATURAL DEODORANT - Certified COSMOS Natural. Free from Aluminium Chlorohydrate and controversial chemicals, it\\'s 100% natural, gentle on your skin and made from a mix of natural mineral salts, essential oils and aloe vera.\"}, {\\'id\\': \\'B00JXMM9KU\\', \\'title\\': \\'ghd 25 mm Size 1 Ceramic Vented Radial Brush B0-CER25MM\\', \\'price\\': 17.5, \\'brand\\': \\'ghd\\', \\'color\\': \\'Black\\', \\'size\\': \\'1 Count (Pack of 1)\\', \\'model\\': \\'PB104BCORXROWXA\\', \\'material\\': \\'Ceramic\\', \\'desc\\': \\'25mm diameter barrel\\'}, {\\'id\\': \\'B00JXMCZMC\\', \\'title\\': \\'ghd 35 mm Size 2 Ceramic Vented Radial Brush\\', \\'price\\': 15.0, \\'brand\\': \\'ghd\\', \\'color\\': \\'Black\\', \\'size\\': \\'Size 2\\', \\'model\\': \\'PB105BCORXROWXA\\', \\'material\\': \\'Ceramic\\', \\'desc\\': \\'35mm diameter barrel\\'}]\\nExplain the basic intentions of this user exactly. Output several different intentions one by one to answer the following question: User buy these items because they want to:\\nintention 1: {a simple verb phrase within 10 words}\\nintention 2: {a simple verb phrase within 10 words}....\\n', 'Answer': 'Intention 1: Purchase natural deodorants that are gentle on their skin and free from controversial chemicals.\\nIntention 2: Refill their natural deodorant spray for long-lasting protection.\\nIntention 3: Buy a variety of scents for their natural deodorant spray.\\nIntention 4: Purchase a ceramic vented radial brush with a 25mm diameter barrel.\\nIntention 5: Purchase a ceramic vented radial brush with a 35mm diameter barrel.', 'Next_item': 'B074DNXHW9', 'Prompt_tokens': 1174, 'Completion_tokens': 99, 'Intentions': ['Purchase natural deodorants that are gentle on their skin and free from controversial chemicals.', 'Refill their natural deodorant spray for long-lasting protection.', 'Buy a variety of scents for their natural deodorant spray.', 'Purchase a ceramic vented radial brush with a 25mm diameter barrel.', 'Purchase a ceramic vented radial brush with a 35mm diameter barrel.']}, {'Session': [{'id': 'B07YV9D461', 'title': 'Garnier Ultimate Blends Shampoo & Conditioner Set | Argan Richness With Moroccan Argan Oil and Almond Cream Nourishing for Dry, Unruly Hair | 360 ml |', 'price': 14.99, 'brand': 'Garnier', 'size': '360 ml (Pack of 2)', 'model': '5021044126506', 'desc': 'Argan Oil of Morocco'}, {'id': 'B07FDCN61V', 'title': 'John Frieda Duo Pack Frizz Ease Miraculous Recovery Shampoo and Conditioner, 2 x 500 ml', 'price': 20.0, 'brand': 'John Frieda', 'size': '500 ml (Pack of 2)', 'model': '2388701', 'desc': 'Available in 50ml, 250ml & 500ml sizes'}, {'id': 'B071JDPPXF', 'title': 'John Frieda Frizz Ease Dream Curls Shampoo, 250 ml', 'price': 5.29, 'brand': 'John Frieda', 'color': 'Shampoo', 'size': '250 ml (Pack of 1)', 'model': '11961', 'desc': '250ml bottle'}, {'id': 'B092WDWKHN', 'title': 'John Frieda Frizz Ease Dream Curls SLS/SLES Sulphate Free Shampoo 500 ml (Pack of 1) for Naturally Wavy & Curly Hair', 'price': 10.61, 'brand': 'John Frieda', 'size': '500 ml (Pack of 1)', 'model': '2761400', 'desc': '*SLS/SLES **with no ingredients of animal origin and no animal testing'}, {'id': 'B005PMYJBO', 'title': 'John Frieda Frizz Ease Dream Curls Curl-Defining Conditioner 250 ml for Naturally Wavy & Curly Hair, (Pack of 1)', 'price': 4.65, 'brand': 'John Frieda', 'color': 'Conditioner', 'size': '250 ml (Pack of 1)', 'model': '104078814', 'desc': '*with no ingredients of animal origin and no animal testing'}, {'id': 'B092WJJXS2', 'title': 'John Frieda Frizz Ease Dream Curls Curl-Defining Conditioner 500 ml (Pack of 1) for Naturally Wavy & Curly Hair', 'brand': 'John Frieda', 'size': '500 ml (Pack of 1)', 'model': '2761500', 'desc': '*with no ingredients of animal origin and no animal testing'}, {'id': 'B092WJJXS2', 'title': 'John Frieda Frizz Ease Dream Curls Curl-Defining Conditioner 500 ml (Pack of 1) for Naturally Wavy & Curly Hair', 'brand': 'John Frieda', 'size': '500 ml (Pack of 1)', 'model': '2761500', 'desc': '*with no ingredients of animal origin and no animal testing'}], 'Message': \"Below is a user chronological record list:\\n[{'id': 'B07YV9D461', 'title': 'Garnier Ultimate Blends Shampoo & Conditioner Set | Argan Richness With Moroccan Argan Oil and Almond Cream Nourishing for Dry, Unruly Hair | 360 ml |', 'price': 14.99, 'brand': 'Garnier', 'size': '360 ml (Pack of 2)', 'model': '5021044126506', 'desc': 'Argan Oil of Morocco'}, {'id': 'B07FDCN61V', 'title': 'John Frieda Duo Pack Frizz Ease Miraculous Recovery Shampoo and Conditioner, 2 x 500 ml', 'price': 20.0, 'brand': 'John Frieda', 'size': '500 ml (Pack of 2)', 'model': '2388701', 'desc': 'Available in 50ml, 250ml & 500ml sizes'}, {'id': 'B071JDPPXF', 'title': 'John Frieda Frizz Ease Dream Curls Shampoo, 250 ml', 'price': 5.29, 'brand': 'John Frieda', 'color': 'Shampoo', 'size': '250 ml (Pack of 1)', 'model': '11961', 'desc': '250ml bottle'}, {'id': 'B092WDWKHN', 'title': 'John Frieda Frizz Ease Dream Curls SLS/SLES Sulphate Free Shampoo 500 ml (Pack of 1) for Naturally Wavy & Curly Hair', 'price': 10.61, 'brand': 'John Frieda', 'size': '500 ml (Pack of 1)', 'model': '2761400', 'desc': '*SLS/SLES **with no ingredients of animal origin and no animal testing'}, {'id': 'B005PMYJBO', 'title': 'John Frieda Frizz Ease Dream Curls Curl-Defining Conditioner 250 ml for Naturally Wavy & Curly Hair, (Pack of 1)', 'price': 4.65, 'brand': 'John Frieda', 'color': 'Conditioner', 'size': '250 ml (Pack of 1)', 'model': '104078814', 'desc': '*with no ingredients of animal origin and no animal testing'}, {'id': 'B092WJJXS2', 'title': 'John Frieda Frizz Ease Dream Curls Curl-Defining Conditioner 500 ml (Pack of 1) for Naturally Wavy & Curly Hair', 'brand': 'John Frieda', 'size': '500 ml (Pack of 1)', 'model': '2761500', 'desc': '*with no ingredients of animal origin and no animal testing'}, {'id': 'B092WJJXS2', 'title': 'John Frieda Frizz Ease Dream Curls Curl-Defining Conditioner 500 ml (Pack of 1) for Naturally Wavy & Curly Hair', 'brand': 'John Frieda', 'size': '500 ml (Pack of 1)', 'model': '2761500', 'desc': '*with no ingredients of animal origin and no animal testing'}]\\nExplain the basic intentions of this user exactly. Output several different intentions one by one to answer the following question: User buy these items because they want to:\\nintention 1: {a simple verb phrase within 10 words}\\nintention 2: {a simple verb phrase within 10 words}....\\n\", 'Answer': 'Intention 1: Nourish and tame dry, unruly hair.\\nIntention 2: Repair and prevent frizz in hair.\\nIntention 3: Define and enhance natural curls in hair.', 'Next_item': 'B01BKOA9DM', 'Prompt_tokens': 758, 'Completion_tokens': 42, 'Intentions': ['Nourish and tame dry, unruly hair.', 'Repair and prevent frizz in hair.', 'Define and enhance natural curls in hair.']}, {'Session': [{'id': 'B078VNVMFD', 'title': 'Tincogo 6\" Clear Plastic Easels or Stand/Plate Holders to Display Pictures or Other Items at Weddings, Home Decoration, Birthdays, Tables (12 Pack)', 'price': 7.98, 'brand': 'Tincogo', 'color': 'Clear', 'size': '6 inch(12 pack)', 'material': 'Acrylic', 'desc': 'Available Size:3\",4\",5\",6\",7\",8\",10\",12\";Please choose the size you prefer;'}, {'id': 'B078VN859H', 'title': 'Tincogo 3\" Clear Plastic Easels or Stand/Plate Holders to Display Pictures or Other Items at Weddings, Home Decoration, Birthdays, Tables (12 Pack)', 'price': 4.99, 'brand': 'Tincogo', 'color': 'Clear', 'size': '3 inch(12 pack)', 'material': 'Acrylic', 'desc': 'Available Size:3\",4\",5\",6\",7\",8\",10\",12\";Please choose the size you prefer;'}, {'id': 'B0B68V5941', 'title': 'DIYARTS 6 inch Metal Stands for Display, Plate Stand Metal Photo Holder, Display Stands Metal Frame Holders for Photo, Pictures, Decorative Plate Dish and Tabletop Art', 'price': 8.99, 'brand': 'DIYARTS', 'desc': '【Customer Satisfaction Service】If you have any questions or the bracket does not satisfy you, please feel free to contact us. We will provide you with fast support and resolution.'}, {'id': 'B088RDBS8T', 'title': 'badiJum Display Stands 6 Inches Picture Frame Stand, Photo Holder Metal Platter Stands, Easel Stand for Decorative Plate Dish Picture Book Artworks,Matte Black 4Pcs Large', 'price': 11.13, 'brand': 'badiJum', 'color': 'Black', 'size': \"4 Large (6 '')\", 'material': 'Metal', 'desc': \"【Choose Correct Dimension Display Stands】: 6''display holder dimension: 5.3 inches(L)*3.0 inches*(W) 6 inches(H), backrest depth 3.5inches fits item of 7'' -15''height. The slant back angle is 45°which shows great visual for your item. What's more the lip depth 1.5inches, that says there is still enough space to hold your object. Buy a set of 4pcs and use them for all your display needs.\"}, {'id': 'B088RD6YWF', 'title': 'badiJum Metal Stands for Display, 3.3 Inches and 6 Inches Plate Stands, Easel Display Stand, Decorative Picture Frame Stand, Photo Holder for Book, Artworks, Collectibles, Matte Black 4Pcs', 'price': 11.99, 'brand': 'badiJum', 'color': 'Black', 'size': \"2 Small (3.3'')+2 Large (6 '')\", 'material': 'Metal', 'desc': '【Choose Correct Dimension Display Stands】: 3’’ display holder size: 3.7 (L)*3.0*(W) 3.3 inches(H), backrest depth 3.5inches fits item of 3’’ -9’’ height. 6’’ size: 5.3(L)*3.0 *(W) 6 inches(H), backrest depth 3.5inches fits 7’’ -15’’ height item. The slant back angle is 45°which shows great visual for your item. The lip depth 1.5inches means there is still enough space to hold your object. Buy a set of 4pcs for your display needs.'}], 'Message': 'Below is a user chronological record list:\\n[{\\'id\\': \\'B078VNVMFD\\', \\'title\\': \\'Tincogo 6\" Clear Plastic Easels or Stand/Plate Holders to Display Pictures or Other Items at Weddings, Home Decoration, Birthdays, Tables (12 Pack)\\', \\'price\\': 7.98, \\'brand\\': \\'Tincogo\\', \\'color\\': \\'Clear\\', \\'size\\': \\'6 inch(12 pack)\\', \\'material\\': \\'Acrylic\\', \\'desc\\': \\'Available Size:3\",4\",5\",6\",7\",8\",10\",12\";Please choose the size you prefer;\\'}, {\\'id\\': \\'B078VN859H\\', \\'title\\': \\'Tincogo 3\" Clear Plastic Easels or Stand/Plate Holders to Display Pictures or Other Items at Weddings, Home Decoration, Birthdays, Tables (12 Pack)\\', \\'price\\': 4.99, \\'brand\\': \\'Tincogo\\', \\'color\\': \\'Clear\\', \\'size\\': \\'3 inch(12 pack)\\', \\'material\\': \\'Acrylic\\', \\'desc\\': \\'Available Size:3\",4\",5\",6\",7\",8\",10\",12\";Please choose the size you prefer;\\'}, {\\'id\\': \\'B0B68V5941\\', \\'title\\': \\'DIYARTS 6 inch Metal Stands for Display, Plate Stand Metal Photo Holder, Display Stands Metal Frame Holders for Photo, Pictures, Decorative Plate Dish and Tabletop Art\\', \\'price\\': 8.99, \\'brand\\': \\'DIYARTS\\', \\'desc\\': \\'【Customer Satisfaction Service】If you have any questions or the bracket does not satisfy you, please feel free to contact us. We will provide you with fast support and resolution.\\'}, {\\'id\\': \\'B088RDBS8T\\', \\'title\\': \\'badiJum Display Stands 6 Inches Picture Frame Stand, Photo Holder Metal Platter Stands, Easel Stand for Decorative Plate Dish Picture Book Artworks,Matte Black 4Pcs Large\\', \\'price\\': 11.13, \\'brand\\': \\'badiJum\\', \\'color\\': \\'Black\\', \\'size\\': \"4 Large (6 \\'\\')\", \\'material\\': \\'Metal\\', \\'desc\\': \"【Choose Correct Dimension Display Stands】: 6\\'\\'display holder dimension: 5.3 inches(L)*3.0 inches*(W) 6 inches(H), backrest depth 3.5inches fits item of 7\\'\\' -15\\'\\'height. The slant back angle is 45°which shows great visual for your item. What\\'s more the lip depth 1.5inches, that says there is still enough space to hold your object. Buy a set of 4pcs and use them for all your display needs.\"}, {\\'id\\': \\'B088RD6YWF\\', \\'title\\': \\'badiJum Metal Stands for Display, 3.3 Inches and 6 Inches Plate Stands, Easel Display Stand, Decorative Picture Frame Stand, Photo Holder for Book, Artworks, Collectibles, Matte Black 4Pcs\\', \\'price\\': 11.99, \\'brand\\': \\'badiJum\\', \\'color\\': \\'Black\\', \\'size\\': \"2 Small (3.3\\'\\')+2 Large (6 \\'\\')\", \\'material\\': \\'Metal\\', \\'desc\\': \\'【Choose Correct Dimension Display Stands】: 3’’ display holder size: 3.7 (L)*3.0*(W) 3.3 inches(H), backrest depth 3.5inches fits item of 3’’ -9’’ height. 6’’ size: 5.3(L)*3.0 *(W) 6 inches(H), backrest depth 3.5inches fits 7’’ -15’’ height item. The slant back angle is 45°which shows great visual for your item. The lip depth 1.5inches means there is still enough space to hold your object. Buy a set of 4pcs for your display needs.\\'}]\\nExplain the basic intentions of this user exactly. Output several different intentions one by one to answer the following question: User buy these items because they want to:\\nintention 1: {a simple verb phrase within 10 words}\\nintention 2: {a simple verb phrase within 10 words}....\\n', 'Answer': 'Intention 1: Display pictures or other items at events or home decoration.\\nIntention 2: Hold plates or decorative dishes for display.\\nIntention 3: Showcase artworks or collectibles.\\nIntention 4: Find stands of different sizes and materials for various display needs.', 'Next_item': 'B09WMXG35D', 'Prompt_tokens': 925, 'Completion_tokens': 57, 'Intentions': ['Display pictures or other items at events or home decoration.', 'Hold plates or decorative dishes for display.', 'Showcase artworks or collectibles.', 'Find stands of different sizes and materials for various display needs.']}, {'Session': [{'id': 'B0178HOS28', 'title': 'Fellowes A4 Laminating Pouches, Gloss Finish, 100 Sheets, 250 Micron (2 x 125 Micron) High Quality Finish with Image Last Directional Quality Mark - Ideal for Photos, Notices and Everyday Use', 'price': 19.6, 'brand': 'Fellowes', 'color': 'Transparent', 'size': 'Pack of 100', 'model': '5307407', 'desc': 'GIVE YOUR WORK A PROFESSIONAL FINISH: These premium quality A4 laminating pouches give your work a professional finish and provide protection for frequently handled documents or documents needing to be displayed'}, {'id': 'B000NJUWME', 'title': 'Fellowes A4 Laminating Pouches, Gloss Finish, 100 Sheets, 160 Micron (2 x 80 Micron) High Quality Finish with Image Last Directional Quality Mark - Ideal for Photos and Notices', 'price': 11.99, 'brand': 'Fellowes', 'color': 'Clear', 'size': 'Pack of 100', 'model': '5306114', 'material': 'Plastic', 'desc': 'ENHANCE YOUR DOCUMENTS: One of the best reasons to laminate is to enhance your documents whether it be a photo, important work, notices or protecting your documents from spillages, rips and everyday wear and tear.'}, {'id': 'B07G17STQF', 'title': 'CODIRATO 500 Pcs Self Adhesive Dots Tapes Sticky Back Coins Dots with Hook and Loop Velcro Round Pads for Home Office School (White)', 'price': 8.99, 'brand': 'CODIRATO', 'color': 'White', 'material': 'Nylon', 'desc': 'Easy to Use: Just loosen the self adhesive dots and hook points on the card, then stick them to the desired material, it can be reused'}, {'id': 'B07G17STQF', 'title': 'CODIRATO 500 Pcs Self Adhesive Dots Tapes Sticky Back Coins Dots with Hook and Loop Velcro Round Pads for Home Office School (White)', 'price': 8.99, 'brand': 'CODIRATO', 'color': 'White', 'material': 'Nylon', 'desc': 'Easy to Use: Just loosen the self adhesive dots and hook points on the card, then stick them to the desired material, it can be reused'}, {'id': 'B000NJUWME', 'title': 'Fellowes A4 Laminating Pouches, Gloss Finish, 100 Sheets, 160 Micron (2 x 80 Micron) High Quality Finish with Image Last Directional Quality Mark - Ideal for Photos and Notices', 'price': 11.99, 'brand': 'Fellowes', 'color': 'Clear', 'size': 'Pack of 100', 'model': '5306114', 'material': 'Plastic', 'desc': 'ENHANCE YOUR DOCUMENTS: One of the best reasons to laminate is to enhance your documents whether it be a photo, important work, notices or protecting your documents from spillages, rips and everyday wear and tear.'}], 'Message': \"Below is a user chronological record list:\\n[{'id': 'B0178HOS28', 'title': 'Fellowes A4 Laminating Pouches, Gloss Finish, 100 Sheets, 250 Micron (2 x 125 Micron) High Quality Finish with Image Last Directional Quality Mark - Ideal for Photos, Notices and Everyday Use', 'price': 19.6, 'brand': 'Fellowes', 'color': 'Transparent', 'size': 'Pack of 100', 'model': '5307407', 'desc': 'GIVE YOUR WORK A PROFESSIONAL FINISH: These premium quality A4 laminating pouches give your work a professional finish and provide protection for frequently handled documents or documents needing to be displayed'}, {'id': 'B000NJUWME', 'title': 'Fellowes A4 Laminating Pouches, Gloss Finish, 100 Sheets, 160 Micron (2 x 80 Micron) High Quality Finish with Image Last Directional Quality Mark - Ideal for Photos and Notices', 'price': 11.99, 'brand': 'Fellowes', 'color': 'Clear', 'size': 'Pack of 100', 'model': '5306114', 'material': 'Plastic', 'desc': 'ENHANCE YOUR DOCUMENTS: One of the best reasons to laminate is to enhance your documents whether it be a photo, important work, notices or protecting your documents from spillages, rips and everyday wear and tear.'}, {'id': 'B07G17STQF', 'title': 'CODIRATO 500 Pcs Self Adhesive Dots Tapes Sticky Back Coins Dots with Hook and Loop Velcro Round Pads for Home Office School (White)', 'price': 8.99, 'brand': 'CODIRATO', 'color': 'White', 'material': 'Nylon', 'desc': 'Easy to Use: Just loosen the self adhesive dots and hook points on the card, then stick them to the desired material, it can be reused'}, {'id': 'B07G17STQF', 'title': 'CODIRATO 500 Pcs Self Adhesive Dots Tapes Sticky Back Coins Dots with Hook and Loop Velcro Round Pads for Home Office School (White)', 'price': 8.99, 'brand': 'CODIRATO', 'color': 'White', 'material': 'Nylon', 'desc': 'Easy to Use: Just loosen the self adhesive dots and hook points on the card, then stick them to the desired material, it can be reused'}, {'id': 'B000NJUWME', 'title': 'Fellowes A4 Laminating Pouches, Gloss Finish, 100 Sheets, 160 Micron (2 x 80 Micron) High Quality Finish with Image Last Directional Quality Mark - Ideal for Photos and Notices', 'price': 11.99, 'brand': 'Fellowes', 'color': 'Clear', 'size': 'Pack of 100', 'model': '5306114', 'material': 'Plastic', 'desc': 'ENHANCE YOUR DOCUMENTS: One of the best reasons to laminate is to enhance your documents whether it be a photo, important work, notices or protecting your documents from spillages, rips and everyday wear and tear.'}]\\nExplain the basic intentions of this user exactly. Output several different intentions one by one to answer the following question: User buy these items because they want to:\\nintention 1: {a simple verb phrase within 10 words}\\nintention 2: {a simple verb phrase within 10 words}....\\n\", 'Answer': 'Intention 1: Protect and enhance their documents with laminating pouches.\\nIntention 2: Organize and secure items with self-adhesive dots.\\nIntention 3: Purchase high-quality office supplies for everyday use.', 'Next_item': 'B097MJLY51', 'Prompt_tokens': 776, 'Completion_tokens': 46, 'Intentions': ['Protect and enhance their documents with laminating pouches.', 'Organize and secure items with self-adhesive dots.', 'Purchase high-quality office supplies for everyday use.']}, {'Session': [{'id': 'B09P85MS38', 'title': 'TigTiycH Led Light Up Dog Collar, USB Rechargeable with Water Resistant Reflective Light Up Dogs Collar Flashing Light for the Dark Can Arbitrarily Cut collars,Fits Any dogs(Blue) 1PCS', 'price': 8.99, 'brand': 'TigTiycH', 'color': 'Blue', 'size': '70cm/27.5in', 'material': 'Silicone', 'desc': '3 Light Modes Setting: Easily Setting By Pushing the Button and Change the Lighting Modes Freely: Quick Blink, Slow Blink, Steady Lighting and Off, Fit For Difference Requirements for You.'}, {'id': 'B09P85KSCW', 'title': 'TigTiycH Led Light Up Dog Collar, USB Rechargeable with Water Resistant Reflective Light Up Dogs Collar Flashing Light for the Dark Can Arbitrarily Cut collars,Fits Any dogs(Pink) 1PCS', 'brand': 'TigTiycH', 'color': 'Pink', 'size': '70cm/27.5in', 'material': 'Silicone', 'desc': '3 Light Modes Setting: Easily Setting By Pushing the Button and Change the Lighting Modes Freely: Quick Blink, Slow Blink, Steady Lighting and Off, Fit For Difference Requirements for You.'}], 'Message': \"Below is a user chronological record list:\\n[{'id': 'B09P85MS38', 'title': 'TigTiycH Led Light Up Dog Collar, USB Rechargeable with Water Resistant Reflective Light Up Dogs Collar Flashing Light for the Dark Can Arbitrarily Cut collars,Fits Any dogs(Blue) 1PCS', 'price': 8.99, 'brand': 'TigTiycH', 'color': 'Blue', 'size': '70cm/27.5in', 'material': 'Silicone', 'desc': '3 Light Modes Setting: Easily Setting By Pushing the Button and Change the Lighting Modes Freely: Quick Blink, Slow Blink, Steady Lighting and Off, Fit For Difference Requirements for You.'}, {'id': 'B09P85KSCW', 'title': 'TigTiycH Led Light Up Dog Collar, USB Rechargeable with Water Resistant Reflective Light Up Dogs Collar Flashing Light for the Dark Can Arbitrarily Cut collars,Fits Any dogs(Pink) 1PCS', 'brand': 'TigTiycH', 'color': 'Pink', 'size': '70cm/27.5in', 'material': 'Silicone', 'desc': '3 Light Modes Setting: Easily Setting By Pushing the Button and Change the Lighting Modes Freely: Quick Blink, Slow Blink, Steady Lighting and Off, Fit For Difference Requirements for You.'}]\\nExplain the basic intentions of this user exactly. Output several different intentions one by one to answer the following question: User buy these items because they want to:\\nintention 1: {a simple verb phrase within 10 words}\\nintention 2: {a simple verb phrase within 10 words}....\\n\", 'Answer': \"Intention 1: Keep their dog visible and safe during walks at night.\\nIntention 2: Customize the collar to fit their dog's size.\\nIntention 3: Have a collar that is water-resistant and durable.\\nIntention 4: Easily switch between different lighting modes for different situations.\", 'Next_item': 'B09P859NTS', 'Prompt_tokens': 379, 'Completion_tokens': 61, 'Intentions': ['Keep their dog visible and safe during walks at night.', \"Customize the collar to fit their dog's size.\", 'Have a collar that is water-resistant and durable.', 'Easily switch between different lighting modes for different situations.']}]\n"
     ]
    }
   ],
   "source": [
    "sessions = []\n",
    "with open('data/session_data.jsonl') as f:\n",
    "    for line in f:\n",
    "        sessions.append(json.loads(line))\n",
    "print(sessions)"
   ]
  },
  {
   "cell_type": "code",
   "execution_count": 11,
   "metadata": {},
   "outputs": [
    {
     "name": "stdout",
     "output_type": "stream",
     "text": [
      "{'id': 'B099ST26S3', 'title': \"Neal's Yard Remedies Geranium and Orange Foaming Bath | Promote Calmness & Wellbeing | 200ml\", 'price': 11.25, 'brand': \"Neal's Yard Remedies\", 'size': '200 ml (Pack of 1)', 'model': '0838', 'desc': 'Helps promote a feeling of calm and wellbeing'}\n",
      "{'id': 'B001M4C34O', 'title': \"Neal's Yard Remedies Seaweed and Arnica Foaming Bath | Ease Tiredness & Restore Vitality | 200 ml\", 'price': 10.0, 'brand': \"Neal's Yard Remedies\", 'size': '1 Count (Pack of 1)', 'model': '0120', 'desc': 'Directions: Directions: Pour liberally under running water. For adult use only.'}\n",
      "{'id': 'B082MVK3C6', 'title': \"Neal's Yard Remedies Mothers Bath Oil | Encourages a Sense of Wellbeing | 100ml\", 'price': 15.0, 'brand': \"Neal's Yard Remedies\", 'size': '100 ml (Pack of 1)', 'model': '1660', 'desc': 'Boosts skin’s suppleness'}\n",
      "{'id': '1787009726', 'title': \"Magnetic Let's Play\", 'price': 6.29, 'brand': 'Imagine That Publishing', 'author': 'Clover, Alfie'}\n"
     ]
    }
   ],
   "source": [
    "for i in sessions[0]['Session']:\n",
    "    print(i)"
   ]
  },
  {
   "cell_type": "code",
   "execution_count": 12,
   "metadata": {},
   "outputs": [
    {
     "name": "stdout",
     "output_type": "stream",
     "text": [
      "Below is a user chronological record list:\n",
      "[{'id': 'B099ST26S3', 'title': \"Neal's Yard Remedies Geranium and Orange Foaming Bath | Promote Calmness & Wellbeing | 200ml\", 'price': 11.25, 'brand': \"Neal's Yard Remedies\", 'size': '200 ml (Pack of 1)', 'model': '0838', 'desc': 'Helps promote a feeling of calm and wellbeing'}, {'id': 'B001M4C34O', 'title': \"Neal's Yard Remedies Seaweed and Arnica Foaming Bath | Ease Tiredness & Restore Vitality | 200 ml\", 'price': 10.0, 'brand': \"Neal's Yard Remedies\", 'size': '1 Count (Pack of 1)', 'model': '0120', 'desc': 'Directions: Directions: Pour liberally under running water. For adult use only.'}, {'id': 'B082MVK3C6', 'title': \"Neal's Yard Remedies Mothers Bath Oil | Encourages a Sense of Wellbeing | 100ml\", 'price': 15.0, 'brand': \"Neal's Yard Remedies\", 'size': '100 ml (Pack of 1)', 'model': '1660', 'desc': 'Boosts skin’s suppleness'}, {'id': '1787009726', 'title': \"Magnetic Let's Play\", 'price': 6.29, 'brand': 'Imagine That Publishing', 'author': 'Clover, Alfie'}]\n",
      "Explain the basic intentions of this user exactly. Output several different intentions one by one to answer the following question: User buy these items becase they want to:\n",
      "intention 1: [a simple verb phrase within 10 words]\n",
      "intention 2: [a simple verb phrase within 10 words]....\n"
     ]
    }
   ],
   "source": [
    "prompt = f\"\"\"Below is a user chronological record list:\n",
    "{sessions[0]['Session']}\n",
    "Explain the basic intentions of this user exactly. Output several different intentions one by one to answer the following question: User buy these items becase they want to:\n",
    "intention 1: [a simple verb phrase within 10 words]\n",
    "intention 2: [a simple verb phrase within 10 words]....\"\"\"\n",
    "print(prompt) #becase they want to/ because the items are all/ because the items are capable of ..."
   ]
  },
  {
   "cell_type": "code",
   "execution_count": 13,
   "metadata": {},
   "outputs": [
    {
     "name": "stdout",
     "output_type": "stream",
     "text": [
      "intention 1: Promote calmness and wellbeing with foaming bath.  \n",
      "intention 2: Ease tiredness and restore vitality with bath products.  \n",
      "intention 3: Enhance skin suppleness using bath oil.  \n",
      "intention 4: Entertain with a magnetic play set.  \n"
     ]
    }
   ],
   "source": [
    "response = client.chat.completions.create(# you may need to replace this with the API key / API Provider you use.\n",
    "        model=\"gpt-4o\",\n",
    "        messages=[\n",
    "            {\n",
    "                \"role\": \"user\",\n",
    "                \"content\":prompt\n",
    "            }\n",
    "        ]\n",
    "    )\n",
    "print(response.choices[0].message.content)"
   ]
  },
  {
   "cell_type": "code",
   "execution_count": null,
   "metadata": {},
   "outputs": [],
   "source": []
  }
 ],
 "metadata": {
  "kernelspec": {
   "display_name": "comp4332",
   "language": "python",
   "name": "python3"
  },
  "language_info": {
   "codemirror_mode": {
    "name": "ipython",
    "version": 3
   },
   "file_extension": ".py",
   "mimetype": "text/x-python",
   "name": "python",
   "nbconvert_exporter": "python",
   "pygments_lexer": "ipython3",
   "version": "3.11.11"
  }
 },
 "nbformat": 4,
 "nbformat_minor": 2
}
