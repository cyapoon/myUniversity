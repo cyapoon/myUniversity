{
  "cells": [
    {
      "cell_type": "code",
      "execution_count": 1,
      "id": "rEzFgLcqsatp",
      "metadata": {
        "colab": {
          "base_uri": "https://localhost:8080/"
        },
        "id": "rEzFgLcqsatp",
        "outputId": "b6ceb4f2-7ea6-45cd-9217-c535fc430458"
      },
      "outputs": [
        {
          "name": "stdout",
          "output_type": "stream",
          "text": [
            "Collecting torch_geometric\n",
            "  Downloading torch_geometric-2.6.1-py3-none-any.whl.metadata (63 kB)\n",
            "\u001b[?25l     \u001b[90m━━━━━━━━━━━━━━━━━━━━━━━━━━━━━━━━━━━━━━━━\u001b[0m \u001b[32m0.0/63.1 kB\u001b[0m \u001b[31m?\u001b[0m eta \u001b[36m-:--:--\u001b[0m\r\u001b[2K     \u001b[90m━━━━━━━━━━━━━━━━━━━━━━━━━━━━━━━━━━━━━━━━\u001b[0m \u001b[32m63.1/63.1 kB\u001b[0m \u001b[31m3.4 MB/s\u001b[0m eta \u001b[36m0:00:00\u001b[0m\n",
            "\u001b[?25hRequirement already satisfied: aiohttp in /usr/local/lib/python3.11/dist-packages (from torch_geometric) (3.11.15)\n",
            "Requirement already satisfied: fsspec in /usr/local/lib/python3.11/dist-packages (from torch_geometric) (2025.3.2)\n",
            "Requirement already satisfied: jinja2 in /usr/local/lib/python3.11/dist-packages (from torch_geometric) (3.1.6)\n",
            "Requirement already satisfied: numpy in /usr/local/lib/python3.11/dist-packages (from torch_geometric) (2.0.2)\n",
            "Requirement already satisfied: psutil>=5.8.0 in /usr/local/lib/python3.11/dist-packages (from torch_geometric) (5.9.5)\n",
            "Requirement already satisfied: pyparsing in /usr/local/lib/python3.11/dist-packages (from torch_geometric) (3.2.3)\n",
            "Requirement already satisfied: requests in /usr/local/lib/python3.11/dist-packages (from torch_geometric) (2.32.3)\n",
            "Requirement already satisfied: tqdm in /usr/local/lib/python3.11/dist-packages (from torch_geometric) (4.67.1)\n",
            "Requirement already satisfied: aiohappyeyeballs>=2.3.0 in /usr/local/lib/python3.11/dist-packages (from aiohttp->torch_geometric) (2.6.1)\n",
            "Requirement already satisfied: aiosignal>=1.1.2 in /usr/local/lib/python3.11/dist-packages (from aiohttp->torch_geometric) (1.3.2)\n",
            "Requirement already satisfied: attrs>=17.3.0 in /usr/local/lib/python3.11/dist-packages (from aiohttp->torch_geometric) (25.3.0)\n",
            "Requirement already satisfied: frozenlist>=1.1.1 in /usr/local/lib/python3.11/dist-packages (from aiohttp->torch_geometric) (1.5.0)\n",
            "Requirement already satisfied: multidict<7.0,>=4.5 in /usr/local/lib/python3.11/dist-packages (from aiohttp->torch_geometric) (6.2.0)\n",
            "Requirement already satisfied: propcache>=0.2.0 in /usr/local/lib/python3.11/dist-packages (from aiohttp->torch_geometric) (0.3.1)\n",
            "Requirement already satisfied: yarl<2.0,>=1.17.0 in /usr/local/lib/python3.11/dist-packages (from aiohttp->torch_geometric) (1.18.3)\n",
            "Requirement already satisfied: MarkupSafe>=2.0 in /usr/local/lib/python3.11/dist-packages (from jinja2->torch_geometric) (3.0.2)\n",
            "Requirement already satisfied: charset-normalizer<4,>=2 in /usr/local/lib/python3.11/dist-packages (from requests->torch_geometric) (3.4.1)\n",
            "Requirement already satisfied: idna<4,>=2.5 in /usr/local/lib/python3.11/dist-packages (from requests->torch_geometric) (3.10)\n",
            "Requirement already satisfied: urllib3<3,>=1.21.1 in /usr/local/lib/python3.11/dist-packages (from requests->torch_geometric) (2.3.0)\n",
            "Requirement already satisfied: certifi>=2017.4.17 in /usr/local/lib/python3.11/dist-packages (from requests->torch_geometric) (2025.1.31)\n",
            "Downloading torch_geometric-2.6.1-py3-none-any.whl (1.1 MB)\n",
            "\u001b[2K   \u001b[90m━━━━━━━━━━━━━━━━━━━━━━━━━━━━━━━━━━━━━━━━\u001b[0m \u001b[32m1.1/1.1 MB\u001b[0m \u001b[31m23.7 MB/s\u001b[0m eta \u001b[36m0:00:00\u001b[0m\n",
            "\u001b[?25hInstalling collected packages: torch_geometric\n",
            "Successfully installed torch_geometric-2.6.1\n"
          ]
        }
      ],
      "source": [
        "!pip install torch_geometric"
      ]
    },
    {
      "cell_type": "code",
      "execution_count": null,
      "id": "1dfd3cfc-6152-4208-a5f3-4e75af5e50bf",
      "metadata": {
        "colab": {
          "base_uri": "https://localhost:8080/"
        },
        "id": "1dfd3cfc-6152-4208-a5f3-4e75af5e50bf",
        "outputId": "858034b4-50e1-4d88-9165-bd4c829d518f"
      },
      "outputs": [
        {
          "name": "stderr",
          "output_type": "stream",
          "text": [
            "Downloading https://raw.githubusercontent.com/gusye1234/LightGCN-PyTorch/master/data/amazon-book/user_list.txt\n",
            "Downloading https://raw.githubusercontent.com/gusye1234/LightGCN-PyTorch/master/data/amazon-book/item_list.txt\n",
            "Downloading https://raw.githubusercontent.com/gusye1234/LightGCN-PyTorch/master/data/amazon-book/train.txt\n",
            "Downloading https://raw.githubusercontent.com/gusye1234/LightGCN-PyTorch/master/data/amazon-book/test.txt\n",
            "Processing...\n",
            "Done!\n"
          ]
        }
      ],
      "source": [
        "import os.path as osp\n",
        "import torch\n",
        "from tqdm import tqdm\n",
        "from torch_geometric.datasets import AmazonBook\n",
        "from torch_geometric.nn import LightGCN\n",
        "from torch_geometric.utils import degree\n",
        "\n",
        "# Set device (GPU if available, otherwise CPU)\n",
        "device = torch.device('cuda' if torch.cuda.is_available() else 'cpu')\n",
        "\n",
        "# Set up data path and load Amazon Book dataset\n",
        "path = osp.join(\"./\", 'data', 'Amazon')\n",
        "dataset = AmazonBook(path)\n",
        "data = dataset[0]\n",
        "\n",
        "# Get the number of users and books\n",
        "num_users, num_books = data['user'].num_nodes, data['book'].num_nodes\n",
        "\n",
        "# Convert heterogeneous graph to homogeneous and move to device\n",
        "data = data.to_homogeneous().to(device)\n",
        "\n",
        "# Training configuration\n",
        "batch_size = 8192\n",
        "\n",
        "# Create training edge indices (only using edges where source < target)\n",
        "mask = data.edge_index[0] < data.edge_index[1]\n",
        "train_edge_label_index = data.edge_index[:, mask]\n",
        "\n",
        "# Create data loader for training\n",
        "train_loader = torch.utils.data.DataLoader(\n",
        "    range(train_edge_label_index.size(1)),\n",
        "    shuffle=True,\n",
        "    batch_size=batch_size,\n",
        ")\n",
        "\n",
        "# Initialize LightGCN model\n",
        "model = LightGCN(\n",
        "    num_nodes=data.num_nodes,\n",
        "    embedding_dim=64,  # Dimension of embeddings\n",
        "    num_layers=2,      # Number of graph convolution layers\n",
        ").to(device)\n",
        "\n",
        "# Initialize Adam optimizer\n",
        "optimizer = torch.optim.Adam(model.parameters(), lr=0.001)\n"
      ]
    },
    {
      "cell_type": "code",
      "execution_count": 3,
      "id": "44360899-8ae2-40fc-89ef-7d92f3ae1647",
      "metadata": {
        "id": "44360899-8ae2-40fc-89ef-7d92f3ae1647"
      },
      "outputs": [],
      "source": [
        "def train():\n",
        "    \"\"\"\n",
        "    Training function for one epoch\n",
        "    Returns:\n",
        "        float: Average loss for the epoch\n",
        "    \"\"\"\n",
        "    total_loss = total_examples = 0\n",
        "\n",
        "    for index in tqdm(train_loader):\n",
        "        # Generate positive and negative samples\n",
        "        pos_edge_label_index = train_edge_label_index[:, index]\n",
        "\n",
        "        # Create negative samples by keeping source nodes and randomly sampling target nodes\n",
        "        neg_edge_label_index = torch.stack([\n",
        "            pos_edge_label_index[0],\n",
        "            torch.randint(num_users, num_users + num_books,\n",
        "                         (index.numel(), ), device=device)\n",
        "        ], dim=0)\n",
        "\n",
        "        # Combine positive and negative samples\n",
        "        edge_label_index = torch.cat([\n",
        "            pos_edge_label_index,\n",
        "            neg_edge_label_index,\n",
        "        ], dim=1)\n",
        "\n",
        "        # Forward pass and loss computation\n",
        "        optimizer.zero_grad()\n",
        "        pos_rank, neg_rank = model(data.edge_index, edge_label_index).chunk(2)\n",
        "\n",
        "        loss = model.recommendation_loss(\n",
        "            pos_rank,\n",
        "            neg_rank,\n",
        "            node_id=edge_label_index.unique(),\n",
        "        )\n",
        "\n",
        "        # Backward pass\n",
        "        loss.backward()\n",
        "        optimizer.step()\n",
        "\n",
        "        # Update statistics\n",
        "        total_loss += float(loss) * pos_rank.numel()\n",
        "        total_examples += pos_rank.numel()\n",
        "\n",
        "    return total_loss / total_examples\n",
        "\n",
        "@torch.no_grad()\n",
        "def test(k: int):\n",
        "    \"\"\"\n",
        "    Testing function that computes precision and recall@k\n",
        "    Args:\n",
        "        k (int): Number of top items to consider for metrics\n",
        "    Returns:\n",
        "        tuple: (precision@k, recall@k)\n",
        "    \"\"\"\n",
        "    # Get embeddings for users and books\n",
        "    emb = model.get_embedding(data.edge_index)\n",
        "    user_emb, book_emb = emb[:num_users], emb[num_users:]\n",
        "\n",
        "    precision = recall = total_examples = 0\n",
        "\n",
        "    # Process users in batches\n",
        "    for start in range(0, num_users, batch_size):\n",
        "        end = start + batch_size\n",
        "        # Compute recommendations for current batch\n",
        "        logits = user_emb[start:end] @ book_emb.t()\n",
        "\n",
        "        # Remove training edges from recommendations\n",
        "        mask = ((train_edge_label_index[0] >= start) &\n",
        "                (train_edge_label_index[0] < end))\n",
        "        logits[train_edge_label_index[0, mask] - start,\n",
        "               train_edge_label_index[1, mask] - num_users] = float('-inf')\n",
        "\n",
        "        # Create ground truth matrix\n",
        "        ground_truth = torch.zeros_like(logits, dtype=torch.bool)\n",
        "        mask = ((data.edge_label_index[0] >= start) &\n",
        "                (data.edge_label_index[0] < end))\n",
        "        ground_truth[data.edge_label_index[0, mask] - start,\n",
        "                    data.edge_label_index[1, mask] - num_users] = True\n",
        "\n",
        "        # Count number of relevant items per user\n",
        "        node_count = degree(data.edge_label_index[0, mask] - start,\n",
        "                          num_nodes=logits.size(0))\n",
        "\n",
        "        # Get top-k recommendations\n",
        "        topk_index = logits.topk(k, dim=-1).indices\n",
        "        isin_mat = ground_truth.gather(1, topk_index)\n",
        "\n",
        "        # Compute metrics\n",
        "        precision += float((isin_mat.sum(dim=-1) / k).sum())\n",
        "        recall += float((isin_mat.sum(dim=-1) / node_count.clamp(1e-6)).sum())\n",
        "        total_examples += int((node_count > 0).sum())\n",
        "\n",
        "    return precision / total_examples, recall / total_examples"
      ]
    },
    {
      "cell_type": "code",
      "execution_count": 4,
      "id": "3GkF4l1S33Ns",
      "metadata": {
        "colab": {
          "base_uri": "https://localhost:8080/"
        },
        "id": "3GkF4l1S33Ns",
        "outputId": "291c3672-6232-417a-93b8-ca654c0fee23"
      },
      "outputs": [
        {
          "name": "stderr",
          "output_type": "stream",
          "text": [
            "100%|██████████| 291/291 [00:43<00:00,  6.65it/s]\n"
          ]
        },
        {
          "name": "stdout",
          "output_type": "stream",
          "text": [
            "Epoch: 001, Loss: 0.5135, Precision@20: 0.0051, Recall@20: 0.0104\n"
          ]
        },
        {
          "name": "stderr",
          "output_type": "stream",
          "text": [
            "100%|██████████| 291/291 [00:42<00:00,  6.80it/s]\n"
          ]
        },
        {
          "name": "stdout",
          "output_type": "stream",
          "text": [
            "Epoch: 002, Loss: 0.2993, Precision@20: 0.0062, Recall@20: 0.0129\n"
          ]
        },
        {
          "name": "stderr",
          "output_type": "stream",
          "text": [
            "100%|██████████| 291/291 [00:43<00:00,  6.65it/s]\n"
          ]
        },
        {
          "name": "stdout",
          "output_type": "stream",
          "text": [
            "Epoch: 003, Loss: 0.2434, Precision@20: 0.0070, Recall@20: 0.0150\n"
          ]
        },
        {
          "name": "stderr",
          "output_type": "stream",
          "text": [
            "100%|██████████| 291/291 [00:43<00:00,  6.69it/s]\n"
          ]
        },
        {
          "name": "stdout",
          "output_type": "stream",
          "text": [
            "Epoch: 004, Loss: 0.2115, Precision@20: 0.0077, Recall@20: 0.0166\n"
          ]
        },
        {
          "name": "stderr",
          "output_type": "stream",
          "text": [
            "100%|██████████| 291/291 [00:43<00:00,  6.67it/s]\n"
          ]
        },
        {
          "name": "stdout",
          "output_type": "stream",
          "text": [
            "Epoch: 005, Loss: 0.1902, Precision@20: 0.0082, Recall@20: 0.0178\n"
          ]
        },
        {
          "name": "stderr",
          "output_type": "stream",
          "text": [
            "100%|██████████| 291/291 [00:43<00:00,  6.66it/s]\n"
          ]
        },
        {
          "name": "stdout",
          "output_type": "stream",
          "text": [
            "Epoch: 006, Loss: 0.1744, Precision@20: 0.0086, Recall@20: 0.0186\n"
          ]
        },
        {
          "name": "stderr",
          "output_type": "stream",
          "text": [
            "100%|██████████| 291/291 [00:43<00:00,  6.68it/s]\n"
          ]
        },
        {
          "name": "stdout",
          "output_type": "stream",
          "text": [
            "Epoch: 007, Loss: 0.1622, Precision@20: 0.0087, Recall@20: 0.0191\n"
          ]
        },
        {
          "name": "stderr",
          "output_type": "stream",
          "text": [
            "100%|██████████| 291/291 [00:43<00:00,  6.66it/s]\n"
          ]
        },
        {
          "name": "stdout",
          "output_type": "stream",
          "text": [
            "Epoch: 008, Loss: 0.1524, Precision@20: 0.0090, Recall@20: 0.0197\n"
          ]
        },
        {
          "name": "stderr",
          "output_type": "stream",
          "text": [
            "100%|██████████| 291/291 [00:43<00:00,  6.66it/s]\n"
          ]
        },
        {
          "name": "stdout",
          "output_type": "stream",
          "text": [
            "Epoch: 009, Loss: 0.1444, Precision@20: 0.0092, Recall@20: 0.0201\n"
          ]
        },
        {
          "name": "stderr",
          "output_type": "stream",
          "text": [
            "100%|██████████| 291/291 [00:43<00:00,  6.65it/s]\n"
          ]
        },
        {
          "name": "stdout",
          "output_type": "stream",
          "text": [
            "Epoch: 010, Loss: 0.1375, Precision@20: 0.0093, Recall@20: 0.0205\n"
          ]
        }
      ],
      "source": [
        "# Training loop\n",
        "for epoch in range(1, 11):\n",
        "    loss = train()\n",
        "    precision, recall = test(k=20)\n",
        "    print(f'Epoch: {epoch:03d}, Loss: {loss:.4f}, Precision@20: '\n",
        "          f'{precision:.4f}, Recall@20: {recall:.4f}')"
      ]
    },
    {
      "cell_type": "code",
      "execution_count": null,
      "id": "26c19a46-0e83-4e86-a526-93ab25c87cad",
      "metadata": {
        "id": "26c19a46-0e83-4e86-a526-93ab25c87cad"
      },
      "outputs": [],
      "source": []
    }
  ],
  "metadata": {
    "accelerator": "GPU",
    "colab": {
      "gpuType": "T4",
      "provenance": []
    },
    "kernelspec": {
      "display_name": "comp4332",
      "language": "python",
      "name": "python3"
    },
    "language_info": {
      "codemirror_mode": {
        "name": "ipython",
        "version": 3
      },
      "file_extension": ".py",
      "mimetype": "text/x-python",
      "name": "python",
      "nbconvert_exporter": "python",
      "pygments_lexer": "ipython3",
      "version": "3.11.11"
    }
  },
  "nbformat": 4,
  "nbformat_minor": 5
}
