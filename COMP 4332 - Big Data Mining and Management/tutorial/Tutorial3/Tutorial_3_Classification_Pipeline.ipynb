{
 "cells": [
  {
   "cell_type": "code",
   "execution_count": 1,
   "metadata": {},
   "outputs": [
    {
     "name": "stdout",
     "output_type": "stream",
     "text": [
      "Collecting nltk\n",
      "  Downloading nltk-3.9.1-py3-none-any.whl.metadata (2.9 kB)\n",
      "Collecting click (from nltk)\n",
      "  Using cached click-8.1.8-py3-none-any.whl.metadata (2.3 kB)\n",
      "Requirement already satisfied: joblib in c:\\users\\chuny\\anaconda3\\envs\\comp4332\\lib\\site-packages (from nltk) (1.4.2)\n",
      "Collecting regex>=2021.8.3 (from nltk)\n",
      "  Downloading regex-2024.11.6-cp311-cp311-win_amd64.whl.metadata (41 kB)\n",
      "Requirement already satisfied: tqdm in c:\\users\\chuny\\anaconda3\\envs\\comp4332\\lib\\site-packages (from nltk) (4.67.1)\n",
      "Requirement already satisfied: colorama in c:\\users\\chuny\\anaconda3\\envs\\comp4332\\lib\\site-packages (from click->nltk) (0.4.6)\n",
      "Downloading nltk-3.9.1-py3-none-any.whl (1.5 MB)\n",
      "   ---------------------------------------- 0.0/1.5 MB ? eta -:--:--\n",
      "   ---------------------------------------- 1.5/1.5 MB 20.1 MB/s eta 0:00:00\n",
      "Downloading regex-2024.11.6-cp311-cp311-win_amd64.whl (274 kB)\n",
      "Using cached click-8.1.8-py3-none-any.whl (98 kB)\n",
      "Installing collected packages: regex, click, nltk\n",
      "Successfully installed click-8.1.8 nltk-3.9.1 regex-2024.11.6\n",
      "Requirement already satisfied: numpy in c:\\users\\chuny\\anaconda3\\envs\\comp4332\\lib\\site-packages (2.2.3)\n",
      "Requirement already satisfied: pandas in c:\\users\\chuny\\anaconda3\\envs\\comp4332\\lib\\site-packages (2.2.3)\n",
      "Requirement already satisfied: numpy>=1.23.2 in c:\\users\\chuny\\anaconda3\\envs\\comp4332\\lib\\site-packages (from pandas) (2.2.3)\n",
      "Requirement already satisfied: python-dateutil>=2.8.2 in c:\\users\\chuny\\anaconda3\\envs\\comp4332\\lib\\site-packages (from pandas) (2.9.0.post0)\n",
      "Requirement already satisfied: pytz>=2020.1 in c:\\users\\chuny\\anaconda3\\envs\\comp4332\\lib\\site-packages (from pandas) (2025.1)\n",
      "Requirement already satisfied: tzdata>=2022.7 in c:\\users\\chuny\\anaconda3\\envs\\comp4332\\lib\\site-packages (from pandas) (2025.1)\n",
      "Requirement already satisfied: six>=1.5 in c:\\users\\chuny\\anaconda3\\envs\\comp4332\\lib\\site-packages (from python-dateutil>=2.8.2->pandas) (1.17.0)\n",
      "Requirement already satisfied: scikit-learn in c:\\users\\chuny\\anaconda3\\envs\\comp4332\\lib\\site-packages (1.6.1)\n",
      "Requirement already satisfied: numpy>=1.19.5 in c:\\users\\chuny\\anaconda3\\envs\\comp4332\\lib\\site-packages (from scikit-learn) (2.2.3)\n",
      "Requirement already satisfied: scipy>=1.6.0 in c:\\users\\chuny\\anaconda3\\envs\\comp4332\\lib\\site-packages (from scikit-learn) (1.15.2)\n",
      "Requirement already satisfied: joblib>=1.2.0 in c:\\users\\chuny\\anaconda3\\envs\\comp4332\\lib\\site-packages (from scikit-learn) (1.4.2)\n",
      "Requirement already satisfied: threadpoolctl>=3.1.0 in c:\\users\\chuny\\anaconda3\\envs\\comp4332\\lib\\site-packages (from scikit-learn) (3.5.0)\n",
      "Collecting tensorflow\n",
      "  Using cached tensorflow-2.18.0-cp311-cp311-win_amd64.whl.metadata (3.3 kB)\n",
      "Collecting tensorflow-intel==2.18.0 (from tensorflow)\n",
      "  Downloading tensorflow_intel-2.18.0-cp311-cp311-win_amd64.whl.metadata (4.9 kB)\n",
      "Collecting absl-py>=1.0.0 (from tensorflow-intel==2.18.0->tensorflow)\n",
      "  Using cached absl_py-2.1.0-py3-none-any.whl.metadata (2.3 kB)\n",
      "Collecting astunparse>=1.6.0 (from tensorflow-intel==2.18.0->tensorflow)\n",
      "  Using cached astunparse-1.6.3-py2.py3-none-any.whl.metadata (4.4 kB)\n",
      "Collecting flatbuffers>=24.3.25 (from tensorflow-intel==2.18.0->tensorflow)\n",
      "  Downloading flatbuffers-25.2.10-py2.py3-none-any.whl.metadata (875 bytes)\n",
      "Collecting gast!=0.5.0,!=0.5.1,!=0.5.2,>=0.2.1 (from tensorflow-intel==2.18.0->tensorflow)\n",
      "  Using cached gast-0.6.0-py3-none-any.whl.metadata (1.3 kB)\n",
      "Collecting google-pasta>=0.1.1 (from tensorflow-intel==2.18.0->tensorflow)\n",
      "  Using cached google_pasta-0.2.0-py3-none-any.whl.metadata (814 bytes)\n",
      "Collecting libclang>=13.0.0 (from tensorflow-intel==2.18.0->tensorflow)\n",
      "  Using cached libclang-18.1.1-py2.py3-none-win_amd64.whl.metadata (5.3 kB)\n",
      "Collecting opt-einsum>=2.3.2 (from tensorflow-intel==2.18.0->tensorflow)\n",
      "  Using cached opt_einsum-3.4.0-py3-none-any.whl.metadata (6.3 kB)\n",
      "Requirement already satisfied: packaging in c:\\users\\chuny\\anaconda3\\envs\\comp4332\\lib\\site-packages (from tensorflow-intel==2.18.0->tensorflow) (24.2)\n",
      "Collecting protobuf!=4.21.0,!=4.21.1,!=4.21.2,!=4.21.3,!=4.21.4,!=4.21.5,<6.0.0dev,>=3.20.3 (from tensorflow-intel==2.18.0->tensorflow)\n",
      "  Using cached protobuf-5.29.3-cp310-abi3-win_amd64.whl.metadata (592 bytes)\n",
      "Collecting requests<3,>=2.21.0 (from tensorflow-intel==2.18.0->tensorflow)\n",
      "  Using cached requests-2.32.3-py3-none-any.whl.metadata (4.6 kB)\n",
      "Requirement already satisfied: setuptools in c:\\users\\chuny\\anaconda3\\envs\\comp4332\\lib\\site-packages (from tensorflow-intel==2.18.0->tensorflow) (75.8.0)\n",
      "Requirement already satisfied: six>=1.12.0 in c:\\users\\chuny\\anaconda3\\envs\\comp4332\\lib\\site-packages (from tensorflow-intel==2.18.0->tensorflow) (1.17.0)\n",
      "Collecting termcolor>=1.1.0 (from tensorflow-intel==2.18.0->tensorflow)\n",
      "  Using cached termcolor-2.5.0-py3-none-any.whl.metadata (6.1 kB)\n",
      "Requirement already satisfied: typing-extensions>=3.6.6 in c:\\users\\chuny\\anaconda3\\envs\\comp4332\\lib\\site-packages (from tensorflow-intel==2.18.0->tensorflow) (4.12.2)\n",
      "Collecting wrapt>=1.11.0 (from tensorflow-intel==2.18.0->tensorflow)\n",
      "  Downloading wrapt-1.17.2-cp311-cp311-win_amd64.whl.metadata (6.5 kB)\n",
      "Collecting grpcio<2.0,>=1.24.3 (from tensorflow-intel==2.18.0->tensorflow)\n",
      "  Downloading grpcio-1.70.0-cp311-cp311-win_amd64.whl.metadata (4.0 kB)\n",
      "Collecting tensorboard<2.19,>=2.18 (from tensorflow-intel==2.18.0->tensorflow)\n",
      "  Using cached tensorboard-2.18.0-py3-none-any.whl.metadata (1.6 kB)\n",
      "Collecting keras>=3.5.0 (from tensorflow-intel==2.18.0->tensorflow)\n",
      "  Downloading keras-3.9.0-py3-none-any.whl.metadata (6.1 kB)\n",
      "Collecting numpy<2.1.0,>=1.26.0 (from tensorflow-intel==2.18.0->tensorflow)\n",
      "  Downloading numpy-2.0.2-cp311-cp311-win_amd64.whl.metadata (59 kB)\n",
      "Collecting h5py>=3.11.0 (from tensorflow-intel==2.18.0->tensorflow)\n",
      "  Downloading h5py-3.13.0-cp311-cp311-win_amd64.whl.metadata (2.5 kB)\n",
      "Collecting ml-dtypes<0.5.0,>=0.4.0 (from tensorflow-intel==2.18.0->tensorflow)\n",
      "  Downloading ml_dtypes-0.4.1-cp311-cp311-win_amd64.whl.metadata (20 kB)\n",
      "Collecting tensorflow-io-gcs-filesystem>=0.23.1 (from tensorflow-intel==2.18.0->tensorflow)\n",
      "  Using cached tensorflow_io_gcs_filesystem-0.31.0-cp311-cp311-win_amd64.whl.metadata (14 kB)\n",
      "Requirement already satisfied: wheel<1.0,>=0.23.0 in c:\\users\\chuny\\anaconda3\\envs\\comp4332\\lib\\site-packages (from astunparse>=1.6.0->tensorflow-intel==2.18.0->tensorflow) (0.45.1)\n",
      "Collecting rich (from keras>=3.5.0->tensorflow-intel==2.18.0->tensorflow)\n",
      "  Using cached rich-13.9.4-py3-none-any.whl.metadata (18 kB)\n",
      "Collecting namex (from keras>=3.5.0->tensorflow-intel==2.18.0->tensorflow)\n",
      "  Using cached namex-0.0.8-py3-none-any.whl.metadata (246 bytes)\n",
      "Collecting optree (from keras>=3.5.0->tensorflow-intel==2.18.0->tensorflow)\n",
      "  Downloading optree-0.14.1-cp311-cp311-win_amd64.whl.metadata (50 kB)\n",
      "Collecting charset-normalizer<4,>=2 (from requests<3,>=2.21.0->tensorflow-intel==2.18.0->tensorflow)\n",
      "  Using cached charset_normalizer-3.4.1-cp311-cp311-win_amd64.whl.metadata (36 kB)\n",
      "Requirement already satisfied: idna<4,>=2.5 in c:\\users\\chuny\\anaconda3\\envs\\comp4332\\lib\\site-packages (from requests<3,>=2.21.0->tensorflow-intel==2.18.0->tensorflow) (3.10)\n",
      "Collecting urllib3<3,>=1.21.1 (from requests<3,>=2.21.0->tensorflow-intel==2.18.0->tensorflow)\n",
      "  Using cached urllib3-2.3.0-py3-none-any.whl.metadata (6.5 kB)\n",
      "Requirement already satisfied: certifi>=2017.4.17 in c:\\users\\chuny\\anaconda3\\envs\\comp4332\\lib\\site-packages (from requests<3,>=2.21.0->tensorflow-intel==2.18.0->tensorflow) (2025.1.31)\n",
      "Collecting markdown>=2.6.8 (from tensorboard<2.19,>=2.18->tensorflow-intel==2.18.0->tensorflow)\n",
      "  Using cached Markdown-3.7-py3-none-any.whl.metadata (7.0 kB)\n",
      "Collecting tensorboard-data-server<0.8.0,>=0.7.0 (from tensorboard<2.19,>=2.18->tensorflow-intel==2.18.0->tensorflow)\n",
      "  Using cached tensorboard_data_server-0.7.2-py3-none-any.whl.metadata (1.1 kB)\n",
      "Collecting werkzeug>=1.0.1 (from tensorboard<2.19,>=2.18->tensorflow-intel==2.18.0->tensorflow)\n",
      "  Using cached werkzeug-3.1.3-py3-none-any.whl.metadata (3.7 kB)\n",
      "Collecting MarkupSafe>=2.1.1 (from werkzeug>=1.0.1->tensorboard<2.19,>=2.18->tensorflow-intel==2.18.0->tensorflow)\n",
      "  Using cached MarkupSafe-3.0.2-cp311-cp311-win_amd64.whl.metadata (4.1 kB)\n",
      "Collecting markdown-it-py>=2.2.0 (from rich->keras>=3.5.0->tensorflow-intel==2.18.0->tensorflow)\n",
      "  Using cached markdown_it_py-3.0.0-py3-none-any.whl.metadata (6.9 kB)\n",
      "Requirement already satisfied: pygments<3.0.0,>=2.13.0 in c:\\users\\chuny\\anaconda3\\envs\\comp4332\\lib\\site-packages (from rich->keras>=3.5.0->tensorflow-intel==2.18.0->tensorflow) (2.19.1)\n",
      "Collecting mdurl~=0.1 (from markdown-it-py>=2.2.0->rich->keras>=3.5.0->tensorflow-intel==2.18.0->tensorflow)\n",
      "  Using cached mdurl-0.1.2-py3-none-any.whl.metadata (1.6 kB)\n",
      "Downloading tensorflow-2.18.0-cp311-cp311-win_amd64.whl (7.5 kB)\n",
      "Downloading tensorflow_intel-2.18.0-cp311-cp311-win_amd64.whl (390.2 MB)\n",
      "   ---------------------------------------- 0.0/390.2 MB ? eta -:--:--\n",
      "    --------------------------------------- 6.3/390.2 MB 32.2 MB/s eta 0:00:12\n",
      "   - -------------------------------------- 14.4/390.2 MB 34.9 MB/s eta 0:00:11\n",
      "   -- ------------------------------------- 23.9/390.2 MB 37.7 MB/s eta 0:00:10\n",
      "   --- ------------------------------------ 32.2/390.2 MB 37.9 MB/s eta 0:00:10\n",
      "   ---- ----------------------------------- 41.2/390.2 MB 38.5 MB/s eta 0:00:10\n",
      "   ----- ---------------------------------- 49.8/390.2 MB 39.2 MB/s eta 0:00:09\n",
      "   ------ --------------------------------- 59.0/390.2 MB 39.6 MB/s eta 0:00:09\n",
      "   ------ --------------------------------- 67.6/390.2 MB 39.6 MB/s eta 0:00:09\n",
      "   ------- -------------------------------- 75.2/390.2 MB 39.0 MB/s eta 0:00:09\n",
      "   -------- ------------------------------- 83.4/390.2 MB 39.1 MB/s eta 0:00:08\n",
      "   --------- ------------------------------ 91.2/390.2 MB 39.3 MB/s eta 0:00:08\n",
      "   ---------- ---------------------------- 100.9/390.2 MB 39.5 MB/s eta 0:00:08\n",
      "   ----------- --------------------------- 110.6/390.2 MB 39.9 MB/s eta 0:00:08\n",
      "   ------------ -------------------------- 120.3/390.2 MB 40.2 MB/s eta 0:00:07\n",
      "   ------------ -------------------------- 129.2/390.2 MB 40.5 MB/s eta 0:00:07\n",
      "   ------------- ------------------------- 136.8/390.2 MB 40.1 MB/s eta 0:00:07\n",
      "   -------------- ------------------------ 146.3/390.2 MB 40.3 MB/s eta 0:00:07\n",
      "   --------------- ----------------------- 155.5/390.2 MB 40.4 MB/s eta 0:00:06\n",
      "   ---------------- ---------------------- 162.3/390.2 MB 40.0 MB/s eta 0:00:06\n",
      "   ----------------- --------------------- 171.2/390.2 MB 40.1 MB/s eta 0:00:06\n",
      "   ------------------ -------------------- 180.9/390.2 MB 40.3 MB/s eta 0:00:06\n",
      "   ------------------ -------------------- 189.8/390.2 MB 40.4 MB/s eta 0:00:05\n",
      "   ------------------- ------------------- 197.1/390.2 MB 40.1 MB/s eta 0:00:05\n",
      "   -------------------- ------------------ 206.0/390.2 MB 40.2 MB/s eta 0:00:05\n",
      "   --------------------- ----------------- 216.3/390.2 MB 40.4 MB/s eta 0:00:05\n",
      "   ---------------------- ---------------- 226.0/390.2 MB 40.7 MB/s eta 0:00:05\n",
      "   ----------------------- --------------- 235.7/390.2 MB 40.8 MB/s eta 0:00:04\n",
      "   ------------------------ -------------- 244.8/390.2 MB 41.0 MB/s eta 0:00:04\n",
      "   ------------------------- ------------- 253.2/390.2 MB 40.9 MB/s eta 0:00:04\n",
      "   -------------------------- ------------ 260.3/390.2 MB 40.6 MB/s eta 0:00:04\n",
      "   -------------------------- ------------ 268.4/390.2 MB 40.9 MB/s eta 0:00:03\n",
      "   --------------------------- ----------- 276.6/390.2 MB 40.9 MB/s eta 0:00:03\n",
      "   ---------------------------- ---------- 285.0/390.2 MB 40.8 MB/s eta 0:00:03\n",
      "   ----------------------------- --------- 293.9/390.2 MB 40.8 MB/s eta 0:00:03\n",
      "   ------------------------------ -------- 302.3/390.2 MB 40.8 MB/s eta 0:00:03\n",
      "   ------------------------------- ------- 310.9/390.2 MB 40.8 MB/s eta 0:00:02\n",
      "   ------------------------------- ------- 318.0/390.2 MB 40.5 MB/s eta 0:00:02\n",
      "   -------------------------------- ------ 325.8/390.2 MB 40.5 MB/s eta 0:00:02\n",
      "   --------------------------------- ----- 336.3/390.2 MB 40.8 MB/s eta 0:00:02\n",
      "   ---------------------------------- ---- 345.0/390.2 MB 40.9 MB/s eta 0:00:02\n",
      "   ----------------------------------- --- 354.2/390.2 MB 40.9 MB/s eta 0:00:01\n",
      "   ------------------------------------ -- 362.8/390.2 MB 40.8 MB/s eta 0:00:01\n",
      "   ------------------------------------- - 371.2/390.2 MB 40.6 MB/s eta 0:00:01\n",
      "   ------------------------------------- - 378.5/390.2 MB 40.3 MB/s eta 0:00:01\n",
      "   --------------------------------------  386.9/390.2 MB 40.3 MB/s eta 0:00:01\n",
      "   --------------------------------------  390.1/390.2 MB 40.4 MB/s eta 0:00:01\n",
      "   --------------------------------------  390.1/390.2 MB 40.4 MB/s eta 0:00:01\n",
      "   --------------------------------------  390.1/390.2 MB 40.4 MB/s eta 0:00:01\n",
      "   --------------------------------------  390.1/390.2 MB 40.4 MB/s eta 0:00:01\n",
      "   --------------------------------------- 390.2/390.2 MB 35.4 MB/s eta 0:00:00\n",
      "Using cached absl_py-2.1.0-py3-none-any.whl (133 kB)\n",
      "Using cached astunparse-1.6.3-py2.py3-none-any.whl (12 kB)\n",
      "Downloading flatbuffers-25.2.10-py2.py3-none-any.whl (30 kB)\n",
      "Using cached gast-0.6.0-py3-none-any.whl (21 kB)\n",
      "Using cached google_pasta-0.2.0-py3-none-any.whl (57 kB)\n",
      "Downloading grpcio-1.70.0-cp311-cp311-win_amd64.whl (4.3 MB)\n",
      "   ---------------------------------------- 0.0/4.3 MB ? eta -:--:--\n",
      "   ---------------------------------------- 4.3/4.3 MB 28.9 MB/s eta 0:00:00\n",
      "Downloading h5py-3.13.0-cp311-cp311-win_amd64.whl (3.0 MB)\n",
      "   ---------------------------------------- 0.0/3.0 MB ? eta -:--:--\n",
      "   ---------------------------------------- 3.0/3.0 MB 28.8 MB/s eta 0:00:00\n",
      "Downloading keras-3.9.0-py3-none-any.whl (1.3 MB)\n",
      "   ---------------------------------------- 0.0/1.3 MB ? eta -:--:--\n",
      "   ---------------------------------------- 1.3/1.3 MB 34.8 MB/s eta 0:00:00\n",
      "Using cached libclang-18.1.1-py2.py3-none-win_amd64.whl (26.4 MB)\n",
      "Downloading ml_dtypes-0.4.1-cp311-cp311-win_amd64.whl (126 kB)\n",
      "Downloading numpy-2.0.2-cp311-cp311-win_amd64.whl (15.9 MB)\n",
      "   ---------------------------------------- 0.0/15.9 MB ? eta -:--:--\n",
      "   ------------------ --------------------- 7.3/15.9 MB 37.6 MB/s eta 0:00:01\n",
      "   ---------------------------------------  15.7/15.9 MB 39.6 MB/s eta 0:00:01\n",
      "   ---------------------------------------- 15.9/15.9 MB 35.7 MB/s eta 0:00:00\n",
      "Using cached opt_einsum-3.4.0-py3-none-any.whl (71 kB)\n",
      "Using cached protobuf-5.29.3-cp310-abi3-win_amd64.whl (434 kB)\n",
      "Using cached requests-2.32.3-py3-none-any.whl (64 kB)\n",
      "Using cached tensorboard-2.18.0-py3-none-any.whl (5.5 MB)\n",
      "Using cached tensorflow_io_gcs_filesystem-0.31.0-cp311-cp311-win_amd64.whl (1.5 MB)\n",
      "Using cached termcolor-2.5.0-py3-none-any.whl (7.8 kB)\n",
      "Downloading wrapt-1.17.2-cp311-cp311-win_amd64.whl (38 kB)\n",
      "Using cached charset_normalizer-3.4.1-cp311-cp311-win_amd64.whl (102 kB)\n",
      "Using cached Markdown-3.7-py3-none-any.whl (106 kB)\n",
      "Using cached tensorboard_data_server-0.7.2-py3-none-any.whl (2.4 kB)\n",
      "Using cached urllib3-2.3.0-py3-none-any.whl (128 kB)\n",
      "Using cached werkzeug-3.1.3-py3-none-any.whl (224 kB)\n",
      "Using cached namex-0.0.8-py3-none-any.whl (5.8 kB)\n",
      "Downloading optree-0.14.1-cp311-cp311-win_amd64.whl (305 kB)\n",
      "Using cached rich-13.9.4-py3-none-any.whl (242 kB)\n",
      "Using cached markdown_it_py-3.0.0-py3-none-any.whl (87 kB)\n",
      "Using cached MarkupSafe-3.0.2-cp311-cp311-win_amd64.whl (15 kB)\n",
      "Using cached mdurl-0.1.2-py3-none-any.whl (10.0 kB)\n",
      "Installing collected packages: namex, libclang, flatbuffers, wrapt, urllib3, termcolor, tensorflow-io-gcs-filesystem, tensorboard-data-server, protobuf, optree, opt-einsum, numpy, mdurl, MarkupSafe, markdown, grpcio, google-pasta, gast, charset-normalizer, astunparse, absl-py, werkzeug, requests, ml-dtypes, markdown-it-py, h5py, tensorboard, rich, keras, tensorflow-intel, tensorflow\n",
      "  Attempting uninstall: numpy\n",
      "    Found existing installation: numpy 2.2.3\n",
      "    Uninstalling numpy-2.2.3:\n",
      "      Successfully uninstalled numpy-2.2.3\n",
      "Successfully installed MarkupSafe-3.0.2 absl-py-2.1.0 astunparse-1.6.3 charset-normalizer-3.4.1 flatbuffers-25.2.10 gast-0.6.0 google-pasta-0.2.0 grpcio-1.70.0 h5py-3.13.0 keras-3.9.0 libclang-18.1.1 markdown-3.7 markdown-it-py-3.0.0 mdurl-0.1.2 ml-dtypes-0.4.1 namex-0.0.8 numpy-2.0.2 opt-einsum-3.4.0 optree-0.14.1 protobuf-5.29.3 requests-2.32.3 rich-13.9.4 tensorboard-2.18.0 tensorboard-data-server-0.7.2 tensorflow-2.18.0 tensorflow-intel-2.18.0 tensorflow-io-gcs-filesystem-0.31.0 termcolor-2.5.0 urllib3-2.3.0 werkzeug-3.1.3 wrapt-1.17.2\n"
     ]
    }
   ],
   "source": [
    "# You can run this block to set up your environment. You don't need to run this block if you have already\n",
    "# finished your environment set up\n",
    "!pip install nltk\n",
    "!pip install numpy\n",
    "!pip install pandas\n",
    "!pip install scikit-learn\n",
    "!pip install tensorflow"
   ]
  },
  {
   "cell_type": "markdown",
   "metadata": {},
   "source": [
    "## Data Loader"
   ]
  },
  {
   "cell_type": "markdown",
   "metadata": {},
   "source": [
    "Python provides a lot of packages to load files in different formats. We provide a simple data loader to help you load .csv files."
   ]
  },
  {
   "cell_type": "code",
   "execution_count": 8,
   "metadata": {},
   "outputs": [],
   "source": [
    "import pandas as pd\n",
    "\n",
    "def load_data(file_name):\n",
    "    \"\"\"\n",
    "    :param file_name: a file name, type: str\n",
    "    return a list of ids, a list of reviews, a list of labels\n",
    "    https://pandas.pydata.org/pandas-docs/stable/generated/pandas.read_csv.html\n",
    "    \"\"\"\n",
    "    df = pd.read_csv(file_name)\n",
    "\n",
    "    return df['id'], df[\"text\"], df['label']\n",
    "\n",
    "def load_labels(file_name):\n",
    "    \"\"\"\n",
    "    :param file_name: a file name, type: str\n",
    "    return a list of labels\n",
    "    \"\"\"\n",
    "    return pd.read_csv(file_name)['label']\n",
    "\n",
    "def write_predictions(file_name, pred):\n",
    "    df = pd.DataFrame(zip(range(len(pred)), pred))\n",
    "    df.columns = [\"id\", \"label\"]\n",
    "    df.to_csv(file_name, index=False)"
   ]
  },
  {
   "cell_type": "markdown",
   "metadata": {},
   "source": [
    "## Feature Extractor"
   ]
  },
  {
   "cell_type": "markdown",
   "metadata": {},
   "source": [
    "\n",
    "The **feature extractor** is one of the most important parts in a pipeline.\n",
    "In this tutorial, we introduce four different functions to extract features.\n"
   ]
  },
  {
   "cell_type": "code",
   "execution_count": 9,
   "metadata": {},
   "outputs": [
    {
     "name": "stderr",
     "output_type": "stream",
     "text": [
      "[nltk_data] Downloading package punkt_tab to\n",
      "[nltk_data]     C:\\Users\\chuny\\AppData\\Roaming\\nltk_data...\n",
      "[nltk_data]   Package punkt_tab is already up-to-date!\n"
     ]
    }
   ],
   "source": [
    "import nltk\n",
    "nltk.download('punkt_tab')\n",
    "\n",
    "def tokenize(text):\n",
    "    \"\"\"\n",
    "    :param text: a doc with multiple sentences, type: str\n",
    "    return a word list, type: list\n",
    "    e.g.\n",
    "    Input: 'Text mining is to identify useful information.'\n",
    "    Output: ['Text', 'mining', 'is', 'to', 'identify', 'useful', 'information', '.']\n",
    "    \"\"\"\n",
    "    return nltk.word_tokenize(text)"
   ]
  },
  {
   "cell_type": "markdown",
   "metadata": {},
   "source": [
    "Given a sentence. *'Text mining is to identify useful information.'*, this function is used to tokenize it to a list of tokens."
   ]
  },
  {
   "cell_type": "code",
   "execution_count": 10,
   "metadata": {},
   "outputs": [
    {
     "name": "stdout",
     "output_type": "stream",
     "text": [
      "['Text', 'mining', 'is', 'to', 'identify', 'useful', 'information', '.']\n"
     ]
    }
   ],
   "source": [
    "tokens = tokenize(\"Text mining is to identify useful information.\")\n",
    "print(tokens)"
   ]
  },
  {
   "cell_type": "markdown",
   "metadata": {},
   "source": [
    "Here we simply treat each word as a feature. Assume we get all features, the next step is to make these features suitable for the following models.\n",
    "One simple and common way is to use the one-hot vector (maybe it is not the best solution)."
   ]
  },
  {
   "cell_type": "code",
   "execution_count": 11,
   "metadata": {},
   "outputs": [],
   "source": [
    "import numpy as np\n",
    "\n",
    "def get_onehot_vector(feats, feats_dict):\n",
    "    \"\"\"\n",
    "    :param data: a list of features, type: list\n",
    "    :param feats_dict: a dict from features to indices, type: dict\n",
    "    return a feature vector,\n",
    "    \"\"\"\n",
    "    # initialize the vector as all zeros\n",
    "    vector = np.zeros(len(feats_dict), dtype=float)\n",
    "    for f in feats:\n",
    "        # get the feature index, return -1 if the feature is not existed\n",
    "        f_idx = feats_dict.get(f, -1)\n",
    "        if f_idx != -1:\n",
    "            # set the corresponding element as 1\n",
    "            vector[f_idx] = 1\n",
    "    return vector"
   ]
  },
  {
   "cell_type": "code",
   "execution_count": 12,
   "metadata": {},
   "outputs": [
    {
     "name": "stdout",
     "output_type": "stream",
     "text": [
      "[1. 1. 0. 0.]\n"
     ]
    }
   ],
   "source": [
    "print(get_onehot_vector(tokens, {\"Text\": 0, \"mining\": 1, \"COMP\": 2, \"HKUST\": 3}))"
   ]
  },
  {
   "cell_type": "markdown",
   "metadata": {},
   "source": [
    "In this example, \"text\" and \"mine\" appears in the tokens but \"COMP\" and \"HKUST\" not. So the 0 th, 1 th elements are ones and other elements are ones."
   ]
  },
  {
   "cell_type": "markdown",
   "metadata": {},
   "source": [
    "## Classifier"
   ]
  },
  {
   "cell_type": "markdown",
   "metadata": {},
   "source": [
    "### Single Layer Perceptron"
   ]
  },
  {
   "cell_type": "markdown",
   "metadata": {},
   "source": [
    "We introduce a 1-layer perceptron to classify reviews. This perceptron includes 1 dense layer with the softmax activation.\n",
    "Keras is the easiest deep learning framework so that we choose it to build this network."
   ]
  },
  {
   "cell_type": "code",
   "execution_count": 13,
   "metadata": {},
   "outputs": [],
   "source": [
    "import tensorflow as tf\n",
    "from tensorflow.keras.models import Sequential\n",
    "from tensorflow.keras.layers import Dense\n",
    "from tensorflow.keras.optimizers import SGD\n",
    "\n",
    "\n",
    "def build_SLP(input_size, output_size, learning_rate=0.1):\n",
    "    \"\"\"\n",
    "    :param input_size: the dimension of the input, type: int\n",
    "    :param output_size: the dimension of the prediction, type: int\n",
    "    :param learning_rate: the learning rate for SGD\n",
    "    return a 1-layer perceptron,\n",
    "    \"\"\"\n",
    "    model = Sequential()\n",
    "    \n",
    "    # add 1 layer with softmax activation\n",
    "    # you should specify the output size, the input_size, and the activation function\n",
    "    model.add(Dense(output_size, activation=\"softmax\", input_dim=input_size))\n",
    "    \n",
    "    # set the loss as categorical_crossentropy, the metric as accuracy, and the optimizer as SGD\n",
    "    model.compile(loss='categorical_crossentropy', optimizer=SGD(learning_rate=learning_rate), metrics=['accuracy'])\n",
    "    \n",
    "    return model"
   ]
  },
  {
   "cell_type": "markdown",
   "metadata": {},
   "source": [
    "### Multi Layer Perceptron"
   ]
  },
  {
   "cell_type": "markdown",
   "metadata": {},
   "source": [
    "One vital change in multi-layer perceptron is the number of layers. We stack more layers so that extracted features can be further enhanced in hidden layers."
   ]
  },
  {
   "cell_type": "code",
   "execution_count": 14,
   "metadata": {},
   "outputs": [],
   "source": [
    "from tensorflow.keras.models import Sequential\n",
    "from tensorflow.keras.layers import Dense, Activation, Dropout, BatchNormalization, LayerNormalization\n",
    "import tensorflow.keras as K\n",
    "\n",
    "def build_MLP(input_size, output_size, num_layers, hidden_size,\n",
    "              activation=\"relu\",\n",
    "              dropout_rate=0.0,\n",
    "              batch_norm=False,\n",
    "              layer_norm=False,\n",
    "              l2_reg=0.0,\n",
    "              loss=\"categorical_crossentropy\",\n",
    "              optimizer=\"SGD\",\n",
    "              learning_rate=0.1,\n",
    "              metric=\"accuracy\"):\n",
    "    \"\"\"\n",
    "    :param input_size: the dimension of the input, type: int\n",
    "    :param output_size: the dimension of the prediction, type: int\n",
    "    :param num_layers: the number of layers, type: int\n",
    "    :param hidden_size: the dimension of the hidden states, type: int\n",
    "    :param activation: the activation type, type: str\n",
    "    :param dropout_rate: the probability of dropout, type: float\n",
    "    :param batch_norm: whether to enable batch normalization, type: bool\n",
    "    :param layer_norm: whether to enable layer normalization, type: bool\n",
    "    :param l2_reg: the weight for the L2 regularizer, type: float\n",
    "    :param loss: the training loss, type: str\n",
    "    :param optimizer: the optimizer, type: str\n",
    "    :param learning_rate: the learning rate for the optimizer, type: float\n",
    "    :param metric: the metric, type: str\n",
    "    return: a multi-layer perceptron\n",
    "    \"\"\"\n",
    "    model = Sequential()\n",
    "\n",
    "    if num_layers == 1:\n",
    "        model.add(Dense(output_size,\n",
    "                        activation=\"softmax\",\n",
    "                        input_dim=input_size,\n",
    "                        kernel_initializer=K.initializers.he_normal(seed=0),\n",
    "                        bias_initializer=\"zeros\",\n",
    "                        kernel_regularizer=K.regularizers.l2(l2_reg)))\n",
    "    else:\n",
    "        for i in range(num_layers - 1):\n",
    "            if i == 0:\n",
    "                # first layer: input -> hidden\n",
    "                model.add(Dense(hidden_size,\n",
    "                                input_dim=input_size,\n",
    "                                kernel_initializer=K.initializers.he_normal(seed=0),\n",
    "                                bias_initializer=\"zeros\",\n",
    "                                kernel_regularizer=K.regularizers.l2(l2_reg)))\n",
    "            else:\n",
    "                # hidden layers: hidden -> hidden\n",
    "                model.add(Dense(hidden_size,\n",
    "                                kernel_initializer=K.initializers.he_normal(seed=0),\n",
    "                                bias_initializer=\"zeros\",\n",
    "                                kernel_regularizer=K.regularizers.l2(l2_reg)))\n",
    "\n",
    "            # add layer_norm\n",
    "            if layer_norm:\n",
    "                model.add(LayerNormalization())\n",
    "            # add batch_norm\n",
    "            if batch_norm:\n",
    "                model.add(BatchNormalization())\n",
    "            # add activation\n",
    "            model.add(Activation(activation))\n",
    "            # add dropout here (set seed as 0 in order to reproduce)\n",
    "            if dropout_rate > 0.0:\n",
    "                model.add(Dropout(dropout_rate, seed=0))\n",
    "\n",
    "        # last layer: hidden -> class\n",
    "        model.add(Dense(output_size,\n",
    "                        activation=\"softmax\",\n",
    "                        kernel_initializer=K.initializers.he_normal(seed=0),\n",
    "                        bias_initializer=\"zeros\"))\n",
    "\n",
    "    # set the loss, the optimizer, and the metric\n",
    "    if optimizer == \"SGD\":\n",
    "        optimizer = K.optimizers.SGD(learning_rate=learning_rate)\n",
    "    elif optimizer == \"RMSprop\":\n",
    "        optimizer = K.optimizers.RMSprop(learning_rate=learning_rate)\n",
    "    elif optimizer == \"Adam\":\n",
    "        optimizer = K.optimizers.Adam(learning_rate=learning_rate)\n",
    "    else:\n",
    "        raise NotImplementedError(\"Optimizer not implemented.\")\n",
    "    \n",
    "    model.compile(loss=loss, optimizer=optimizer, metrics=[metric])\n",
    "    \n",
    "    return model"
   ]
  },
  {
   "cell_type": "markdown",
   "metadata": {},
   "source": [
    "### Connect All Parts"
   ]
  },
  {
   "cell_type": "markdown",
   "metadata": {},
   "source": [
    "Now we have the data loader, feature extractor, and the classifier. We can connect them to finish this pipeline of classification."
   ]
  },
  {
   "cell_type": "code",
   "execution_count": 15,
   "metadata": {},
   "outputs": [
    {
     "name": "stdout",
     "output_type": "stream",
     "text": [
      "Size of features: 16202\n"
     ]
    }
   ],
   "source": [
    "train_file = \"data/train.csv\"\n",
    "test_file = \"data/test.csv\"\n",
    "ans_file = \"data/ans.csv\"\n",
    "pred_file = \"data/pred.csv\"\n",
    "\n",
    "# load data\n",
    "train_ids, train_texts, train_labels = load_data(train_file)\n",
    "test_ids, test_texts, _ = load_data(test_file)\n",
    "test_labels = load_labels(ans_file)\n",
    "\n",
    "# extract features\n",
    "\n",
    "# tokenization\n",
    "# the input is the text and the output is the word list\n",
    "train_tokens = [tokenize(text) for text in train_texts]\n",
    "test_tokens = [tokenize(text) for text in test_texts]\n",
    "\n",
    "\n",
    "# build the feature list\n",
    "train_feats = list()\n",
    "for i in range(len(train_ids)):\n",
    "    # concatenate the stemmed token list and the 2_gram list together\n",
    "    train_feats.append(train_tokens[i])\n",
    "test_feats = list()\n",
    "for i in range(len(test_ids)):\n",
    "    # concatenate the stemmed token list and the 2_gram list together\n",
    "    test_feats.append(test_tokens[i])\n",
    "\n",
    "# build the feature dict\n",
    "feats = set()\n",
    "# collect all features\n",
    "for f in train_feats:\n",
    "    feats.update(f)\n",
    "print(\"Size of features:\", len(feats))\n",
    "# build a mapping from features to indices\n",
    "feats_dict = dict(zip(feats, range(len(feats))))\n",
    "\n",
    "# build the feats_matrix\n",
    "# convert each example to a ont-hot vector, and then stack vectors as a matrix\n",
    "train_feats_matrix = np.vstack([get_onehot_vector(f, feats_dict) for f in train_feats])\n",
    "test_feats_matrix = np.vstack([get_onehot_vector(f, feats_dict) for f in test_feats])\n",
    "\n",
    "# convert labels to label_matrix\n",
    "num_classes = max(train_labels)\n",
    "# convert each label to a ont-hot vector, and then stack vectors as a matrix\n",
    "train_label_matrix = tf.keras.utils.to_categorical(train_labels-1, num_classes=num_classes)\n",
    "test_label_matrix = tf.keras.utils.to_categorical(test_labels-1, num_classes=num_classes)\n"
   ]
  },
  {
   "cell_type": "code",
   "execution_count": 16,
   "metadata": {},
   "outputs": [
    {
     "name": "stderr",
     "output_type": "stream",
     "text": [
      "c:\\Users\\chuny\\anaconda3\\envs\\comp4332\\Lib\\site-packages\\keras\\src\\layers\\core\\dense.py:87: UserWarning: Do not pass an `input_shape`/`input_dim` argument to a layer. When using Sequential models, prefer using an `Input(shape)` object as the first layer in the model instead.\n",
      "  super().__init__(activity_regularizer=activity_regularizer, **kwargs)\n"
     ]
    }
   ],
   "source": [
    "# build the classifier\n",
    "\n",
    "model_SLP = build_SLP(len(feats_dict), num_classes, learning_rate=0.1)\n",
    "\n",
    "model_MLP = build_MLP(len(feats_dict), num_classes, 3, 64, learning_rate=0.1)"
   ]
  },
  {
   "cell_type": "markdown",
   "metadata": {},
   "source": [
    "### Splite Validation Set and Train the model"
   ]
  },
  {
   "cell_type": "markdown",
   "metadata": {},
   "source": [
    "When we do not know the test performance, it is not easy to check when the classifier is good enough. Hence, we set the epochs manually (e.g. total_epoch = 10).\n",
    "If we have a validation set, we can use the validation performance to find the best classifier during the training."
   ]
  },
  {
   "cell_type": "code",
   "execution_count": 17,
   "metadata": {},
   "outputs": [
    {
     "name": "stdout",
     "output_type": "stream",
     "text": [
      "(2000, 16202) (2000, 5)\n"
     ]
    }
   ],
   "source": [
    "print(train_feats_matrix.shape, train_label_matrix.shape)"
   ]
  },
  {
   "cell_type": "code",
   "execution_count": 18,
   "metadata": {},
   "outputs": [
    {
     "name": "stdout",
     "output_type": "stream",
     "text": [
      "Epoch 1/40\n",
      "\u001b[1m18/18\u001b[0m \u001b[32m━━━━━━━━━━━━━━━━━━━━\u001b[0m\u001b[37m\u001b[0m \u001b[1m1s\u001b[0m 17ms/step - accuracy: 0.4240 - loss: 1.4633 - val_accuracy: 0.5000 - val_loss: 1.3472\n",
      "Epoch 2/40\n",
      "\u001b[1m18/18\u001b[0m \u001b[32m━━━━━━━━━━━━━━━━━━━━\u001b[0m\u001b[37m\u001b[0m \u001b[1m0s\u001b[0m 6ms/step - accuracy: 0.4954 - loss: 1.2713 - val_accuracy: 0.4850 - val_loss: 1.2585\n",
      "Epoch 3/40\n",
      "\u001b[1m18/18\u001b[0m \u001b[32m━━━━━━━━━━━━━━━━━━━━\u001b[0m\u001b[37m\u001b[0m \u001b[1m0s\u001b[0m 6ms/step - accuracy: 0.5182 - loss: 1.1813 - val_accuracy: 0.5100 - val_loss: 1.2087\n",
      "Epoch 4/40\n",
      "\u001b[1m18/18\u001b[0m \u001b[32m━━━━━━━━━━━━━━━━━━━━\u001b[0m\u001b[37m\u001b[0m \u001b[1m0s\u001b[0m 6ms/step - accuracy: 0.5681 - loss: 1.0777 - val_accuracy: 0.5150 - val_loss: 1.1719\n",
      "Epoch 5/40\n",
      "\u001b[1m18/18\u001b[0m \u001b[32m━━━━━━━━━━━━━━━━━━━━\u001b[0m\u001b[37m\u001b[0m \u001b[1m0s\u001b[0m 6ms/step - accuracy: 0.6131 - loss: 1.0142 - val_accuracy: 0.5400 - val_loss: 1.1502\n",
      "Epoch 6/40\n",
      "\u001b[1m18/18\u001b[0m \u001b[32m━━━━━━━━━━━━━━━━━━━━\u001b[0m\u001b[37m\u001b[0m \u001b[1m0s\u001b[0m 6ms/step - accuracy: 0.6454 - loss: 0.9745 - val_accuracy: 0.5200 - val_loss: 1.1257\n",
      "Epoch 7/40\n",
      "\u001b[1m18/18\u001b[0m \u001b[32m━━━━━━━━━━━━━━━━━━━━\u001b[0m\u001b[37m\u001b[0m \u001b[1m0s\u001b[0m 6ms/step - accuracy: 0.6482 - loss: 0.9434 - val_accuracy: 0.5500 - val_loss: 1.1055\n",
      "Epoch 8/40\n",
      "\u001b[1m18/18\u001b[0m \u001b[32m━━━━━━━━━━━━━━━━━━━━\u001b[0m\u001b[37m\u001b[0m \u001b[1m0s\u001b[0m 6ms/step - accuracy: 0.6858 - loss: 0.9072 - val_accuracy: 0.5650 - val_loss: 1.0968\n",
      "Epoch 9/40\n",
      "\u001b[1m18/18\u001b[0m \u001b[32m━━━━━━━━━━━━━━━━━━━━\u001b[0m\u001b[37m\u001b[0m \u001b[1m0s\u001b[0m 6ms/step - accuracy: 0.6970 - loss: 0.8739 - val_accuracy: 0.5800 - val_loss: 1.0804\n",
      "Epoch 10/40\n",
      "\u001b[1m18/18\u001b[0m \u001b[32m━━━━━━━━━━━━━━━━━━━━\u001b[0m\u001b[37m\u001b[0m \u001b[1m0s\u001b[0m 6ms/step - accuracy: 0.7240 - loss: 0.8321 - val_accuracy: 0.5750 - val_loss: 1.0681\n",
      "Epoch 11/40\n",
      "\u001b[1m18/18\u001b[0m \u001b[32m━━━━━━━━━━━━━━━━━━━━\u001b[0m\u001b[37m\u001b[0m \u001b[1m0s\u001b[0m 5ms/step - accuracy: 0.7128 - loss: 0.8162 - val_accuracy: 0.5850 - val_loss: 1.0560\n",
      "Epoch 12/40\n",
      "\u001b[1m18/18\u001b[0m \u001b[32m━━━━━━━━━━━━━━━━━━━━\u001b[0m\u001b[37m\u001b[0m \u001b[1m0s\u001b[0m 6ms/step - accuracy: 0.7476 - loss: 0.7810 - val_accuracy: 0.5800 - val_loss: 1.0469\n",
      "Epoch 13/40\n",
      "\u001b[1m18/18\u001b[0m \u001b[32m━━━━━━━━━━━━━━━━━━━━\u001b[0m\u001b[37m\u001b[0m \u001b[1m0s\u001b[0m 6ms/step - accuracy: 0.7442 - loss: 0.7902 - val_accuracy: 0.5800 - val_loss: 1.0399\n",
      "Epoch 14/40\n",
      "\u001b[1m18/18\u001b[0m \u001b[32m━━━━━━━━━━━━━━━━━━━━\u001b[0m\u001b[37m\u001b[0m \u001b[1m0s\u001b[0m 6ms/step - accuracy: 0.7691 - loss: 0.7231 - val_accuracy: 0.6000 - val_loss: 1.0337\n",
      "Epoch 15/40\n",
      "\u001b[1m18/18\u001b[0m \u001b[32m━━━━━━━━━━━━━━━━━━━━\u001b[0m\u001b[37m\u001b[0m \u001b[1m0s\u001b[0m 6ms/step - accuracy: 0.7801 - loss: 0.7341 - val_accuracy: 0.5800 - val_loss: 1.0292\n",
      "Epoch 16/40\n",
      "\u001b[1m18/18\u001b[0m \u001b[32m━━━━━━━━━━━━━━━━━━━━\u001b[0m\u001b[37m\u001b[0m \u001b[1m0s\u001b[0m 6ms/step - accuracy: 0.7777 - loss: 0.7198 - val_accuracy: 0.5800 - val_loss: 1.0242\n",
      "Epoch 17/40\n",
      "\u001b[1m18/18\u001b[0m \u001b[32m━━━━━━━━━━━━━━━━━━━━\u001b[0m\u001b[37m\u001b[0m \u001b[1m0s\u001b[0m 6ms/step - accuracy: 0.8090 - loss: 0.6764 - val_accuracy: 0.6200 - val_loss: 1.0108\n",
      "Epoch 18/40\n",
      "\u001b[1m18/18\u001b[0m \u001b[32m━━━━━━━━━━━━━━━━━━━━\u001b[0m\u001b[37m\u001b[0m \u001b[1m0s\u001b[0m 6ms/step - accuracy: 0.7978 - loss: 0.6927 - val_accuracy: 0.6200 - val_loss: 1.0119\n",
      "Epoch 19/40\n",
      "\u001b[1m18/18\u001b[0m \u001b[32m━━━━━━━━━━━━━━━━━━━━\u001b[0m\u001b[37m\u001b[0m \u001b[1m0s\u001b[0m 6ms/step - accuracy: 0.8034 - loss: 0.6683 - val_accuracy: 0.6250 - val_loss: 1.0062\n",
      "Epoch 20/40\n",
      "\u001b[1m18/18\u001b[0m \u001b[32m━━━━━━━━━━━━━━━━━━━━\u001b[0m\u001b[37m\u001b[0m \u001b[1m0s\u001b[0m 6ms/step - accuracy: 0.8281 - loss: 0.6300 - val_accuracy: 0.6250 - val_loss: 1.0046\n",
      "Epoch 21/40\n",
      "\u001b[1m18/18\u001b[0m \u001b[32m━━━━━━━━━━━━━━━━━━━━\u001b[0m\u001b[37m\u001b[0m \u001b[1m0s\u001b[0m 7ms/step - accuracy: 0.8298 - loss: 0.6185 - val_accuracy: 0.6300 - val_loss: 0.9990\n",
      "Epoch 22/40\n",
      "\u001b[1m18/18\u001b[0m \u001b[32m━━━━━━━━━━━━━━━━━━━━\u001b[0m\u001b[37m\u001b[0m \u001b[1m0s\u001b[0m 6ms/step - accuracy: 0.8264 - loss: 0.6104 - val_accuracy: 0.6250 - val_loss: 0.9975\n",
      "Epoch 23/40\n",
      "\u001b[1m18/18\u001b[0m \u001b[32m━━━━━━━━━━━━━━━━━━━━\u001b[0m\u001b[37m\u001b[0m \u001b[1m0s\u001b[0m 6ms/step - accuracy: 0.8440 - loss: 0.5958 - val_accuracy: 0.6350 - val_loss: 0.9900\n",
      "Epoch 24/40\n",
      "\u001b[1m18/18\u001b[0m \u001b[32m━━━━━━━━━━━━━━━━━━━━\u001b[0m\u001b[37m\u001b[0m \u001b[1m0s\u001b[0m 5ms/step - accuracy: 0.8361 - loss: 0.5907 - val_accuracy: 0.6300 - val_loss: 0.9907\n",
      "Epoch 25/40\n",
      "\u001b[1m18/18\u001b[0m \u001b[32m━━━━━━━━━━━━━━━━━━━━\u001b[0m\u001b[37m\u001b[0m \u001b[1m0s\u001b[0m 7ms/step - accuracy: 0.8447 - loss: 0.5853 - val_accuracy: 0.6250 - val_loss: 0.9926\n",
      "Epoch 26/40\n",
      "\u001b[1m18/18\u001b[0m \u001b[32m━━━━━━━━━━━━━━━━━━━━\u001b[0m\u001b[37m\u001b[0m \u001b[1m0s\u001b[0m 7ms/step - accuracy: 0.8496 - loss: 0.5688 - val_accuracy: 0.6150 - val_loss: 0.9861\n",
      "Epoch 27/40\n",
      "\u001b[1m18/18\u001b[0m \u001b[32m━━━━━━━━━━━━━━━━━━━━\u001b[0m\u001b[37m\u001b[0m \u001b[1m0s\u001b[0m 7ms/step - accuracy: 0.8555 - loss: 0.5621 - val_accuracy: 0.6300 - val_loss: 0.9811\n",
      "Epoch 28/40\n",
      "\u001b[1m18/18\u001b[0m \u001b[32m━━━━━━━━━━━━━━━━━━━━\u001b[0m\u001b[37m\u001b[0m \u001b[1m0s\u001b[0m 6ms/step - accuracy: 0.8669 - loss: 0.5415 - val_accuracy: 0.6250 - val_loss: 0.9758\n",
      "Epoch 29/40\n",
      "\u001b[1m18/18\u001b[0m \u001b[32m━━━━━━━━━━━━━━━━━━━━\u001b[0m\u001b[37m\u001b[0m \u001b[1m0s\u001b[0m 6ms/step - accuracy: 0.8712 - loss: 0.5427 - val_accuracy: 0.6350 - val_loss: 0.9772\n",
      "Epoch 30/40\n",
      "\u001b[1m18/18\u001b[0m \u001b[32m━━━━━━━━━━━━━━━━━━━━\u001b[0m\u001b[37m\u001b[0m \u001b[1m0s\u001b[0m 6ms/step - accuracy: 0.8677 - loss: 0.5272 - val_accuracy: 0.6250 - val_loss: 0.9732\n",
      "Epoch 31/40\n",
      "\u001b[1m18/18\u001b[0m \u001b[32m━━━━━━━━━━━━━━━━━━━━\u001b[0m\u001b[37m\u001b[0m \u001b[1m0s\u001b[0m 6ms/step - accuracy: 0.8680 - loss: 0.5184 - val_accuracy: 0.6250 - val_loss: 0.9726\n",
      "Epoch 32/40\n",
      "\u001b[1m18/18\u001b[0m \u001b[32m━━━━━━━━━━━━━━━━━━━━\u001b[0m\u001b[37m\u001b[0m \u001b[1m0s\u001b[0m 6ms/step - accuracy: 0.8805 - loss: 0.5151 - val_accuracy: 0.6250 - val_loss: 0.9684\n",
      "Epoch 33/40\n",
      "\u001b[1m18/18\u001b[0m \u001b[32m━━━━━━━━━━━━━━━━━━━━\u001b[0m\u001b[37m\u001b[0m \u001b[1m0s\u001b[0m 5ms/step - accuracy: 0.8923 - loss: 0.4909 - val_accuracy: 0.6150 - val_loss: 0.9694\n",
      "Epoch 34/40\n",
      "\u001b[1m18/18\u001b[0m \u001b[32m━━━━━━━━━━━━━━━━━━━━\u001b[0m\u001b[37m\u001b[0m \u001b[1m0s\u001b[0m 6ms/step - accuracy: 0.8784 - loss: 0.5163 - val_accuracy: 0.6250 - val_loss: 0.9685\n",
      "Epoch 35/40\n",
      "\u001b[1m18/18\u001b[0m \u001b[32m━━━━━━━━━━━━━━━━━━━━\u001b[0m\u001b[37m\u001b[0m \u001b[1m0s\u001b[0m 6ms/step - accuracy: 0.8900 - loss: 0.4925 - val_accuracy: 0.6300 - val_loss: 0.9646\n",
      "Epoch 36/40\n",
      "\u001b[1m18/18\u001b[0m \u001b[32m━━━━━━━━━━━━━━━━━━━━\u001b[0m\u001b[37m\u001b[0m \u001b[1m0s\u001b[0m 6ms/step - accuracy: 0.8840 - loss: 0.4765 - val_accuracy: 0.6100 - val_loss: 0.9645\n",
      "Epoch 37/40\n",
      "\u001b[1m18/18\u001b[0m \u001b[32m━━━━━━━━━━━━━━━━━━━━\u001b[0m\u001b[37m\u001b[0m \u001b[1m0s\u001b[0m 7ms/step - accuracy: 0.8931 - loss: 0.4717 - val_accuracy: 0.6250 - val_loss: 0.9632\n",
      "Epoch 38/40\n",
      "\u001b[1m18/18\u001b[0m \u001b[32m━━━━━━━━━━━━━━━━━━━━\u001b[0m\u001b[37m\u001b[0m \u001b[1m0s\u001b[0m 6ms/step - accuracy: 0.8947 - loss: 0.4707 - val_accuracy: 0.6100 - val_loss: 0.9641\n",
      "Epoch 39/40\n",
      "\u001b[1m18/18\u001b[0m \u001b[32m━━━━━━━━━━━━━━━━━━━━\u001b[0m\u001b[37m\u001b[0m \u001b[1m0s\u001b[0m 6ms/step - accuracy: 0.9017 - loss: 0.4464 - val_accuracy: 0.6150 - val_loss: 0.9639\n",
      "Epoch 40/40\n",
      "\u001b[1m18/18\u001b[0m \u001b[32m━━━━━━━━━━━━━━━━━━━━\u001b[0m\u001b[37m\u001b[0m \u001b[1m0s\u001b[0m 6ms/step - accuracy: 0.8927 - loss: 0.4562 - val_accuracy: 0.6150 - val_loss: 0.9621\n",
      "Epoch 1/40\n",
      "\u001b[1m18/18\u001b[0m \u001b[32m━━━━━━━━━━━━━━━━━━━━\u001b[0m\u001b[37m\u001b[0m \u001b[1m1s\u001b[0m 23ms/step - accuracy: 0.4057 - loss: 1.4769 - val_accuracy: 0.4750 - val_loss: 1.3234\n",
      "Epoch 2/40\n",
      "\u001b[1m18/18\u001b[0m \u001b[32m━━━━━━━━━━━━━━━━━━━━\u001b[0m\u001b[37m\u001b[0m \u001b[1m0s\u001b[0m 8ms/step - accuracy: 0.4884 - loss: 1.2310 - val_accuracy: 0.5200 - val_loss: 1.1977\n",
      "Epoch 3/40\n",
      "\u001b[1m18/18\u001b[0m \u001b[32m━━━━━━━━━━━━━━━━━━━━\u001b[0m\u001b[37m\u001b[0m \u001b[1m0s\u001b[0m 9ms/step - accuracy: 0.5763 - loss: 1.0636 - val_accuracy: 0.5100 - val_loss: 1.1876\n",
      "Epoch 4/40\n",
      "\u001b[1m18/18\u001b[0m \u001b[32m━━━━━━━━━━━━━━━━━━━━\u001b[0m\u001b[37m\u001b[0m \u001b[1m0s\u001b[0m 8ms/step - accuracy: 0.5929 - loss: 1.0061 - val_accuracy: 0.5250 - val_loss: 1.0955\n",
      "Epoch 5/40\n",
      "\u001b[1m18/18\u001b[0m \u001b[32m━━━━━━━━━━━━━━━━━━━━\u001b[0m\u001b[37m\u001b[0m \u001b[1m0s\u001b[0m 7ms/step - accuracy: 0.6949 - loss: 0.8255 - val_accuracy: 0.5650 - val_loss: 1.0326\n",
      "Epoch 6/40\n",
      "\u001b[1m18/18\u001b[0m \u001b[32m━━━━━━━━━━━━━━━━━━━━\u001b[0m\u001b[37m\u001b[0m \u001b[1m0s\u001b[0m 7ms/step - accuracy: 0.7478 - loss: 0.7066 - val_accuracy: 0.5000 - val_loss: 1.1295\n",
      "Epoch 7/40\n",
      "\u001b[1m18/18\u001b[0m \u001b[32m━━━━━━━━━━━━━━━━━━━━\u001b[0m\u001b[37m\u001b[0m \u001b[1m0s\u001b[0m 8ms/step - accuracy: 0.7443 - loss: 0.7030 - val_accuracy: 0.5750 - val_loss: 1.0133\n",
      "Epoch 8/40\n",
      "\u001b[1m18/18\u001b[0m \u001b[32m━━━━━━━━━━━━━━━━━━━━\u001b[0m\u001b[37m\u001b[0m \u001b[1m0s\u001b[0m 8ms/step - accuracy: 0.7769 - loss: 0.6370 - val_accuracy: 0.4750 - val_loss: 1.1557\n",
      "Epoch 9/40\n",
      "\u001b[1m18/18\u001b[0m \u001b[32m━━━━━━━━━━━━━━━━━━━━\u001b[0m\u001b[37m\u001b[0m \u001b[1m0s\u001b[0m 8ms/step - accuracy: 0.8500 - loss: 0.4592 - val_accuracy: 0.5550 - val_loss: 1.1888\n",
      "Epoch 10/40\n",
      "\u001b[1m18/18\u001b[0m \u001b[32m━━━━━━━━━━━━━━━━━━━━\u001b[0m\u001b[37m\u001b[0m \u001b[1m0s\u001b[0m 9ms/step - accuracy: 0.8501 - loss: 0.4871 - val_accuracy: 0.5700 - val_loss: 1.1419\n",
      "Epoch 11/40\n",
      "\u001b[1m18/18\u001b[0m \u001b[32m━━━━━━━━━━━━━━━━━━━━\u001b[0m\u001b[37m\u001b[0m \u001b[1m0s\u001b[0m 7ms/step - accuracy: 0.9058 - loss: 0.3439 - val_accuracy: 0.4750 - val_loss: 1.2855\n",
      "Epoch 12/40\n",
      "\u001b[1m18/18\u001b[0m \u001b[32m━━━━━━━━━━━━━━━━━━━━\u001b[0m\u001b[37m\u001b[0m \u001b[1m0s\u001b[0m 8ms/step - accuracy: 0.7696 - loss: 0.6352 - val_accuracy: 0.5950 - val_loss: 1.0400\n",
      "Epoch 13/40\n",
      "\u001b[1m18/18\u001b[0m \u001b[32m━━━━━━━━━━━━━━━━━━━━\u001b[0m\u001b[37m\u001b[0m \u001b[1m0s\u001b[0m 8ms/step - accuracy: 0.9506 - loss: 0.2349 - val_accuracy: 0.6000 - val_loss: 1.0289\n",
      "Epoch 14/40\n",
      "\u001b[1m18/18\u001b[0m \u001b[32m━━━━━━━━━━━━━━━━━━━━\u001b[0m\u001b[37m\u001b[0m \u001b[1m0s\u001b[0m 7ms/step - accuracy: 0.9548 - loss: 0.2199 - val_accuracy: 0.5600 - val_loss: 1.0337\n",
      "Epoch 15/40\n",
      "\u001b[1m18/18\u001b[0m \u001b[32m━━━━━━━━━━━━━━━━━━━━\u001b[0m\u001b[37m\u001b[0m \u001b[1m0s\u001b[0m 7ms/step - accuracy: 0.9519 - loss: 0.2162 - val_accuracy: 0.5900 - val_loss: 1.0410\n",
      "Epoch 16/40\n",
      "\u001b[1m18/18\u001b[0m \u001b[32m━━━━━━━━━━━━━━━━━━━━\u001b[0m\u001b[37m\u001b[0m \u001b[1m0s\u001b[0m 8ms/step - accuracy: 0.9767 - loss: 0.1522 - val_accuracy: 0.5950 - val_loss: 1.1536\n",
      "Epoch 17/40\n",
      "\u001b[1m18/18\u001b[0m \u001b[32m━━━━━━━━━━━━━━━━━━━━\u001b[0m\u001b[37m\u001b[0m \u001b[1m0s\u001b[0m 8ms/step - accuracy: 0.9865 - loss: 0.1180 - val_accuracy: 0.5800 - val_loss: 1.0711\n",
      "Epoch 18/40\n",
      "\u001b[1m18/18\u001b[0m \u001b[32m━━━━━━━━━━━━━━━━━━━━\u001b[0m\u001b[37m\u001b[0m \u001b[1m0s\u001b[0m 9ms/step - accuracy: 0.9899 - loss: 0.1006 - val_accuracy: 0.6100 - val_loss: 1.1014\n",
      "Epoch 19/40\n",
      "\u001b[1m18/18\u001b[0m \u001b[32m━━━━━━━━━━━━━━━━━━━━\u001b[0m\u001b[37m\u001b[0m \u001b[1m0s\u001b[0m 8ms/step - accuracy: 0.9926 - loss: 0.0950 - val_accuracy: 0.5900 - val_loss: 1.1250\n",
      "Epoch 20/40\n",
      "\u001b[1m18/18\u001b[0m \u001b[32m━━━━━━━━━━━━━━━━━━━━\u001b[0m\u001b[37m\u001b[0m \u001b[1m0s\u001b[0m 7ms/step - accuracy: 0.9970 - loss: 0.0733 - val_accuracy: 0.6050 - val_loss: 1.1378\n",
      "Epoch 21/40\n",
      "\u001b[1m18/18\u001b[0m \u001b[32m━━━━━━━━━━━━━━━━━━━━\u001b[0m\u001b[37m\u001b[0m \u001b[1m0s\u001b[0m 8ms/step - accuracy: 0.9978 - loss: 0.0652 - val_accuracy: 0.6150 - val_loss: 1.1805\n",
      "Epoch 22/40\n",
      "\u001b[1m18/18\u001b[0m \u001b[32m━━━━━━━━━━━━━━━━━━━━\u001b[0m\u001b[37m\u001b[0m \u001b[1m0s\u001b[0m 8ms/step - accuracy: 0.9977 - loss: 0.0547 - val_accuracy: 0.6100 - val_loss: 1.1820\n",
      "Epoch 23/40\n",
      "\u001b[1m18/18\u001b[0m \u001b[32m━━━━━━━━━━━━━━━━━━━━\u001b[0m\u001b[37m\u001b[0m \u001b[1m0s\u001b[0m 11ms/step - accuracy: 0.9991 - loss: 0.0508 - val_accuracy: 0.6000 - val_loss: 1.1834\n",
      "Epoch 24/40\n",
      "\u001b[1m18/18\u001b[0m \u001b[32m━━━━━━━━━━━━━━━━━━━━\u001b[0m\u001b[37m\u001b[0m \u001b[1m0s\u001b[0m 8ms/step - accuracy: 0.9981 - loss: 0.0439 - val_accuracy: 0.6150 - val_loss: 1.2090\n",
      "Epoch 25/40\n",
      "\u001b[1m18/18\u001b[0m \u001b[32m━━━━━━━━━━━━━━━━━━━━\u001b[0m\u001b[37m\u001b[0m \u001b[1m0s\u001b[0m 8ms/step - accuracy: 1.0000 - loss: 0.0376 - val_accuracy: 0.6100 - val_loss: 1.2265\n",
      "Epoch 26/40\n",
      "\u001b[1m18/18\u001b[0m \u001b[32m━━━━━━━━━━━━━━━━━━━━\u001b[0m\u001b[37m\u001b[0m \u001b[1m0s\u001b[0m 8ms/step - accuracy: 1.0000 - loss: 0.0346 - val_accuracy: 0.6050 - val_loss: 1.2323\n",
      "Epoch 27/40\n",
      "\u001b[1m18/18\u001b[0m \u001b[32m━━━━━━━━━━━━━━━━━━━━\u001b[0m\u001b[37m\u001b[0m \u001b[1m0s\u001b[0m 9ms/step - accuracy: 1.0000 - loss: 0.0307 - val_accuracy: 0.6200 - val_loss: 1.2671\n",
      "Epoch 28/40\n",
      "\u001b[1m18/18\u001b[0m \u001b[32m━━━━━━━━━━━━━━━━━━━━\u001b[0m\u001b[37m\u001b[0m \u001b[1m0s\u001b[0m 8ms/step - accuracy: 1.0000 - loss: 0.0291 - val_accuracy: 0.6100 - val_loss: 1.2638\n",
      "Epoch 29/40\n",
      "\u001b[1m18/18\u001b[0m \u001b[32m━━━━━━━━━━━━━━━━━━━━\u001b[0m\u001b[37m\u001b[0m \u001b[1m0s\u001b[0m 8ms/step - accuracy: 1.0000 - loss: 0.0259 - val_accuracy: 0.6050 - val_loss: 1.2868\n",
      "Epoch 30/40\n",
      "\u001b[1m18/18\u001b[0m \u001b[32m━━━━━━━━━━━━━━━━━━━━\u001b[0m\u001b[37m\u001b[0m \u001b[1m0s\u001b[0m 8ms/step - accuracy: 1.0000 - loss: 0.0226 - val_accuracy: 0.6200 - val_loss: 1.2990\n",
      "Epoch 31/40\n",
      "\u001b[1m18/18\u001b[0m \u001b[32m━━━━━━━━━━━━━━━━━━━━\u001b[0m\u001b[37m\u001b[0m \u001b[1m0s\u001b[0m 8ms/step - accuracy: 1.0000 - loss: 0.0221 - val_accuracy: 0.6000 - val_loss: 1.3046\n",
      "Epoch 32/40\n",
      "\u001b[1m18/18\u001b[0m \u001b[32m━━━━━━━━━━━━━━━━━━━━\u001b[0m\u001b[37m\u001b[0m \u001b[1m0s\u001b[0m 8ms/step - accuracy: 1.0000 - loss: 0.0193 - val_accuracy: 0.6200 - val_loss: 1.3161\n",
      "Epoch 33/40\n",
      "\u001b[1m18/18\u001b[0m \u001b[32m━━━━━━━━━━━━━━━━━━━━\u001b[0m\u001b[37m\u001b[0m \u001b[1m0s\u001b[0m 8ms/step - accuracy: 1.0000 - loss: 0.0181 - val_accuracy: 0.6300 - val_loss: 1.3225\n",
      "Epoch 34/40\n",
      "\u001b[1m18/18\u001b[0m \u001b[32m━━━━━━━━━━━━━━━━━━━━\u001b[0m\u001b[37m\u001b[0m \u001b[1m0s\u001b[0m 8ms/step - accuracy: 1.0000 - loss: 0.0170 - val_accuracy: 0.6100 - val_loss: 1.3338\n",
      "Epoch 35/40\n",
      "\u001b[1m18/18\u001b[0m \u001b[32m━━━━━━━━━━━━━━━━━━━━\u001b[0m\u001b[37m\u001b[0m \u001b[1m0s\u001b[0m 8ms/step - accuracy: 1.0000 - loss: 0.0157 - val_accuracy: 0.6200 - val_loss: 1.3399\n",
      "Epoch 36/40\n",
      "\u001b[1m18/18\u001b[0m \u001b[32m━━━━━━━━━━━━━━━━━━━━\u001b[0m\u001b[37m\u001b[0m \u001b[1m0s\u001b[0m 8ms/step - accuracy: 1.0000 - loss: 0.0151 - val_accuracy: 0.6150 - val_loss: 1.3699\n",
      "Epoch 37/40\n",
      "\u001b[1m18/18\u001b[0m \u001b[32m━━━━━━━━━━━━━━━━━━━━\u001b[0m\u001b[37m\u001b[0m \u001b[1m0s\u001b[0m 8ms/step - accuracy: 1.0000 - loss: 0.0146 - val_accuracy: 0.6100 - val_loss: 1.3705\n",
      "Epoch 38/40\n",
      "\u001b[1m18/18\u001b[0m \u001b[32m━━━━━━━━━━━━━━━━━━━━\u001b[0m\u001b[37m\u001b[0m \u001b[1m0s\u001b[0m 8ms/step - accuracy: 1.0000 - loss: 0.0133 - val_accuracy: 0.6200 - val_loss: 1.3898\n",
      "Epoch 39/40\n",
      "\u001b[1m18/18\u001b[0m \u001b[32m━━━━━━━━━━━━━━━━━━━━\u001b[0m\u001b[37m\u001b[0m \u001b[1m0s\u001b[0m 8ms/step - accuracy: 1.0000 - loss: 0.0127 - val_accuracy: 0.6150 - val_loss: 1.3912\n",
      "Epoch 40/40\n",
      "\u001b[1m18/18\u001b[0m \u001b[32m━━━━━━━━━━━━━━━━━━━━\u001b[0m\u001b[37m\u001b[0m \u001b[1m0s\u001b[0m 8ms/step - accuracy: 1.0000 - loss: 0.0123 - val_accuracy: 0.6100 - val_loss: 1.3989\n"
     ]
    }
   ],
   "source": [
    "from sklearn.model_selection import train_test_split\n",
    "train_feats_matrix, val_feats_matrix, train_label_matrix, val_label_matrix = train_test_split(\n",
    "    train_feats_matrix, train_label_matrix, test_size=0.1, random_state=42\n",
    ")\n",
    "\n",
    "# training\n",
    "history_SLP = model_SLP.fit(train_feats_matrix, train_label_matrix,\n",
    "                    validation_data=(val_feats_matrix, val_label_matrix),\n",
    "                    epochs=40, batch_size=100)\n",
    "\n",
    "history_MLP = model_MLP.fit(train_feats_matrix, train_label_matrix,\n",
    "                    validation_data=(val_feats_matrix, val_label_matrix),\n",
    "                    epochs=40, batch_size=100)\n"
   ]
  },
  {
   "cell_type": "markdown",
   "metadata": {},
   "source": [
    "Let's try this pipeline for test data!"
   ]
  },
  {
   "cell_type": "code",
   "execution_count": 19,
   "metadata": {},
   "outputs": [
    {
     "name": "stdout",
     "output_type": "stream",
     "text": [
      "\u001b[1m18/18\u001b[0m \u001b[32m━━━━━━━━━━━━━━━━━━━━\u001b[0m\u001b[37m\u001b[0m \u001b[1m0s\u001b[0m 3ms/step - accuracy: 0.9030 - loss: 0.4424 \n",
      "\u001b[1m2/2\u001b[0m \u001b[32m━━━━━━━━━━━━━━━━━━━━\u001b[0m\u001b[37m\u001b[0m \u001b[1m0s\u001b[0m 20ms/step - accuracy: 0.6167 - loss: 0.9840\n",
      "\u001b[1m4/4\u001b[0m \u001b[32m━━━━━━━━━━━━━━━━━━━━\u001b[0m\u001b[37m\u001b[0m \u001b[1m0s\u001b[0m 8ms/step - accuracy: 0.5373 - loss: 1.1491 \n",
      "SLP training loss: 0.44703105092048645 training accuracy 0.902222216129303\n",
      "SLP validating loss: 0.9620640277862549 validating accuracy 0.6150000095367432\n",
      "SLP test loss: 1.1345309019088745 test accuracy 0.5375000238418579\n",
      "\u001b[1m18/18\u001b[0m \u001b[32m━━━━━━━━━━━━━━━━━━━━\u001b[0m\u001b[37m\u001b[0m \u001b[1m0s\u001b[0m 4ms/step - accuracy: 1.0000 - loss: 0.0105\n",
      "\u001b[1m2/2\u001b[0m \u001b[32m━━━━━━━━━━━━━━━━━━━━\u001b[0m\u001b[37m\u001b[0m \u001b[1m0s\u001b[0m 19ms/step - accuracy: 0.6000 - loss: 1.4306\n",
      "\u001b[1m4/4\u001b[0m \u001b[32m━━━━━━━━━━━━━━━━━━━━\u001b[0m\u001b[37m\u001b[0m \u001b[1m0s\u001b[0m 10ms/step - accuracy: 0.5250 - loss: 2.1452\n",
      "MLP training loss: 0.011181512847542763 training accuracy 1.0\n",
      "MLP validating loss: 1.3989073038101196 validating accuracy 0.6100000143051147\n",
      "MLP test loss: 2.065852165222168 test accuracy 0.5274999737739563\n"
     ]
    }
   ],
   "source": [
    "# evaluation\n",
    "train_score = model_SLP.evaluate(train_feats_matrix, train_label_matrix, batch_size=100)\n",
    "val_score = model_SLP.evaluate(val_feats_matrix, val_label_matrix, batch_size=100)\n",
    "test_score = model_SLP.evaluate(test_feats_matrix, test_label_matrix, batch_size=100)\n",
    "print(\"SLP training loss:\", train_score[0], \"training accuracy\", train_score[1])\n",
    "print(\"SLP validating loss:\", val_score[0], \"validating accuracy\", val_score[1])\n",
    "print(\"SLP test loss:\", test_score[0], \"test accuracy\", test_score[1])\n",
    "\n",
    "train_score = model_MLP.evaluate(train_feats_matrix, train_label_matrix, batch_size=100)\n",
    "val_score = model_MLP.evaluate(val_feats_matrix, val_label_matrix, batch_size=100)\n",
    "test_score = model_MLP.evaluate(test_feats_matrix, test_label_matrix, batch_size=100)\n",
    "print(\"MLP training loss:\", train_score[0], \"training accuracy\", train_score[1])\n",
    "print(\"MLP validating loss:\", val_score[0], \"validating accuracy\", val_score[1])\n",
    "print(\"MLP test loss:\", test_score[0], \"test accuracy\", test_score[1])"
   ]
  },
  {
   "cell_type": "markdown",
   "metadata": {},
   "source": [
    "You can try different hyperparameters by yourselves."
   ]
  },
  {
   "cell_type": "markdown",
   "metadata": {},
   "source": [
    "However, our classifier here is overfitted. The training loss is much smaller than the test loss.\n",
    "Later we will introduce more strategies to make classifiers better generalized."
   ]
  },
  {
   "cell_type": "code",
   "execution_count": 20,
   "metadata": {},
   "outputs": [
    {
     "name": "stdout",
     "output_type": "stream",
     "text": [
      "\u001b[1m13/13\u001b[0m \u001b[32m━━━━━━━━━━━━━━━━━━━━\u001b[0m\u001b[37m\u001b[0m \u001b[1m0s\u001b[0m 6ms/step\n"
     ]
    }
   ],
   "source": [
    "# save predictions\n",
    "# test_pred = model.predict_classes(test_feats_matrix)\n",
    "test_pred = np.argmax(model_MLP.predict(test_feats_matrix), axis=-1)\n",
    "write_predictions(pred_file, test_pred)"
   ]
  },
  {
   "cell_type": "markdown",
   "metadata": {},
   "source": [
    "### Visualization"
   ]
  },
  {
   "cell_type": "code",
   "execution_count": 21,
   "metadata": {},
   "outputs": [
    {
     "data": {
      "image/png": "[encoded data removed]",
      "text/plain": [
       "<Figure size 1000x400 with 2 Axes>"
      ]
     },
     "metadata": {},
     "output_type": "display_data"
    },
    {
     "data": {
      "image/png": "[encoded data removed]",
      "text/plain": [
       "<Figure size 1000x400 with 2 Axes>"
      ]
     },
     "metadata": {},
     "output_type": "display_data"
    }
   ],
   "source": [
    "import matplotlib.pyplot as plt\n",
    "\n",
    "for history in [history_SLP, history_MLP]:\n",
    "    ''' Plot loss-iteration '''\n",
    "    plt.figure(figsize=(10,4))\n",
    "    plt.subplot(1,2,1)\n",
    "    plt.plot(history.history[\"loss\"], label=\"training\", color=\"blue\", linestyle=\"dashed\")\n",
    "    plt.plot(history.history[\"val_loss\"], label=\"validating\", color=\"orange\")\n",
    "    plt.xlabel(\"Iteration\")\n",
    "    plt.ylabel(\"Loss\")\n",
    "    plt.legend()\n",
    "\n",
    "    ''' Plot accuracy-iteration '''\n",
    "    plt.subplot(1,2,2)\n",
    "    plt.plot(history.history[\"accuracy\"], label=\"training\", color=\"blue\", linestyle=\"dashed\")\n",
    "    plt.plot(history.history[\"val_accuracy\"], label=\"validating\", color=\"orange\")\n",
    "    plt.xlabel(\"Iteration\")\n",
    "    plt.ylabel(\"Accuracy\")\n",
    "    plt.legend()\n",
    "\n",
    "    plt.show()"
   ]
  }
 ],
 "metadata": {
  "kernelspec": {
   "display_name": "comp4332",
   "language": "python",
   "name": "python3"
  },
  "language_info": {
   "codemirror_mode": {
    "name": "ipython",
    "version": 3
   },
   "file_extension": ".py",
   "mimetype": "text/x-python",
   "name": "python",
   "nbconvert_exporter": "python",
   "pygments_lexer": "ipython3",
   "version": "3.11.11"
  }
 },
 "nbformat": 4,
 "nbformat_minor": 4
}
