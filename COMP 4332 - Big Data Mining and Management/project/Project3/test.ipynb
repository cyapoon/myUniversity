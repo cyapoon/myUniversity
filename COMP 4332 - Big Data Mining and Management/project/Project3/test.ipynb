{
 "cells": [
  {
   "cell_type": "code",
   "execution_count": 8,
   "id": "44203820",
   "metadata": {},
   "outputs": [],
   "source": [
    "from typing import Dict, List\n",
    "from openai import AzureOpenAI\n",
    "import sys\n",
    "import math\n",
    "import os\n",
    "import re\n",
    "import json\n",
    "import pandas as pd"
   ]
  },
  {
   "cell_type": "code",
   "execution_count": 9,
   "id": "6ce0a59d",
   "metadata": {},
   "outputs": [
    {
     "name": "stdout",
     "output_type": "stream",
     "text": [
      "<class 'pandas.core.frame.DataFrame'>\n",
      "Index: 10 entries, 60 to 69\n",
      "Data columns (total 5 columns):\n",
      " #   Column      Non-Null Count  Dtype \n",
      "---  ------      --------------  ----- \n",
      " 0   Restaurant  10 non-null     object\n",
      " 1   Reviewer    10 non-null     object\n",
      " 2   Review      10 non-null     object\n",
      " 3   Rating      10 non-null     int64 \n",
      " 4   Metadata    10 non-null     object\n",
      "dtypes: int64(1), object(4)\n",
      "memory usage: 480.0+ bytes\n"
     ]
    }
   ],
   "source": [
    "data = pd.read_csv('reviews.csv')\n",
    "restarant = data[data['Restaurant'] == 'Beyond Flavours']\n",
    "restarant.info()"
   ]
  },
  {
   "cell_type": "code",
   "execution_count": 10,
   "id": "79a41d8b",
   "metadata": {},
   "outputs": [
    {
     "name": "stdout",
     "output_type": "stream",
     "text": [
      "10 10 10\n"
     ]
    }
   ],
   "source": [
    "reviews = restarant['Review'].tolist()\n",
    "ratings = restarant['Rating'].tolist()\n",
    "metadata = restarant['Metadata'].tolist()\n",
    "print(len(reviews), len(ratings), len(metadata))"
   ]
  },
  {
   "cell_type": "code",
   "execution_count": 11,
   "id": "58c46052",
   "metadata": {},
   "outputs": [
    {
     "name": "stdout",
     "output_type": "stream",
     "text": [
      "<class 'str'>\n",
      "<class 'int'>\n",
      "<class 'str'>\n"
     ]
    }
   ],
   "source": [
    "print(type(reviews[0]))\n",
    "print(type(ratings[0]))\n",
    "print(type(metadata[0]))"
   ]
  },
  {
   "cell_type": "code",
   "execution_count": 12,
   "id": "1b8d2a8c",
   "metadata": {},
   "outputs": [
    {
     "data": {
      "text/plain": [
       "['we went for a team lunch, such a worst restaurant.. food was tasteless, service was very slow and Ac was not working. We’ve requested them multiple times but its of no use. Please don’t waste your money and I strictly recommend not to prefer beyond flavours,',\n",
       " 'Food quality and taste is not good. Super slow service. Nice ambience but very poor in customer handling. Lot of items not available even if in the menu.',\n",
       " \"Short review: Decent breads and starters, bad Shaam Savera, a little screwed up daal makhni (but should be a one-off case)\\nBetter ambience at night... And importantly good quantity!\\nI wanted to give a 2.5 but that's not an option 🙈\\nExtensive...\\nAmbience: It's better at night. Friends who had been here during the day didn't like it much. So if you prefer ambience, go at night!\\nFood! Ordered a Hara Bhara Kebab, Shaam Savera, Daal Makhni, rotis and raita (Yes! I'm a vegetarian 🙈)\\nThe good part! Quantity 😍\\nI was excited to see Shaam Savera on their menu. But take it from me, you do not want to order it. It is no where close to what it should be. They messed it up real bad, especially the colors.\\nThe daal makhni had big chunks of garlic cloves which spoiled it for me. It wasn't creamy too :(\\nThe breads and raita were decent!\\nThe Hara Bhara Kebabs were decent too, soft! They had an extra outer coating of peanuts. So if you're not a peanut fan on your kebabs, ask them to skip that step 🙈\\nConclusion: It looked like they had made food in a hurry.\\nWould like to give this place another try hoping that mine was one of the odd cases. If things change, you'll know!\",\n",
       " 'Awesome food, very good ambience, centrally located, ample parking....coordination between serving boys / service has scope for improvement, boys very courteous though. Not sure why the bar was closed on a Saturday evening....Overall good experience & extremely value for money....will visit again!',\n",
       " \"Second time being here it's really beyond imagination beyond taste and beyond flavours as well. Very courteous staff and very hospitile.\\nTaste is good but the best part is presentation,,, it's really meeting the standard of a 5 star restaurant .\\nVery impressed with Mr Ahmed , Pradeep and Mr Dipanajan who are very friendly and took care of us very well. Good job guys keep it up.\",\n",
       " 'Came here for lunch and the food was good and tasty. We tried buffet and all the items in veg and non-veg were tasty.\\n\\nThe ambience and service were also good, and the staff were courteous.\\n\\nshubhamtraveltales.wordpress.com',\n",
       " 'It’s a worst service experience. Food was OK. They took 45mins to get veg pulav. Never seen a restaurant to take such time. Won’t visit again.',\n",
       " 'Excellent food and very good service by soumen das..\\nAmbience was good too with live music. Food was served timely. Decor of the restaurant was amazing as well.',\n",
       " 'I would like to introduce this restaurant to a new ingredient called salt. If you add that yo your food, it would taste way better. So basically none of the food we ordered had salt. We ordered Fries, panko mozzarella sticks, Tomato cream soup, panner65 & \"Italian\" Nachos. Not sure how that was nachos or italian. They basically bought a pack of dorittos and added mozarella cheese on top. The beans were not baked at all, and the entire dish was cold except for the plate that it was brought in. Pretty sure they just dumped the items and stashed it inside a microwave. The paneer 65 was horrendous. Might as well called it garlic 65 with no salt. Next was the mozarella sticks, which was again cold and no salt. The only decent item that we got was the fries and the soup. Thanks to gid we didnt order any main course. All these came up to 1300 and odd. Thanks to Zomato Gold, our price went down. This place is way too expensive for the quality of food they serve. And talking about the restaurant in general, the place looks decent but there are stoves stashed under tables and seats and plants kept at inconvenient spots. They really need to clean up more.',\n",
       " 'Staff are just polite and responsive. Food is the best part here. And it is better as ambience also awesome here. I met two persons here named Papiya and Shuvro who are the best at their services. Food items i liked here were Basket biryani and Kodi drum sticks. Finally just loved.']"
      ]
     },
     "execution_count": 12,
     "metadata": {},
     "output_type": "execute_result"
    }
   ],
   "source": [
    "reviews"
   ]
  },
  {
   "cell_type": "code",
   "execution_count": 13,
   "id": "1ffdb59d",
   "metadata": {},
   "outputs": [
    {
     "data": {
      "text/plain": [
       "[1, 2, 3, 4, 5, 4, 1, 5, 1, 5]"
      ]
     },
     "execution_count": 13,
     "metadata": {},
     "output_type": "execute_result"
    }
   ],
   "source": [
    "ratings"
   ]
  },
  {
   "cell_type": "code",
   "execution_count": 14,
   "id": "ae044f76",
   "metadata": {},
   "outputs": [
    {
     "data": {
      "text/plain": [
       "['1 Review , 24 Followers',\n",
       " '3 Reviews , 1 Follower',\n",
       " '9 Reviews , 8 Followers',\n",
       " '18 Reviews , 10 Followers',\n",
       " '47 Reviews , 4734 Followers',\n",
       " '30 Reviews , 34 Followers',\n",
       " '1 Review , 1 Follower',\n",
       " '1 Review , 1 Follower',\n",
       " '13 Reviews , 67 Followers',\n",
       " '2 Reviews , 39 Followers']"
      ]
     },
     "execution_count": 14,
     "metadata": {},
     "output_type": "execute_result"
    }
   ],
   "source": [
    "metadata"
   ]
  },
  {
   "cell_type": "code",
   "execution_count": 15,
   "id": "7a863843",
   "metadata": {},
   "outputs": [
    {
     "name": "stdout",
     "output_type": "stream",
     "text": [
      "\n",
      "        You are a restaurant recommendation system. Your task is to recognize the intention of the user based on their input.\n",
      "        The user can ask for the rating of a restaurant, compare two restaurants, or ask for reviews of a restaurant.\n",
      "        Your output should be a json string containing the intention and the arguments.\n",
      "        The intention can be one of the following:\n",
      "        1. rating: The user is asking for the rating of a restaurant.\n",
      "        2. compare: The user is asking to compare two restaurants.\n",
      "        3. review: The user is asking for reviews of a restaurant.\n",
      "        The arguments should be a list of restaurant names. If the user is asking for the rating of a restaurant, the list should contain one restaurant name.\n",
      "        If the user is asking to compare two restaurants, the list should contain two restaurant names.\n",
      "        If the user is asking for reviews of a restaurant, the list should contain one restaurant name.\n",
      "        # Example:\n",
      "        ## User Input:\n",
      "        What is the rating of Beyond Flavours?\n",
      "        ## Output:\n",
      "        {\"intention\": \"rating\", \"args\": [\"Beyond Flavours\"]}\n",
      "        ## User Input:\n",
      "        Beyond Flavours and Karachi Cafe, which one is better?\n",
      "        ## Output:\n",
      "        {\"intention\": \"compare\", \"args\": [\"Beyond Flavours\", \"Karachi Cafe\"]}\n",
      "        ## User Input:\n",
      "        What are people saying about Beyond Flavours?\n",
      "        ## Output:\n",
      "        {\"intention\": \"review\", \"args\": [\"Beyond Flavours\"]}\n",
      "\n",
      "        The user input will be as follows:\n",
      "        # User Input: \n",
      "        hello, can you tell me the rating of Beyond Flavours?\n",
      "        \n"
     ]
    }
   ],
   "source": [
    "user_input = \"hello, can you tell me the rating of Beyond Flavours?\"\n",
    "prompt = \"\"\"\n",
    "        You are a restaurant recommendation system. Your task is to recognize the intention of the user based on their input.\n",
    "        The user can ask for the rating of a restaurant, compare two restaurants, or ask for reviews of a restaurant.\n",
    "        Your output should be a json string containing the intention and the arguments.\n",
    "        The intention can be one of the following:\n",
    "        1. rating: The user is asking for the rating of a restaurant.\n",
    "        2. compare: The user is asking to compare two restaurants.\n",
    "        3. review: The user is asking for reviews of a restaurant.\n",
    "        The arguments should be a list of restaurant names. If the user is asking for the rating of a restaurant, the list should contain one restaurant name.\n",
    "        If the user is asking to compare two restaurants, the list should contain two restaurant names.\n",
    "        If the user is asking for reviews of a restaurant, the list should contain one restaurant name.\n",
    "        # Example:\n",
    "        ## User Input:\n",
    "        What is the rating of Beyond Flavours?\n",
    "        ## Output:\n",
    "        {{\"intention\": \"rating\", \"args\": [\"Beyond Flavours\"]}}\n",
    "        ## User Input:\n",
    "        Beyond Flavours and Karachi Cafe, which one is better?\n",
    "        ## Output:\n",
    "        {{\"intention\": \"compare\", \"args\": [\"Beyond Flavours\", \"Karachi Cafe\"]}}\n",
    "        ## User Input:\n",
    "        What are people saying about Beyond Flavours?\n",
    "        ## Output:\n",
    "        {{\"intention\": \"review\", \"args\": [\"Beyond Flavours\"]}}\n",
    "\n",
    "        The user input will be as follows:\n",
    "        # User Input: \n",
    "        {user_input}\n",
    "        \"\"\".format(user_input=user_input)\n",
    "\n",
    "print(prompt)"
   ]
  },
  {
   "cell_type": "code",
   "execution_count": 16,
   "id": "8258b152",
   "metadata": {},
   "outputs": [
    {
     "name": "stdout",
     "output_type": "stream",
     "text": [
      "{'metadata': ['3 Reviews , 1 Follower',\n",
      "              '2 Reviews , 1 Follower',\n",
      "              '11 Reviews , 81 Followers',\n",
      "              '155 Reviews , 1802 Followers',\n",
      "              '3 Reviews , 4 Followers',\n",
      "              '1 Review , 1 Follower',\n",
      "              '6 Reviews , 30 Followers',\n",
      "              '2 Reviews , 2 Followers',\n",
      "              '7 Reviews , 1 Follower',\n",
      "              '4 Reviews , 12 Followers'],\n",
      " 'ratings': [1, 2, 3, 4, 5, 5, 1, 4, 3, 2],\n",
      " 'restaurant': 'Squeeze @ The Lime',\n",
      " 'reviews': ['Must read - I went to this place with my friends for buffet '\n",
      "             'lunch. We had two options for welcome drink - one is pineapple '\n",
      "             'and other is grape which were not natural fruit juices they '\n",
      "             'tasted as preservatives, then moving on to soup - manchow soup '\n",
      "             'was good, waiter forget to give us the starter. Served us after '\n",
      "             'we reminding him, we liked crispy baby corn among 3 varieties of '\n",
      "             'starters which he took 10 mints to serve for the second serve '\n",
      "             'when only 10% of the place was occupied. When I asked him mayo '\n",
      "             'dip waiter was giving us the left over part of dip on the table '\n",
      "             'beside. When I asked for chilled water they were saying they '\n",
      "             \"don't have, later one of my friend asked the same person he gave \"\n",
      "             'us chilled water. All the items which were placed at buffet were '\n",
      "             'cold not even Luke warm. Biryani was totally dried out rice was '\n",
      "             'sticking to the vessel had lot more bad experience here on same '\n",
      "             'day',\n",
      "             'You need at least 2 hrs time to get your food prepare. better go '\n",
      "             'for other restaurant instead of ordering food from it.\\n'\n",
      "             'I have ordered food from it and they either cancel or take 2 hr '\n",
      "             'to just prepare your food.',\n",
      "             'Chutney wasn’t good in taste. Rest was good.',\n",
      "             'Sudden craving for Chole Bhature made me order their Platinum '\n",
      "             'Combo for dinner. Priced at just Rs 129, I felt it was a steal '\n",
      "             'deal! The Sandwich and sweet were delicious. Chole Bhature was '\n",
      "             'kind of okayish. Overall, this pack is good enough for two '\n",
      "             'people. Also, thumbs up for the efficient and hygienic '\n",
      "             'packaging. 👍\\n'\n",
      "             'Will I reorder? Yes ofcourse and would recommend others as well!',\n",
      "             'simply superb',\n",
      "             'Simply the best place in town for hosting a party specially if '\n",
      "             'you are looking for a pure vegetarian authentic north Indian '\n",
      "             'food. I hosted a lunch party for about 40 adults and 15 kids '\n",
      "             'today and what a memorable experience we had!! It was an '\n",
      "             'important personal occasion for me and I wanted it to be a '\n",
      "             'memory for lifetime and Lime staff (specially the manager, '\n",
      "             'Dinesh) made sure that it happens just that way!. Food was '\n",
      "             'excellent. Starters were plenty and each one of them was '\n",
      "             'outclassing the other one in taste. My guest just kept asking '\n",
      "             'for more and more and Lime staff kept serving them without any '\n",
      "             'fuss!. I just loved their Ajwaini Paneer tikka, corn Manchurian '\n",
      "             'and cottage cheese pizza. Pain puri and dahi puri were good too. '\n",
      "             'And yes, the delicious manchow soup that we opted instead of '\n",
      "             'tomato soup they offered by default. Main course was also '\n",
      "             'matching with the high expectations that starters set. All '\n",
      "             'curries were great in taste, rotis and naan were served hot and '\n",
      "             \"whenever one wants. Rice item were also good (didn't try one \"\n",
      "             'myself but as told by my guests). They served Jalebi with rabadi '\n",
      "             'and chocolate gulabjamoon as desserts and everyone just loved '\n",
      "             'them.\\n'\n",
      "             '\\n'\n",
      "             'Would also like to specially mention the courtesy and '\n",
      "             'hospitality shown by each and every member of their serving '\n",
      "             'staff. They were actually requesting my guests to taste '\n",
      "             'everything and were treating my guests and their own! What more '\n",
      "             'I could have asked for. At the end special thanks to Lime '\n",
      "             'manager Dinesh who made sure that we have the experience that we '\n",
      "             'had. I would strongly recommend this place if you want a memory '\n",
      "             'for a very long time.',\n",
      "             'I liked the ambience and lighting. However their food quality '\n",
      "             'needs lot of improvement especially sizzlers. They made good '\n",
      "             'lasgna but they had no idea at all about how sizzler is made. '\n",
      "             'Also their services are little slow.',\n",
      "             'Good food! Except the gulabjamun everything was good, a full '\n",
      "             'pack brunch in the breakfast platter :)',\n",
      "             'nice',\n",
      "             'very spicy and vada is uncooked.. disappointing']}\n"
     ]
    }
   ],
   "source": [
    "from main import fetch_restaurant_data\n",
    "import pprint\n",
    "result = fetch_restaurant_data(\"Squeeze @ The Lime\")\n",
    "pprint.pprint(result)"
   ]
  },
  {
   "cell_type": "code",
   "execution_count": 17,
   "id": "a1f07893",
   "metadata": {},
   "outputs": [
    {
     "name": "stdout",
     "output_type": "stream",
     "text": [
      "{'intention': 'rating', 'args': ['SKYHY']}\n"
     ]
    }
   ],
   "source": [
    "from main import IntentionRecognitionAgent\n",
    "\n",
    "intention_recognition_agent = IntentionRecognitionAgent()\n",
    "result = intention_recognition_agent.generate_response(\"What's the user rating for SKYHY?\")\n",
    "print(result)\n"
   ]
  },
  {
   "cell_type": "code",
   "execution_count": 18,
   "id": "bfc20565",
   "metadata": {},
   "outputs": [
    {
     "name": "stdout",
     "output_type": "stream",
     "text": [
      "<class 'list'>\n"
     ]
    }
   ],
   "source": [
    "print(type(result['args']))"
   ]
  },
  {
   "cell_type": "code",
   "execution_count": 19,
   "id": "b6698abd",
   "metadata": {},
   "outputs": [
    {
     "name": "stdout",
     "output_type": "stream",
     "text": [
      "Must read - I went to this place with my friends for buffet lunch. We had two options for welcome drink - one is pineapple and other is grape which were not natural fruit juices they tasted as preservatives, then moving on to soup - manchow soup was good, waiter forget to give us the starter. Served us after we reminding him, we liked crispy baby corn among 3 varieties of starters which he took 10 mints to serve for the second serve when only 10% of the place was occupied. When I asked him mayo dip waiter was giving us the left over part of dip on the table beside. When I asked for chilled water they were saying they don't have, later one of my friend asked the same person he gave us chilled water. All the items which were placed at buffet were cold not even Luke warm. Biryani was totally dried out rice was sticking to the vessel had lot more bad experience here on same day\n",
      "===\n",
      "You need at least 2 hrs time to get your food prepare. better go for other restaurant instead of ordering food from it.\n",
      "I have ordered food from it and they either cancel or take 2 hr to just prepare your food.\n",
      "===\n",
      "Chutney wasn’t good in taste. Rest was good.\n",
      "===\n",
      "Sudden craving for Chole Bhature made me order their Platinum Combo for dinner. Priced at just Rs 129, I felt it was a steal deal! The Sandwich and sweet were delicious. Chole Bhature was kind of okayish. Overall, this pack is good enough for two people. Also, thumbs up for the efficient and hygienic packaging. 👍\n",
      "Will I reorder? Yes ofcourse and would recommend others as well!\n",
      "===\n",
      "simply superb\n",
      "===\n",
      "Simply the best place in town for hosting a party specially if you are looking for a pure vegetarian authentic north Indian food. I hosted a lunch party for about 40 adults and 15 kids today and what a memorable experience we had!! It was an important personal occasion for me and I wanted it to be a memory for lifetime and Lime staff (specially the manager, Dinesh) made sure that it happens just that way!. Food was excellent. Starters were plenty and each one of them was outclassing the other one in taste. My guest just kept asking for more and more and Lime staff kept serving them without any fuss!. I just loved their Ajwaini Paneer tikka, corn Manchurian and cottage cheese pizza. Pain puri and dahi puri were good too. And yes, the delicious manchow soup that we opted instead of tomato soup they offered by default. Main course was also matching with the high expectations that starters set. All curries were great in taste, rotis and naan were served hot and whenever one wants. Rice item were also good (didn't try one myself but as told by my guests). They served Jalebi with rabadi and chocolate gulabjamoon as desserts and everyone just loved them.\n",
      "\n",
      "Would also like to specially mention the courtesy and hospitality shown by each and every member of their serving staff. They were actually requesting my guests to taste everything and were treating my guests and their own! What more I could have asked for. At the end special thanks to Lime manager Dinesh who made sure that we have the experience that we had. I would strongly recommend this place if you want a memory for a very long time.\n",
      "===\n",
      "I liked the ambience and lighting. However their food quality needs lot of improvement especially sizzlers. They made good lasgna but they had no idea at all about how sizzler is made. Also their services are little slow.\n",
      "===\n",
      "Good food! Except the gulabjamun everything was good, a full pack brunch in the breakfast platter :)\n",
      "===\n",
      "nice\n",
      "===\n",
      "very spicy and vada is uncooked.. disappointing\n",
      "===\n"
     ]
    }
   ],
   "source": [
    "from main import ReviewSummaryAgent\n",
    "# fetch data \n",
    "data = fetch_restaurant_data(\"Squeeze @ The Lime\")\n",
    "ratings = data['ratings']\n",
    "reviews = data['reviews']\n",
    "metadata = data['metadata']\n",
    "\n",
    "for r in reviews:\n",
    "    print(r)\n",
    "    print(\"===\")"
   ]
  },
  {
   "cell_type": "code",
   "execution_count": 20,
   "id": "49b74d45",
   "metadata": {},
   "outputs": [
    {
     "name": "stdout",
     "output_type": "stream",
     "text": [
      "The restaurant offers a mix of experiences; while some enjoyed the excellent vegetarian food and memorable service during events, others faced issues with slow service, cold buffet items, and inconsistent food quality, particularly with sizzlers and certain dishes.\n"
     ]
    }
   ],
   "source": [
    "# agent\n",
    "review_summary_agent = ReviewSummaryAgent()\n",
    "result = review_summary_agent.generate_response(reviews)\n",
    "print(result)"
   ]
  },
  {
   "cell_type": "code",
   "execution_count": 21,
   "id": "90f16bf1",
   "metadata": {},
   "outputs": [
    {
     "name": "stdout",
     "output_type": "stream",
     "text": [
      "3 Reviews , 1 Follower\n",
      "===\n",
      "2 Reviews , 1 Follower\n",
      "===\n",
      "11 Reviews , 81 Followers\n",
      "===\n",
      "155 Reviews , 1802 Followers\n",
      "===\n",
      "3 Reviews , 4 Followers\n",
      "===\n",
      "1 Review , 1 Follower\n",
      "===\n",
      "6 Reviews , 30 Followers\n",
      "===\n",
      "2 Reviews , 2 Followers\n",
      "===\n",
      "7 Reviews , 1 Follower\n",
      "===\n",
      "4 Reviews , 12 Followers\n",
      "===\n"
     ]
    }
   ],
   "source": [
    "from main import FollowersParserAgent\n",
    "from main import fetch_restaurant_data\n",
    "\n",
    "# fetch data\n",
    "data = fetch_restaurant_data(\"Squeeze @ The Lime\")\n",
    "ratings = data['ratings']\n",
    "reviews = data['reviews']\n",
    "metadata = data['metadata']\n",
    "\n",
    "for m in metadata:\n",
    "    print(m)\n",
    "    print(\"===\")"
   ]
  },
  {
   "cell_type": "code",
   "execution_count": 22,
   "id": "5b8f527b",
   "metadata": {},
   "outputs": [],
   "source": [
    "# agent\n",
    "followers_parser_agent = FollowersParserAgent()\n",
    "result = followers_parser_agent.generate_response(metadata)"
   ]
  },
  {
   "cell_type": "code",
   "execution_count": 23,
   "id": "f2e03580",
   "metadata": {},
   "outputs": [
    {
     "name": "stdout",
     "output_type": "stream",
     "text": [
      "<class 'int'>\n",
      "[1, 1, 81, 1802, 4, 1, 30, 2, 1, 12]\n"
     ]
    }
   ],
   "source": [
    "print(type(result[0]))\n",
    "print(result)"
   ]
  },
  {
   "cell_type": "code",
   "execution_count": 24,
   "id": "d4c455eb",
   "metadata": {},
   "outputs": [
    {
     "name": "stdout",
     "output_type": "stream",
     "text": [
      "ratings:  [1, 2, 3, 4, 5, 3, 3, 4, 5, 1]\n",
      "reviews:  ['Starters was ok to taste but after effect lasted for days. The colour of the stools was black for almost 5 days from the day we visited that place. My friends experience after having those starters was horrible.She was admitted in hospital.', \"This place is okay at best. The drinks are too diluted with an extra crapload of ice. The live music was really great but didn't fit inside such a place. Cibo house is a much better place if you're looking for some good live music, a peaceful time and some great drinks with friends.\", \"I have been to this place with my friends on a Friday evening as they had Bollywood night starting from 8.\\nThe food was average. They didn't even had Breezer which is disappointing. The service was not that great.\\nAs mentioned earlier, They has Bollywood night which didn't even start till 10pm.\\nFinally,\\nFood - 2.5\\nAmbience - 3\\nService - 3\\nMenu and pricing - 3\", 'The biggest screen in town with a lovely rooftop. But portion size and value for money takes a dip. They have different rules on zomato gold or Dineout. Pricy too !', 'Excellent place to party great corporate offer for lunch and dinner rooftop is awesome as big screen awesome food and drinks good and staff is good sunil who take care of our table... Great place\\nSee u again', 'Pub was superb...rooftop, great ambiance, good music , dance floor but food was ok..most of the popular drinks was not available ☹️.. overall good😊', 'The best hangouts place with friends and girlfriend and it had good dance floor. I got good variety of liquor brands also but the food is main concern in terms of both taste and quantity.for quires contact sujith_reddy12 in instagram\\nSKYHY', \"Had the long island and the salsa nachos, bothered excellent, the nachos were delicious with a smoked after taste which was fantastic, the music and ambiance was on point and honestly first place iv seen who provielde sugar cane stick as a sterer it's a genius idea, good to chew on when you wait for your food! But more than anything it was the manager of the outlet who took the cake in terms of service stand up chap, props to him!\", 'Cocktails are awesome. Great ambience. Food is good. Fish starters are tasty. I seated at rooftop. Nice place to hang out with friends and colleagues.', 'the name resembles this place with their prices(Skyhy).Very bad experience, worst food, worst service. We ordered spicy grill chicken, we couldn’t differentiate whether it was chicken or some other cheap meat. The fish fingers were oily as Hyderabad’s summer sweat! 😂. I would rate 0/5 for this place']\n",
      "metadata:  10\n",
      "[2, 61, 23, 295, 9, 2, 14, 55, 21, 1]\n"
     ]
    }
   ],
   "source": [
    "from main import calculate_overall_rating\n",
    "from main import fetch_restaurant_data\n",
    "from main import FollowersParserAgent\n",
    "import math\n",
    "# fetch data\n",
    "data = fetch_restaurant_data(\"SKYHY\")\n",
    "ratings = data['ratings']\n",
    "reviews = data['reviews']\n",
    "metadata = data['metadata']\n",
    "\n",
    "print(\"ratings: \", ratings)\n",
    "print(\"reviews: \", reviews)\n",
    "print(\"metadata: \", len(metadata))\n",
    "\n",
    "# parse followers\n",
    "followers_parser_agent = FollowersParserAgent()\n",
    "result = followers_parser_agent.generate_response(metadata)\n",
    "print(result)\n",
    "\n",
    "# follower = [2,61,23,295,9,2,14,55,21,1]\n",
    "# weights = [math.log(i+1) for i in follower]\n",
    "# print(weights)\n",
    "# print(follower)\n",
    "\n"
   ]
  },
  {
   "cell_type": "code",
   "execution_count": 25,
   "id": "9e7ca157",
   "metadata": {},
   "outputs": [
    {
     "name": "stdout",
     "output_type": "stream",
     "text": [
      "3.457\n"
     ]
    }
   ],
   "source": [
    "# calculate overall rating\n",
    "overall_rating = calculate_overall_rating(\"SKYHY\", ratings,result)\n",
    "print(overall_rating)"
   ]
  }
 ],
 "metadata": {
  "kernelspec": {
   "display_name": "project3",
   "language": "python",
   "name": "python3"
  },
  "language_info": {
   "codemirror_mode": {
    "name": "ipython",
    "version": 3
   },
   "file_extension": ".py",
   "mimetype": "text/x-python",
   "name": "python",
   "nbconvert_exporter": "python",
   "pygments_lexer": "ipython3",
   "version": "3.10.16"
  }
 },
 "nbformat": 4,
 "nbformat_minor": 5
}
