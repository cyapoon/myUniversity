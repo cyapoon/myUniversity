{
  "nbformat": 4,
  "nbformat_minor": 0,
  "metadata": {
    "colab": {
      "provenance": []
    },
    "kernelspec": {
      "name": "python3",
      "display_name": "Python 3"
    },
    "language_info": {
      "name": "python"
    }
  },
  "cells": [
    {
      "cell_type": "markdown",
      "source": [
        "###Boolean Operation\n",
        "\n",
        "Is ```np.dot(boolean , boolean)``` same as ```np.dot(int , int)``` ?\n",
        "\n",
        "\n",
        "In this case, which type would be suitable for calculating likelihoods?\n",
        "* In numpy, operations such as dot product or sum of two boolean arrays do not produce integer arrays."
      ],
      "metadata": {
        "id": "t_49rB9pwBAU"
      }
    },
    {
      "cell_type": "code",
      "execution_count": 1,
      "metadata": {
        "id": "M5fUdGxdAE1X",
        "colab": {
          "base_uri": "https://localhost:8080/"
        },
        "outputId": "7bbbac5f-8ede-422e-a673-377331deebf6"
      },
      "outputs": [
        {
          "output_type": "stream",
          "name": "stdout",
          "text": [
            "dot_int:\n",
            " 2\n",
            "dot_bool:\n",
            " True\n",
            "sum_int:\n",
            " [1 2 0 2 1]\n",
            "sum_bool:\n",
            " [ True  True False  True  True]\n",
            "logic operation: [ True  True False  True  True]\n"
          ]
        }
      ],
      "source": [
        "import numpy as np\n",
        "\n",
        "a=np.array([0,1,0,1,0])\n",
        "b=np.array([1,1,0,1,1])\n",
        "\n",
        "dot_int=np.dot(a.astype(int),b.astype(int))\n",
        "dot_bool=np.dot(a.astype(bool),b.astype(bool))\n",
        "\n",
        "sum_int=a.astype(int)+b.astype(int)\n",
        "sum_bool=a.astype(bool)+b.astype(bool)\n",
        "\n",
        "print(\"dot_int:\\n\",dot_int)\n",
        "print(\"dot_bool:\\n\",dot_bool)\n",
        "\n",
        "print(\"sum_int:\\n\",sum_int)\n",
        "print(\"sum_bool:\\n\",sum_bool)\n",
        "\n",
        "# logic operation(same as sum_bool)\n",
        "# sum operation with two boolean arrays is regarded as logic operation\n",
        "print(\"logic operation:\",a.astype(bool) | b.astype(bool))"
      ]
    },
    {
      "cell_type": "markdown",
      "source": [
        "###np.astype()"
      ],
      "metadata": {
        "id": "A17xLWyfIzUJ"
      }
    },
    {
      "cell_type": "code",
      "source": [
        "x=np.array([1,2,2.5])\n",
        "\n",
        "# original data type\n",
        "print(x.dtype)\n",
        "\n",
        "# converted data type\n",
        "print(x.astype(int))"
      ],
      "metadata": {
        "id": "c4KKchryI23p",
        "colab": {
          "base_uri": "https://localhost:8080/"
        },
        "outputId": "bbdc5906-8bed-465f-cc9e-1a2bb2e0749f"
      },
      "execution_count": null,
      "outputs": [
        {
          "output_type": "stream",
          "name": "stdout",
          "text": [
            "original data type\n",
            "float64\n",
            "[1 2 2]\n"
          ]
        }
      ]
    },
    {
      "cell_type": "markdown",
      "source": [
        "###Finding Elements\n",
        "[reference(boolean indexing)](https://python-course.eu/numerical-programming/numpy-boolean-indexing.php)"
      ],
      "metadata": {
        "id": "A_-YoAceC07Q"
      }
    },
    {
      "cell_type": "code",
      "source": [
        "count_a_b=a==b # find the same value and return boolean index\n",
        "print(count_a_b)\n",
        "\n",
        "print(np.sum(count_a_b)) # sum of boolean index = number of Trues"
      ],
      "metadata": {
        "id": "6IkkshHkCeAv",
        "colab": {
          "base_uri": "https://localhost:8080/"
        },
        "outputId": "bc7cdcb4-280f-4a1d-98fa-9b3034ac0940"
      },
      "execution_count": null,
      "outputs": [
        {
          "output_type": "stream",
          "name": "stdout",
          "text": [
            "[False  True  True  True False]\n",
            "3\n"
          ]
        }
      ]
    },
    {
      "cell_type": "markdown",
      "source": [
        "###np.amax()"
      ],
      "metadata": {
        "id": "8DtXpTElGOlF"
      }
    },
    {
      "cell_type": "code",
      "source": [
        "a=np.arange(4).reshape((2,2))\n",
        "print(a)\n",
        "\n",
        "print(np.amax(a)) # max value\n",
        "print(np.amax(a, axis=0)) # max value among the same columns\n",
        "print(np.amax(a, axis=1)) # max value among the same rows"
      ],
      "metadata": {
        "id": "FKWBbEe2Cdxk",
        "colab": {
          "base_uri": "https://localhost:8080/"
        },
        "outputId": "dc9883f6-271d-4404-b5e3-3ff58f9f1ce0"
      },
      "execution_count": null,
      "outputs": [
        {
          "output_type": "stream",
          "name": "stdout",
          "text": [
            "[[0 1]\n",
            " [2 3]]\n",
            "3\n",
            "[2 3]\n",
            "[1 3]\n"
          ]
        }
      ]
    },
    {
      "cell_type": "markdown",
      "source": [
        "###np.argmax()"
      ],
      "metadata": {
        "id": "yHD3sZrWHAqV"
      }
    },
    {
      "cell_type": "code",
      "source": [
        "a=np.arange(6).reshape(2,3)+10\n",
        "print(a)\n",
        "\n",
        "print(np.argmax(a)) # index of max value\n",
        "print(np.argmax(a, axis=0)) # index of max value among the same columns\n",
        "print(np.argmax(a,axis=1)) # index of max value among the same rows "
      ],
      "metadata": {
        "id": "UsCjw57AKjLm",
        "colab": {
          "base_uri": "https://localhost:8080/"
        },
        "outputId": "712272d6-835a-4d7f-aa21-76ef1405e3c0"
      },
      "execution_count": null,
      "outputs": [
        {
          "output_type": "stream",
          "name": "stdout",
          "text": [
            "[[10 11 12]\n",
            " [13 14 15]]\n",
            "5\n",
            "[1 1 1]\n",
            "[2 2]\n"
          ]
        }
      ]
    },
    {
      "cell_type": "markdown",
      "source": [
        "###sklearn.preprocessing.LabelEncoder()"
      ],
      "metadata": {
        "id": "TzqsNUCsLn8j"
      }
    },
    {
      "cell_type": "code",
      "source": [
        "#generate labels for the strings\n",
        "from sklearn.preprocessing import LabelEncoder\n",
        "\n",
        "le=LabelEncoder()\n",
        "print(le.fit_transform([\"paris\",\"amsterdam\",\"new york\"]))"
      ],
      "metadata": {
        "id": "jCTwUZN-NK4s",
        "colab": {
          "base_uri": "https://localhost:8080/"
        },
        "outputId": "6255cddc-20a5-4174-be6f-1b0dce18b78a"
      },
      "execution_count": null,
      "outputs": [
        {
          "output_type": "stream",
          "name": "stdout",
          "text": [
            "[2 0 1]\n"
          ]
        }
      ]
    },
    {
      "cell_type": "markdown",
      "source": [
        "###np.expand_dims()"
      ],
      "metadata": {
        "id": "MY98js0fNLYt"
      }
    },
    {
      "cell_type": "code",
      "source": [
        "a=np.array([1,2,3,4])\n",
        "print(a)\n",
        "print(a.shape) #original shape\n",
        "\n",
        "print(\"-------\\n\")\n",
        "b=np.expand_dims(a,axis=0)\n",
        "print(b)\n",
        "print(b.shape) #expanded shape(axis=0)\n",
        "\n",
        "print(\"-------\\n\")\n",
        "c=np.expand_dims(a, axis=1)\n",
        "print(c)\n",
        "print(c.shape) #expanded shape(axis=1)"
      ],
      "metadata": {
        "id": "64Bgp81UN-9e",
        "colab": {
          "base_uri": "https://localhost:8080/"
        },
        "outputId": "63e3aff7-828d-43d5-edfb-82f0f256e83a"
      },
      "execution_count": null,
      "outputs": [
        {
          "output_type": "stream",
          "name": "stdout",
          "text": [
            "[1 2 3 4]\n",
            "(4,)\n",
            "-------\n",
            "\n",
            "[[1 2 3 4]]\n",
            "(1, 4)\n",
            "-------\n",
            "\n",
            "[[1]\n",
            " [2]\n",
            " [3]\n",
            " [4]]\n",
            "(4, 1)\n"
          ]
        }
      ]
    },
    {
      "cell_type": "markdown",
      "source": [
        "###np.squeez()"
      ],
      "metadata": {
        "id": "yw1MutusOtXq"
      }
    },
    {
      "cell_type": "code",
      "source": [
        "x=np.array([[[0],[1],[2]]])\n",
        "print(x)\n",
        "print(x.shape) #original shape\n",
        "\n",
        "print(\"---------\\n\") \n",
        "print(np.squeeze(x))\n",
        "print(np.squeeze(x).shape) #squeezed shape\n",
        "\n",
        "print(\"---------\\n\")\n",
        "print(np.squeeze(x,axis=0).shape)  #squeezed shape(axis=0)\n",
        "#print(np.squeeze(x, axis=1).shape) #error!\n",
        "print(np.squeeze(x,axis=2).shape) #squeezed shape(axis=2)"
      ],
      "metadata": {
        "id": "X2VZJxz1PFiE",
        "colab": {
          "base_uri": "https://localhost:8080/"
        },
        "outputId": "6e5e0144-fa4e-4923-f389-1011c30d85c5"
      },
      "execution_count": null,
      "outputs": [
        {
          "output_type": "stream",
          "name": "stdout",
          "text": [
            "[[[0]\n",
            "  [1]\n",
            "  [2]]]\n",
            "(1, 3, 1)\n",
            "---------\n",
            "\n",
            "[0 1 2]\n",
            "(3,)\n",
            "---------\n",
            "\n",
            "(3, 1)\n",
            "(1, 3)\n"
          ]
        }
      ]
    },
    {
      "cell_type": "markdown",
      "source": [
        "###np.argsort()"
      ],
      "metadata": {
        "id": "0xOHBGLdCnJ4"
      }
    },
    {
      "cell_type": "code",
      "source": [
        "x=np.array([[0,3],[2,2]])\n",
        "\n",
        "ind1=np.argsort(x, axis=0)\n",
        "ind2=np.argsort(x,axis=1)\n",
        "\n",
        "print(\"original x\\n\",x)\n",
        "print(\"--------------\")\n",
        "\n",
        "print(\"Indices of values sorted by axis=0 in numerical order\\n\",ind1)\n",
        "print(\"--------------\")\n",
        "\n",
        "print(\"Indices of values sorted by axis=1 in numerical order\\n\",ind2)\n",
        "print(\"--------------\")\n",
        "\n",
        "\n",
        "\n",
        "#np.take_along_axis() returns sorted values\n",
        "print(np.take_along_axis(x,ind1,axis=0))\n",
        "print(\"--------------\")\n",
        "print(np.take_along_axis(x,ind2,axis=0))"
      ],
      "metadata": {
        "id": "F6t0pZERRhUx",
        "colab": {
          "base_uri": "https://localhost:8080/"
        },
        "outputId": "20ba7cbc-b149-4fc3-ab9b-fa26d1c7df84"
      },
      "execution_count": 8,
      "outputs": [
        {
          "output_type": "stream",
          "name": "stdout",
          "text": [
            "original x\n",
            " [[0 3]\n",
            " [2 2]]\n",
            "--------------\n",
            "Indices of values sorted by axis=0 in numerical order\n",
            " [[0 1]\n",
            " [1 0]]\n",
            "--------------\n",
            "Indices of values sorted by axis=1 in numerical order\n",
            " [[0 1]\n",
            " [0 1]]\n",
            "--------------\n",
            "[[0 2]\n",
            " [2 3]]\n",
            "--------------\n",
            "[[0 2]\n",
            " [0 2]]\n"
          ]
        }
      ]
    },
    {
      "cell_type": "markdown",
      "source": [
        "###np.take()"
      ],
      "metadata": {
        "id": "FzZqmkZ2DxUU"
      }
    },
    {
      "cell_type": "code",
      "source": [
        "a=[4,3,5,7,6,8]\n",
        "indices=[0,1,4]\n",
        "\n",
        "print(np.take(a,indices))\n",
        "\n",
        "print(np.take(a,[[0,1],[2,3]]))"
      ],
      "metadata": {
        "id": "g4UtIjufRlJl",
        "colab": {
          "base_uri": "https://localhost:8080/"
        },
        "outputId": "a88d138e-43b9-46ef-be0c-4bb8f10ba1e3"
      },
      "execution_count": null,
      "outputs": [
        {
          "output_type": "stream",
          "name": "stdout",
          "text": [
            "[4 3 6]\n",
            "[[4 3]\n",
            " [5 7]]\n"
          ]
        }
      ]
    },
    {
      "cell_type": "markdown",
      "source": [
        "###scipy.stats.mode()"
      ],
      "metadata": {
        "id": "f1m_XsFCFOFi"
      }
    },
    {
      "cell_type": "code",
      "source": [
        "from scipy import stats\n",
        "\n",
        "a=np.array([[3,0,3,7],\n",
        "           [3,2,6,2],\n",
        "           [1,7,2,8],\n",
        "           [3,0,6,1],\n",
        "           [3,2,5,5]])\n",
        "print(a)\n",
        "\n",
        "stats.mode(a, keepdims=True) #returns the most common value in each column"
      ],
      "metadata": {
        "id": "oQixtRmkRpSD",
        "colab": {
          "base_uri": "https://localhost:8080/"
        },
        "outputId": "c14686ca-2860-4e1d-a5d0-b92848ccda48"
      },
      "execution_count": 13,
      "outputs": [
        {
          "output_type": "stream",
          "name": "stdout",
          "text": [
            "[[3 0 3 7]\n",
            " [3 2 6 2]\n",
            " [1 7 2 8]\n",
            " [3 0 6 1]\n",
            " [3 2 5 5]]\n"
          ]
        },
        {
          "output_type": "execute_result",
          "data": {
            "text/plain": [
              "ModeResult(mode=array([[3, 0, 6, 1]]), count=array([[4, 2, 2, 1]]))"
            ]
          },
          "metadata": {},
          "execution_count": 13
        }
      ]
    },
    {
      "cell_type": "markdown",
      "source": [
        "###np.array_split()"
      ],
      "metadata": {
        "id": "4EPq_XqLFcR_"
      }
    },
    {
      "cell_type": "code",
      "source": [
        "x=np.arange(8.0)\n",
        "\n",
        "np.array_split(x,3)"
      ],
      "metadata": {
        "id": "HSg7JcisRr_A",
        "colab": {
          "base_uri": "https://localhost:8080/"
        },
        "outputId": "0c082866-44b6-452f-9a45-74864b6ef061"
      },
      "execution_count": null,
      "outputs": [
        {
          "output_type": "execute_result",
          "data": {
            "text/plain": [
              "[array([0., 1., 2.]), array([3., 4., 5.]), array([6., 7.])]"
            ]
          },
          "metadata": {},
          "execution_count": 100
        }
      ]
    },
    {
      "cell_type": "markdown",
      "source": [
        "###np.diagonal()"
      ],
      "metadata": {
        "id": "9I2FVIvA9-1o"
      }
    },
    {
      "cell_type": "code",
      "source": [
        "#extract specific diagonal\n",
        "a=np.arange(9).reshape(3,3)\n",
        "print(a)\n",
        "print(a.diagonal())\n",
        "\n",
        "\n",
        "#create diagonal matrix\n",
        "b=np.zeros([3,3])\n",
        "np.fill_diagonal(b,val=[1,2,3])\n",
        "print(b)"
      ],
      "metadata": {
        "id": "597PRsBaVQsp",
        "colab": {
          "base_uri": "https://localhost:8080/"
        },
        "outputId": "4d9cbbd0-46bc-4365-ac72-8873be5884d5"
      },
      "execution_count": null,
      "outputs": [
        {
          "output_type": "stream",
          "name": "stdout",
          "text": [
            "[[0 1 2]\n",
            " [3 4 5]\n",
            " [6 7 8]]\n",
            "[0 4 8]\n",
            "[[1. 0. 0.]\n",
            " [0. 2. 0.]\n",
            " [0. 0. 3.]]\n"
          ]
        }
      ]
    },
    {
      "cell_type": "markdown",
      "source": [
        "###np.unravel_index"
      ],
      "metadata": {
        "id": "qi2WPAZWBnq1"
      }
    },
    {
      "cell_type": "code",
      "source": [
        "#In our example, unravel=np.unravel_index(index,shape)\n",
        "unravel=np.unravel_index([22,41,37],(7,6))\n",
        "print(unravel)\n",
        "\n",
        "print(\"\\n------------------------\")\n",
        "print(\"How does unravel_index() work? Below is just an example to explain the algorithm\\n\")\n",
        "\n",
        "print(\"First, flatten the matrix. Note that [22,41,37] is indices.\\n\")\n",
        "print(np.arange(np.amax([22,41,37])+1))\n",
        "\n",
        "\n",
        "print(\"\\nSecond, reshape the matrix to (7,6)\")\n",
        "print(np.arange(np.amax([22,41,37])+1).reshape(7,6))\n",
        "\n",
        "\n",
        "print(\"\\nThrid, find the index of [22,41,37] in the reshaped matrix\")\n",
        "print(\"\\nThe indices of 22, 41, and 37 are (3,4), (6,5), (6,1) respectively, which matches to the result of unravel\\n(first array: axis=0, second array: axis=1\")"
      ],
      "metadata": {
        "colab": {
          "base_uri": "https://localhost:8080/"
        },
        "id": "vEbjX7weBsGh",
        "outputId": "25ce0d7c-9d5d-48fa-f08e-c7fa2a7d4819"
      },
      "execution_count": 12,
      "outputs": [
        {
          "output_type": "stream",
          "name": "stdout",
          "text": [
            "(array([3, 6, 6]), array([4, 5, 1]))\n",
            "\n",
            "------------------------\n",
            "How does unravel_index() work? Below is just an example to explain the algorithm\n",
            "\n",
            "First, flatten the matrix. Note that [22,41,37] is indices.\n",
            "\n",
            "[ 0  1  2  3  4  5  6  7  8  9 10 11 12 13 14 15 16 17 18 19 20 21 22 23\n",
            " 24 25 26 27 28 29 30 31 32 33 34 35 36 37 38 39 40 41]\n",
            "\n",
            "Second, reshape the matrix to (7,6)\n",
            "[[ 0  1  2  3  4  5]\n",
            " [ 6  7  8  9 10 11]\n",
            " [12 13 14 15 16 17]\n",
            " [18 19 20 21 22 23]\n",
            " [24 25 26 27 28 29]\n",
            " [30 31 32 33 34 35]\n",
            " [36 37 38 39 40 41]]\n",
            "\n",
            "Thrid, find the index of [22,41,37] in the reshaped matrix\n",
            "\n",
            "The indices of 22, 41, and 37 are (3,4), (6,5), (6,1) respectively, which matches to the result of unravel\n",
            "(first array: axis=0, second array: axis=1\n"
          ]
        }
      ]
    }
  ]
}