{
  "nbformat": 4,
  "nbformat_minor": 0,
  "metadata": {
    "colab": {
      "provenance": [],
      "toc_visible": true
    },
    "kernelspec": {
      "name": "python3",
      "display_name": "Python 3"
    },
    "language_info": {
      "name": "python"
    }
  },
  "cells": [
    {
      "cell_type": "markdown",
      "source": [
        "# **COMP 2211 Exploring Artificial Intelligence** #\n",
        "## Lab 9 Minimax and Alpha-Beta Pruning ##"
      ],
      "metadata": {
        "id": "eWe4wsrm71O0"
      }
    },
    {
      "cell_type": "markdown",
      "source": [
        "## **Lab tasks & Submission scheme**\n",
        "\n",
        "**Lab tasks:** \\\\\n",
        "In this lab, you are required to implement a game, Simple-Nim, using Minimax and Alpha-Beta Pruning.\n",
        "\n",
        " **Submission to ZINC:** \\\\\n",
        " After completing all [TODO] in this notebook, successfully running the code, and achieving the task requirement, please **COPY** all your [TODO] to the template __lab9_task.py__ (do not change the file name). Then, zip __lab9_task.py__ and submit **ONLY** the .zip file to ZINC.\n",
        "\n",
        " Before you submit your codes, please check the ***indentations***. "
      ],
      "metadata": {
        "id": "gD9h66WmEC3l"
      }
    },
    {
      "cell_type": "markdown",
      "source": [
        "## **\bSimple-nim**\n",
        "\n",
        "Simple-nim is a game where several objects are placed in a shared pile, and two players take turns removing the objects from the pile. Each player is required to remove one or more objects on their turn. The player who takes the last object(s) wins the game.\n",
        "(You can play a demo [here](https://www.transum.org/Software/sw/Starter_of_the_day/Starter_May29.asp)) \n",
        "\n",
        "For example, there are 5 objects in a pile, and each player can remove one or two objects. The details are as follows:\n",
        "\n",
        "**Setting**\n",
        "*   5 objects: 🍊🍊🍊🍊🍊\n",
        "*   Player 1: 😆 \n",
        "*   Player 2: 😎 \n",
        "\n",
        "**Turn examples**\n",
        "1. 😆 : Remove 2 objects → remaining objects:🍊🍊🍊\n",
        "2. 😎 : Remove 2 objects → remaining objects:🍊\n",
        "3. 😆 : Remove 1 objects → remaining objects:\n",
        "\n",
        "**Winner:** 😆 \\\\\n",
        "The player who removes the last object(s) wins the game!"
      ],
      "metadata": {
        "id": "WNOWUdimEutB"
      }
    },
    {
      "cell_type": "markdown",
      "source": [
        "## **Minimax algorithm for the Simple-nim game**\n",
        "\n",
        "In this task, you will implement a minimax algorithm for the Simple-nim game.\n",
        "If player1 wins, the terminal score will be 1. Otherwise, the terminal score will be -1. (i.e., The player1 is a maximizer, while player2 is a minimizer.)\n",
        "\n",
        "\\\\\n",
        "The steps are as follows:\n",
        "1.   Construct a game tree\n",
        "2.   Score the leaf nodes: Max wins=1, Min wins=-1\n",
        "3.   **[TODO]** Beginning with the terminal states, determine the score of the predecessor nodes. \n",
        "4.   **[TODO]** From the initial state(i.e., the root of the game tree), Max chooses the move that leads to the highest value(minimax decision).\n",
        "\n"
      ],
      "metadata": {
        "id": "jsVUubHRbijq"
      }
    },
    {
      "cell_type": "markdown",
      "source": [
        "### Before we begin"
      ],
      "metadata": {
        "id": "T7Lo20vpFk3X"
      }
    },
    {
      "cell_type": "markdown",
      "source": [
        "#### Install librarys"
      ],
      "metadata": {
        "id": "THund6lsyyyB"
      }
    },
    {
      "cell_type": "code",
      "source": [
        "!pip install anytree\n",
        "!pip install graphviz\n",
        "!pip install IPython"
      ],
      "metadata": {
        "id": "EaAhKXUkAVTr"
      },
      "execution_count": null,
      "outputs": []
    },
    {
      "cell_type": "markdown",
      "metadata": {
        "id": "uFOU4LbPHx9M"
      },
      "source": [
        "#### Download sample images\n",
        "Run this code cell with these `!wget` Linux commands to connect and login to the COMP2211 course server and download the datasets. Modify the **--user=username** portion with your CSD username. The output will prompt you to enter your CSD password and will not be saved in Google Colab."
      ]
    },
    {
      "cell_type": "code",
      "execution_count": null,
      "metadata": {
        "id": "kIXJa3ZSbrPh"
      },
      "outputs": [],
      "source": [
        "!wget --user=username --ask-password https://course.cse.ust.hk/comp2211/labs/lab9/files/tree_score_A.png\n",
        "!wget --user=username --ask-password https://course.cse.ust.hk/comp2211/labs/lab9/files/tree_score_pruning_A.png"
      ]
    },
    {
      "cell_type": "markdown",
      "source": [
        "### **Construct a complete game tree**\n",
        "> ***To avoid potential debugging issues in the future, please do not change the following codes.*** \n",
        "\n",
        "The following codes will aid you in constructing the game tree. While you do not need to comprehend the code entirely, it will be useful for implementing the upcoming [TODO].\n",
        "\n",
        "We will use `anytree` library in the entire task. You can refer [here](https://anytree.readthedocs.io/en/2.8.0/api/anytree.node.html) to get additional information of anytree library."
      ],
      "metadata": {
        "id": "D7aqfgmQfMMi"
      }
    },
    {
      "cell_type": "code",
      "source": [
        "from anytree.importer import DictImporter\n",
        "from anytree.exporter import UniqueDotExporter\n",
        "from IPython.display import Image\n",
        "\n",
        "class Tree:\n",
        "    def __init__(self,max_items_per_turn):\n",
        "        self.max_items_per_turn=max_items_per_turn\n",
        "\n",
        "    #   input: object_state (number of remaining objects)\n",
        "    #   output: all candidates that can be a new state\n",
        "    def state_candidates(self,object_state):\n",
        "        return [object_state - num_remove for num_remove in range(1,self.max_items_per_turn+1) if num_remove <= object_state]\n",
        "\n",
        "\n",
        "    #   Each node has 'object_state', 'current_player', 'score' attributes\n",
        "    #   If you specify a value for the 'children' attribute, it will be added as a child node.\n",
        "    def construct_tree(self,object_state,current_player):\n",
        "        tree_dict={}\n",
        "        if current_player==\"Max\":  #\"Max\" indicates the maximizer while \"Min\" indicates the minimizer.\n",
        "            tree_dict['object_state']=object_state\n",
        "            tree_dict['current_player']=current_player\n",
        "            tree_dict['score']=None\n",
        "            tree_dict['children']=[\n",
        "                self.construct_tree(new_state,\"Min\")\n",
        "                for new_state in self.state_candidates(object_state)\n",
        "            ]\n",
        "            return tree_dict\n",
        "\n",
        "        else:\n",
        "            tree_dict['object_state']=object_state\n",
        "            tree_dict['current_player']=current_player\n",
        "            tree_dict['score']=None\n",
        "            tree_dict['children']=[\n",
        "                self.construct_tree(new_state,\"Max\")\n",
        "                for new_state in self.state_candidates(object_state)\n",
        "            ]\n",
        "            return tree_dict\n",
        "    \n",
        "\n",
        "    def convert_dict_to_tree(self,tree_dict):\n",
        "        importer = DictImporter()\n",
        "        return importer.import_(tree_dict)\n",
        "\n",
        "\n",
        "    #visualize tree\n",
        "    def export_tree(self,node,is_score_tree,tree_name):\n",
        "        if is_score_tree:\n",
        "            UniqueDotExporter(node,\n",
        "            nodeattrfunc=lambda n: 'label=\"%s:%s\"' % (n.current_player,n.object_state),\n",
        "            edgeattrfunc=lambda n,c:'label=\"%s\"' %(c.score)\n",
        "            ).to_picture(tree_name+\".png\")\n",
        "        else:\n",
        "            node=self.convert_dict_to_tree(node)\n",
        "            UniqueDotExporter(node,\n",
        "                              nodeattrfunc=lambda n: 'label=\"%s:%s\"' % (n.current_player,n.object_state)\n",
        "                              ).to_picture(tree_name+\".png\")"
      ],
      "metadata": {
        "id": "_vZh6aG179mO"
      },
      "execution_count": null,
      "outputs": []
    },
    {
      "cell_type": "markdown",
      "source": [
        "You can check the visualized game tree.\n",
        "Each node consists of [player:number of remaining objects]."
      ],
      "metadata": {
        "id": "R9hg1JIthTMY"
      }
    },
    {
      "cell_type": "code",
      "source": [
        "#The maximum number of objects that each player can remove\n",
        "max_items_per_turn=3\n",
        "\n",
        "#The number of initial objects\n",
        "initial_object=5\n",
        "\n",
        "#Assume that the maximizer starts the game\n",
        "current_player='Max'\n",
        "\n",
        "#get the tree\n",
        "test_tree=Tree(max_items_per_turn)\n",
        "test_tree_dict=test_tree.construct_tree(initial_object,current_player)\n",
        "\n",
        "#tree visualization\n",
        "test_tree.export_tree(test_tree_dict,is_score_tree=False,tree_name=\"tree_test\")\n",
        "Image('tree_test.png',width=1000)"
      ],
      "metadata": {
        "id": "ptGCWwmwg1ux"
      },
      "execution_count": null,
      "outputs": []
    },
    {
      "cell_type": "markdown",
      "source": [
        "### **Task1: Implement minimax**\n",
        "\n",
        ">  *In this task, you will implement **only** `minimax` and `max_move` functions. Please ensure that you have addressed all of the [TODO] items  before submission.*\n",
        "\n",
        "\\\n",
        "\n",
        "**Task 1 [TODO] list :** \\\n",
        "\n",
        "☑️ 　　**[TODO 1]**: Retrieve all possible states and give a score for current node in maximizer's view. \\\n",
        "☑️ 　　**[TODO 2]**: Retrieve all possible states and give a score for current node in minimizer's view.\\\n",
        "☑️ 　　**[TODO 3]**: Get the scores of child nodes and decide the maximizer's action(how many objects to remove).\n",
        "\n",
        "\n",
        "\n",
        "\\\n",
        "\n",
        "You can refer to the following descriptions for clarification:\n",
        "\n",
        "1.   `score_leaves` : Give each leaf node a score.\n",
        "    *   If Max(maximizer) wins, the score will be 1.\n",
        "    *   If Max loses, the score will be -1.\n",
        "\n",
        "2.   `check_leaf`: Check whether the input node is a leaf node. \n",
        "    *   If the node is a leaf node, return the score we set in the `score_leaves` function.\n",
        "\n",
        "\n",
        "\n",
        "3.   `minimax`: Retrieve the game tree, giving a score to each node.\n",
        "    *   If the current node is a Min node: the value is the **minimum** of the children nodes\n",
        "\n",
        "    *   If the current node is a Max node: the value is the **maximum** of the children nodes\n",
        "\n",
        "    *   Search the game tree in a Depth-First manner to find the value of the root. Depth-first search is an algorithm for traversing or searching tree data structures. The algorithm starts at the root node and explores as far as possible along each branch before backtracking.\n",
        "\n",
        "\n",
        "4. `max_action`: Given the scores from `minimax`, the maximizer will remove object(s) that maximize the score.\n",
        "\n",
        "5. `user_input`: Instead of the minimizer, we will take user inputs to play with the maximizer.\n",
        "\n",
        "\\\n",
        "You may use `anytree` library when you call the tree.\n",
        "Please refer to this [link](https://anytree.readthedocs.io/en/2.8.0/api/anytree.node.html)."
      ],
      "metadata": {
        "id": "ClvBfWeob2lZ"
      }
    },
    {
      "cell_type": "code",
      "source": [
        "class Minimax: \n",
        "    def score_leaves(self):\n",
        "        for leaf in self.root.leaves:\n",
        "            if leaf.current_player==\"Max\":\n",
        "                leaf.score=-1\n",
        "            else:\n",
        "                leaf.score=1\n",
        "\n",
        "    def check_leaf(self,node):\n",
        "        if node.is_leaf:\n",
        "            return node.score\n",
        "\n",
        "    def minimax(self,node,current_player):\n",
        "        scores=[]\n",
        "        if (score := self.check_leaf(node)) is not None:\n",
        "            return score\n",
        "\n",
        "        if node.current_player==\"Max\":\n",
        "            '''   \n",
        "            [TODO 1]\n",
        "            Get the children of \"node\".\n",
        "            Then, get the children's scores.\n",
        "            Update the value of node.score to the appropriate score.(to visualize the tree)\n",
        "            Return appropriate value given the player.\n",
        "\n",
        "            * The value of node.score and return value should be same\n",
        "            HINT:\n",
        "            1. You may use \"node.children\" which returns the children of node\n",
        "            2. You may call \"minimax\" function recursively.\n",
        "            '''\n",
        "\n",
        "        else:\n",
        "            '''   \n",
        "            [TODO 2]\n",
        "            Get the children of \"node\".\n",
        "            Then, get the children's scores.\n",
        "            Update the value of node.score to the appropriate score.(to visualize the tree)\n",
        "            Return appropriate value given the player.\n",
        "\n",
        "            * The value of node.score and return value should be same\n",
        "\n",
        "            HINT:\n",
        "            1. The code will be similar to the above [TODO].\n",
        "\n",
        "            '''\n",
        "\n",
        "class Nim(Minimax): # \bWhy Nim takes Minimax? What's the benefit? => You can refer to \"Appendix - Python Inheritance\" section in this notebook.\n",
        "    def __init__(self, max_items_per_turn,root,initial_object,user_first):\n",
        "        super().__init__() # Get fucntions and properties of Minimax. Now, you can call them using \"self.\". (e.g., self.score_leaves())\n",
        "        self.root=root\n",
        "        self.initial_object=initial_object\n",
        "        self.user_first=user_first\n",
        "\n",
        "    def max_action(self,node):\n",
        "        scores=[]\n",
        "        new_states=[]\n",
        "\n",
        "        '''   \n",
        "        [TODO 3]\n",
        "        Get the children of \"node\".\n",
        "        Get a score of each child.\n",
        "\n",
        "        HINT:\n",
        "        1. You may use \"node.children\" which returns the children of node\n",
        "        2. You may call \"minimax\" function to get a score of each child.\n",
        "        '''\n",
        "\n",
        "\n",
        "    def user_input(self,node):\n",
        "        num_remove=int(input(\"Enter the number of objects to remove:\"))\n",
        "        for i in node.children:\n",
        "            if i.object_state==node.object_state-num_remove:\n",
        "                return i\n",
        "        return node\n",
        "\n",
        "    def game_manager(self):\n",
        "        #Score leaf nodes before starting the game\n",
        "        self.score_leaves()\n",
        "        current_node=self.root\n",
        "\n",
        "        for i in range(1,self.initial_object+1):\n",
        "            if i==1:print(f\"Initial Object:{self.initial_object}\")\n",
        "            #User turn\n",
        "            if (i+self.user_first)%2==0:\n",
        "                old_node=current_node\n",
        "                #keep requesting user input until the user enters an appropriate value\n",
        "                while old_node==current_node:\n",
        "                    current_node=self.user_input(current_node)\n",
        "                    if old_node==current_node:\n",
        "                        print(\"wrong input!\")\n",
        "                    else:\n",
        "                        print(f\"USER | Removed {old_node.object_state-current_node.object_state}, Remaining objects: {current_node.object_state}\")\n",
        "\n",
        "                if current_node.object_state==0:\n",
        "                    print('User win')\n",
        "                    break\n",
        "\n",
        "            #Program turn\n",
        "            else:\n",
        "                old_node=current_node\n",
        "                current_node=self.max_action(current_node)\n",
        "                print(f\"PROGRAM | Removed {old_node.object_state-current_node.object_state}, Remaining objects: {current_node.object_state}\")\n",
        "                \n",
        "                if current_node.object_state==0:\n",
        "                    print('Program win')\n",
        "                    break"
      ],
      "metadata": {
        "id": "YuGnZyk5b0XR"
      },
      "execution_count": null,
      "outputs": []
    },
    {
      "cell_type": "markdown",
      "source": [
        "#### **Test 1: Play game**\n",
        "Check yourself by playing with the maximizer! Given your choice, are the maximizer's choices expected? You may refer the score tree in Test2. \\\n",
        "You can set `max_items_per_turn`, `user_turn`, and `initial_object` to your own values when you play.\n",
        "\n",
        "\\* Note that if you want to check whether your code is right or not, please don't modify the setting or set them back to their original values after playing. (If you modify the setting, you will see a different score tree in Test 2.)\n",
        "\n",
        "```\n",
        "#Original Setting\n",
        "max_items_per_turn=2\n",
        "initial_object=5\n",
        "current_player=\"Max\"\n",
        "```\n",
        "\n"
      ],
      "metadata": {
        "id": "LKraW4SceiFk"
      }
    },
    {
      "cell_type": "code",
      "source": [
        "from anytree.node.nodemixin import TreeError\n",
        "from anytree.importer import DictImporter\n",
        "\n",
        "#game setting\n",
        "max_items_per_turn=2\n",
        "initial_object=5\n",
        "user_first=0     #if you want to start the game first, change this value to 1\n",
        "current_player=\"Min\" if user_first==1 else \"Max\"\n",
        "\n",
        "#tree construction\n",
        "tree=Tree(max_items_per_turn)\n",
        "tree_dict=tree.construct_tree(initial_object,current_player)\n",
        "root = tree.convert_dict_to_tree(tree_dict)\n",
        "\n",
        "#initialize the game and call the game manager\n",
        "nim_game=Nim(max_items_per_turn,root,initial_object,user_first)\n",
        "nim_game.game_manager()"
      ],
      "metadata": {
        "id": "GleudjP3Rwcc"
      },
      "execution_count": null,
      "outputs": []
    },
    {
      "cell_type": "markdown",
      "source": [
        "#### **Test 2: Score Tree**\n",
        "Please run the Test1 code cell before running Test2."
      ],
      "metadata": {
        "id": "9-xIBNYm5eQ0"
      }
    },
    {
      "cell_type": "code",
      "source": [
        "print('Your tree')\n",
        "tree.export_tree(root,is_score_tree=True,tree_name=\"tree_score\")\n",
        "Image('tree_score.png',width=700)"
      ],
      "metadata": {
        "id": "fTeAGo-S6mmS"
      },
      "execution_count": null,
      "outputs": []
    },
    {
      "cell_type": "code",
      "source": [
        "print(\"Expected tree:\")\n",
        "Image(\"tree_score_A.png\",width=700)"
      ],
      "metadata": {
        "id": "DUd2vTAAsk06"
      },
      "execution_count": null,
      "outputs": []
    },
    {
      "cell_type": "markdown",
      "source": [
        "## \b**Alpha-beta pruning for the Simple-nim game**"
      ],
      "metadata": {
        "id": "NIskeK5YcJoV"
      }
    },
    {
      "cell_type": "markdown",
      "source": [
        "### **Task2: Implement Alpha-beta Pruning**\n",
        "\n",
        "\n",
        "> In this task, you will implement alpha-beta pruning. Check whether you completed all the [TODO] in task 2.\n",
        "\n",
        "\n",
        "☑️ 　　**[TODO 1]**: Retrieve possible states and get a score of current node in maximizer's view. Then, update alpha if needed. \\\n",
        "☑️ 　　**[TODO 2]**: Retrieve possible states and get a score of current node in minimizer's view. Then, update beta if needed. \\\n",
        "☑️ 　　**[TODO 3]**: Cut off unnecessary nodes based on the alpha and beta.\n",
        "\n"
      ],
      "metadata": {
        "id": "3xa_lu8ezm8y"
      }
    },
    {
      "cell_type": "code",
      "source": [
        "class Minimax_pruning(Minimax):\n",
        "    def __init__(self,root):\n",
        "        super().__init__() # get the functions and properties of parent class(Minimax)\n",
        "        self.root=root\n",
        "\n",
        "    #   We set alpha and beta to -1 and 1, respectively instead of -inf and inf\n",
        "    def minimax_pruning(self, node, current_player, alpha=-1, beta=1):\n",
        "        if (score := self.check_leaf(node)) is not None:\n",
        "            return score\n",
        "\n",
        "        scores = []\n",
        "        for child in node.children:\n",
        "            if current_player==\"Max\":\n",
        "                '''   \n",
        "                [TODO 1]\n",
        "                Get the scores of child and update alpha\n",
        "                HINT:\n",
        "                1. The code can be similar to \"minimax\" function in Task1\n",
        "\n",
        "                '''\n",
        "\n",
        "\n",
        "            else:\n",
        "                '''   \n",
        "                [TODO 2]\n",
        "                Get the scores of child and update beta\n",
        "                HINT:\n",
        "                1. The code can be similar to \"minimax\" function in Task1 and the above [TODO]\n",
        "\n",
        "                '''\n",
        "\n",
        "\n",
        "            '''   \n",
        "            [TODO 3]\n",
        "            Prune the tree according to the alpha and beta.\n",
        "            Update the value of node.score to the appropriate score.(to visualize the tree)\n",
        "            Return the appropriate score.\n",
        "\n",
        "            * The value of node.score and return value should be same\n",
        "            '''\n"
      ],
      "metadata": {
        "id": "buUtyEY11sXR"
      },
      "execution_count": null,
      "outputs": []
    },
    {
      "cell_type": "markdown",
      "source": [
        "### Test: Score tree"
      ],
      "metadata": {
        "id": "on_2mz2m_ryM"
      }
    },
    {
      "cell_type": "code",
      "source": [
        "#tree setting\n",
        "max_items_per_turn=2\n",
        "initial_object=5\n",
        "current_player=\"Max\"\n",
        "\n",
        "#tree construction\n",
        "tree_pr=Tree(max_items_per_turn)\n",
        "tree_dict=tree_pr.construct_tree(initial_object,current_player)\n",
        "root_pr=tree_pr.convert_dict_to_tree(tree_dict)\n",
        "\n",
        "#initialize minimax pruning\n",
        "minimax_pr=Minimax_pruning(root_pr)\n",
        "#score leaf nodes\n",
        "minimax_pr.score_leaves()\n",
        "#run 'minimax + alpha-beta pruning' algorithm\n",
        "minimax_pr.minimax_pruning(root_pr,current_player)\n",
        "\n",
        "#export tree\n",
        "tree_pr.export_tree(root_pr,is_score_tree=True,tree_name=\"tree_score_pruning\")\n",
        "\n",
        "print(\"Your tree:\")\n",
        "Image(\"tree_score_pruning.png\", width=700)"
      ],
      "metadata": {
        "id": "aN9guWMJBDzk"
      },
      "execution_count": null,
      "outputs": []
    },
    {
      "cell_type": "code",
      "source": [
        "print(\"Expected tree:\")\n",
        "Image(\"tree_score_pruning_A.png\",width=700)"
      ],
      "metadata": {
        "id": "y36WdF5-sz5c"
      },
      "execution_count": null,
      "outputs": []
    },
    {
      "cell_type": "markdown",
      "source": [
        "##**Appendix**"
      ],
      "metadata": {
        "id": "zBS0gT8iNSGa"
      }
    },
    {
      "cell_type": "markdown",
      "source": [
        "### **Python Inheritance**\n",
        "\n",
        "In this lab, you will begin by implementing the general Minimax algorithm. Following this, you will repurpose the algorithm to construct the Simple-Nim game and apply Alpha-Beta Pruning. This can be accomplished by simply inheriting the appropriate functions and properties\n",
        "\n",
        "**Inheritance** allows us to define a class that inherits all the methods and properties from another class.\n",
        "\n",
        "**Parent class** is the class being inherited from, also called base class.\n",
        "\n",
        "**Child class** is the class that inherits from another class, also called derived class.\n",
        "\n",
        "In our case, `Minimax` is a parent class while `Nim` and `Minimax_pruning` are child classes.\n",
        "\n",
        "[Python Inheritance](https://www.w3schools.com/python/python_inheritance.asp)\n"
      ],
      "metadata": {
        "id": "NTCvEij2OWTn"
      }
    }
  ]
}